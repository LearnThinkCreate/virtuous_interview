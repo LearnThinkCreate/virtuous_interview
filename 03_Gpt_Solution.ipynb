{
 "cells": [
  {
   "cell_type": "code",
   "execution_count": null,
   "metadata": {},
   "outputs": [],
   "source": [
    "# | default_exp solution_gpt"
   ]
  },
  {
   "cell_type": "markdown",
   "metadata": {},
   "source": [
    "# GPT Solution\n",
    "\n",
    "> Ask GPT to perform the data cleaning <br>\n",
    "<br>\n",
    "- I think LLM's have the potential to be *incredibly* useful in the field of data cleaning / ETL <br>\n",
    "- While some data transformations require thoughtful planning, many require basic knowledge of language <br>\n",
    "    - Example: You need to clean survey results and parse peoples locations but the data's messed up!! <br>\n",
    "        - Some people put cities like 'NYC', 'Windy City', & 'san fran' <br> \n",
    "    - Formating those names isn't difficult, but the task can often be long and frustrating <br>\n",
    "    - I believe problems like this can be solved by AI *right now* and may help improve efficiency <br>\n",
    "- I'm going to demonstrate the usefullness of LLM's in data cleaning though the use of 2 libraries: <br>\n",
    "    1. [openai](https://platform.openai.com/docs/api-reference) <br>\n",
    "    2. [pandas_gpt](https://github.com/rvanasa/pandas-gpt) <br>"
   ]
  },
  {
   "cell_type": "markdown",
   "metadata": {},
   "source": [
    "## Configuring OpenAI Credentials"
   ]
  },
  {
   "cell_type": "code",
   "execution_count": null,
   "metadata": {},
   "outputs": [],
   "source": [
    "# | export\n",
    "import pandas as pd\n",
    "import openai\n",
    "import pandas_gpt\n",
    "import json\n",
    "import os\n",
    "\n",
    "from dotenv import load_dotenv\n",
    "from virtuous_interview.utils import contacts, contact_methods, gifts\n",
    "from nbdev.showdoc import *"
   ]
  },
  {
   "cell_type": "code",
   "execution_count": null,
   "metadata": {},
   "outputs": [],
   "source": [
    "# | export\n",
    "load_dotenv()"
   ]
  },
  {
   "cell_type": "code",
   "execution_count": null,
   "metadata": {},
   "outputs": [],
   "source": [
    "# | exports\n",
    "openai.api_key = os.getenv(\"OPENAI_API_KEY\")"
   ]
  },
  {
   "cell_type": "code",
   "execution_count": null,
   "metadata": {},
   "outputs": [],
   "source": [
    "# |export\n",
    "class GptPrompt:\n",
    "    \"\"\"Class For sending messages to Open AI  using GPT-3.5 Turbo\"\"\"\n",
    "\n",
    "    def __init__(self, messages):\n",
    "        self.messages = messages\n",
    "\n",
    "    def add_data(self, data):\n",
    "        messages = self.messages[:]\n",
    "\n",
    "        messages.append({\"role\": \"user\", \"content\": data})\n",
    "\n",
    "        return messages\n",
    "\n",
    "    def call_gpt(self, data, model=\"gpt-3.5-turbo-16k\"):\n",
    "        response = openai.ChatCompletion.create(\n",
    "            model=model,\n",
    "            messages=self.add_data(data),\n",
    "            temperature=0.1,\n",
    "            max_tokens=11520,\n",
    "            top_p=0.5,\n",
    "            frequency_penalty=0,\n",
    "            presence_penalty=0,\n",
    "        )\n",
    "\n",
    "        return json.loads(response.choices[0][\"message\"][\"content\"])"
   ]
  },
  {
   "cell_type": "code",
   "execution_count": null,
   "metadata": {},
   "outputs": [],
   "source": [
    "# |exporti\n",
    "def to_csl(pd_series):\n",
    "    return \",\".join(pd_series.dropna().unique())"
   ]
  },
  {
   "cell_type": "markdown",
   "metadata": {},
   "source": [
    "# OpenAI Solutoins\n",
    "> Solutions to a subeset of the data modifications using OpenAI API :)"
   ]
  },
  {
   "cell_type": "markdown",
   "metadata": {},
   "source": [
    "## CreditCardType\n",
    "> Can only be Visa, Mastercard, AMEX, Discover<br>\n",
    "<br>\n",
    "- Solution: <br>\n",
    "    - Asking Chat GPT to format the unique CreditCardTypes into the pre-approved list of values <br>"
   ]
  },
  {
   "cell_type": "code",
   "execution_count": null,
   "metadata": {},
   "outputs": [],
   "source": [
    "# |exports\n",
    "credit_card_prompt = [\n",
    "    {\n",
    "        \"role\": \"system\",\n",
    "        \"content\": \"\"\"\n",
    "      You will be given a comma separated list of items. \n",
    "      Each item is supposed to be a unique credit card type taken from a column on a database table. \n",
    "      The only acceptable credit card types are [Visa, Mastercard, AMEX, Discover]\n",
    "      Your job is to examine each item in the list to see if it matches one of the acceptable credit card types or not.\n",
    "      For each item in the list that is not ALREADY in the list of acceptable credit card types you will need to provide which credit card type it matches with. \n",
    "      If a item doesn't match ANY of the acceptable credit card types [Visa, Mastercard, AMEX, Discover] then match it with an empty string ''\n",
    "      Format your response in JSON\n",
    "      \"\"\",\n",
    "    },\n",
    "    {\n",
    "        \"role\": \"user\",\n",
    "        \"content\": \"Americn Ex,AMEX,Visa,Master car,Mastercard,Discover,Jazz\",\n",
    "    },\n",
    "    {\n",
    "        \"role\": \"assistant\",\n",
    "        \"content\": \"\"\"{\n",
    "              \"Americn Ex\": \"AMEX\",\n",
    "              \"Master car\": \"Mastercard\",\n",
    "              \"Jazz\":\"\"\n",
    "          }\n",
    "          \"\"\",\n",
    "    },\n",
    "]"
   ]
  },
  {
   "cell_type": "code",
   "execution_count": null,
   "metadata": {},
   "outputs": [],
   "source": [
    "# |exports\n",
    "CreditCardCleaner = GptPrompt(messages=credit_card_prompt)"
   ]
  },
  {
   "cell_type": "code",
   "execution_count": null,
   "metadata": {},
   "outputs": [],
   "source": [
    "# |exports\n",
    "values_to_replace = CreditCardCleaner.call_gpt(to_csl(gifts[\"CreditCardType\"]))"
   ]
  },
  {
   "cell_type": "code",
   "execution_count": null,
   "metadata": {},
   "outputs": [],
   "source": [
    "values_to_replace"
   ]
  },
  {
   "cell_type": "code",
   "execution_count": null,
   "metadata": {},
   "outputs": [],
   "source": [
    "# |exports\n",
    "gifts[\"CreditCardType\"] = gifts[\"CreditCardType\"].replace(values_to_replace)"
   ]
  },
  {
   "cell_type": "markdown",
   "metadata": {},
   "source": [
    "## GiftType\n",
    "> Can only be Cash, Check, Credit, Other, or Reversing Transaction <br>\n",
    "<br>\n",
    "- Solution: <br>\n",
    "    - Asking Chat GPT to format the unique GiftTypes into the pre-approved list of values <br>\n",
    "    - Replace 'Reversing Transaction' using simple logic in Python <br>"
   ]
  },
  {
   "cell_type": "code",
   "execution_count": null,
   "metadata": {},
   "outputs": [],
   "source": [
    "# |exports\n",
    "gift_type_prompt = [\n",
    "    {\n",
    "        \"role\": \"system\",\n",
    "        \"content\": \"\"\"\n",
    "          You will be given a comma separated list of items. \n",
    "          Each item is supposed to be a unique payment method taken from a column on a database table. \n",
    "          The only acceptable payment methods are [Cash, Check, Credit, or Other]\n",
    "          Your job is to examine each item in the list to see if it matches one of the acceptable payment methods or not. If it doesn't map to \n",
    "          For each item in the list that is not ALREADY in the list of acceptable payment method  you will need to provide which payment method  type it matches with\n",
    "          Format your response in JSON\n",
    "          \"\"\",\n",
    "    },\n",
    "    {\"role\": \"user\", \"content\": \"$,cash,Credit,AMEX,Square\"},\n",
    "    {\n",
    "        \"role\": \"assistant\",\n",
    "        \"content\": \"\"\"{\n",
    "                  \"$: \"Cash\",\n",
    "                  \"cash: \"Cash\",\n",
    "                  \"AMEX\":\"Credit\",\n",
    "                  \"Square\":\"Other\",\n",
    "                  \n",
    "              }\n",
    "              \"\"\",\n",
    "    },\n",
    "]"
   ]
  },
  {
   "cell_type": "code",
   "execution_count": null,
   "metadata": {},
   "outputs": [],
   "source": [
    "# |exports\n",
    "GiftTypeCleaner = GptPrompt(messages=gift_type_prompt)"
   ]
  },
  {
   "cell_type": "code",
   "execution_count": null,
   "metadata": {},
   "outputs": [],
   "source": [
    "# |exports\n",
    "values_to_replace = GiftTypeCleaner.call_gpt(to_csl(gifts[\"PaymentMethod\"]))\n",
    "values_to_replace[\"\"] = \"Other\""
   ]
  },
  {
   "cell_type": "code",
   "execution_count": null,
   "metadata": {},
   "outputs": [],
   "source": [
    "values_to_replace"
   ]
  },
  {
   "cell_type": "code",
   "execution_count": null,
   "metadata": {},
   "outputs": [],
   "source": [
    "# | exports\n",
    "gifts.apply(\n",
    "    lambda row: (\n",
    "        \"Reversing Transaction\"\n",
    "        if row[\"AmountReceived\"] < 0\n",
    "        else values_to_replace[row[\"PaymentMethod\"]]\n",
    "    ),\n",
    "    axis=1,\n",
    ")"
   ]
  },
  {
   "cell_type": "markdown",
   "metadata": {},
   "source": [
    "# Pandas GPT Solutions"
   ]
  },
  {
   "cell_type": "markdown",
   "metadata": {},
   "source": []
  },
  {
   "cell_type": "markdown",
   "metadata": {},
   "source": [
    "## ContactType\n",
    "`is required and can only be Household or Organization <br>\n",
    "<br>\n",
    "- Source Table: Contacts Table <br>\n",
    "- Solution: <br>\n",
    "    - Create procedure to add new column ContactType <br>"
   ]
  },
  {
   "cell_type": "code",
   "execution_count": null,
   "metadata": {},
   "outputs": [],
   "source": [
    "# |exports\n",
    "df = contacts.copy()\n",
    "gpt_response = df.ask(\n",
    "    \"create a new column called ContactType. The value is required and can only be either Household or Organization. If CompanyName is '' assume it's a household\"\n",
    ")\n",
    "gpt_response[[\"Number\", \"CompanyName\", \"ContactType\"]].head(5)"
   ]
  },
  {
   "cell_type": "markdown",
   "metadata": {},
   "source": [
    "## Postal Code\n",
    "> if address is present and is US, must be a valid zip code, either 12345 or 12345-1234 <br>\n",
    "<br>\n",
    "- Source Table: Contacts\n",
    "- Solution:\n",
    "    - Create procedure to remove any postal codees that doesn't match the approved format from the [usps](https://pe.usps.com/archive/html/dmmarchive20030810/A010.htm)"
   ]
  },
  {
   "cell_type": "code",
   "execution_count": null,
   "metadata": {},
   "outputs": [],
   "source": [
    "contacts[[\"Postal\"]]"
   ]
  },
  {
   "cell_type": "code",
   "execution_count": null,
   "metadata": {},
   "outputs": [],
   "source": [
    "# |exports\n",
    "df = contacts.copy()\n",
    "gpt_response = df.ask(\n",
    "    \"Clean the Postal Column. If address is present and is US, must be a valid zip code, either 12345 or 12345-1234. Don't delete rows with an invalid zip, just replace the invalid zip with ''\"\n",
    ")\n",
    "gpt_response[[\"Postal\"]]"
   ]
  },
  {
   "cell_type": "markdown",
   "metadata": {},
   "source": [
    "## IsDeceased\n",
    "> can only be TRUE or FALSE <br>\n",
    "<br>\n",
    "- Source Table: Contacts <br>\n",
    "- Solution: <br>\n",
    "    - Create procedure to update Deceased to TRUE/FALSE <br>"
   ]
  },
  {
   "cell_type": "code",
   "execution_count": null,
   "metadata": {},
   "outputs": [],
   "source": [
    "gpt_response.Deceased.unique()"
   ]
  },
  {
   "cell_type": "code",
   "execution_count": null,
   "metadata": {},
   "outputs": [],
   "source": [
    "# |exports\n",
    "df = contacts.copy()\n",
    "gpt_response = df.ask(\n",
    "    \"Can you convert the Deceased column to a boolean. Assume empty strings \"\n",
    "    \" are False\"\n",
    ")\n",
    "gpt_response.Deceased.unique()"
   ]
  },
  {
   "cell_type": "markdown",
   "metadata": {},
   "source": [
    "# Export"
   ]
  },
  {
   "cell_type": "code",
   "execution_count": null,
   "metadata": {},
   "outputs": [],
   "source": [
    "import nbdev"
   ]
  },
  {
   "cell_type": "code",
   "execution_count": null,
   "metadata": {},
   "outputs": [],
   "source": [
    "nbdev.nbdev_export(\"03_Gpt_Solution.ipynb\")"
   ]
  }
 ],
 "metadata": {
  "kernelspec": {
   "display_name": "virtuous",
   "language": "python",
   "name": "python3"
  }
 },
 "nbformat": 4,
 "nbformat_minor": 2
}
