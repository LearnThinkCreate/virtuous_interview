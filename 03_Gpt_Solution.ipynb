{
 "cells": [
  {
   "cell_type": "code",
   "execution_count": null,
   "metadata": {},
   "outputs": [],
   "source": [
    "#| default_exp solution_gpt"
   ]
  },
  {
   "cell_type": "markdown",
   "metadata": {},
   "source": [
    "# GPT Solution\n",
    "\n",
    "`Ask GPT to perform the data cleaning` <br>\n",
    "<br>\n",
    "- I think LLM's have the potential to be *incredibly* useful in the field of data cleaning / ETL <br>\n",
    "- While some data transformations require thoughtful planning, many require basic knowledge of language <br>\n",
    "    - Example: You need to clean survey results and parse peoples locations but the data's messed up!! <br>\n",
    "        - Some people put cities like 'NYC', 'Windy City', & 'san fran' <br> \n",
    "    - Formating those names isn't difficult, but the task can often be long and frustrating <br>\n",
    "    - I believe problems like this can be solved by AI *right now* and may help improve efficiency <br>\n",
    "- I'm going to demonstrate the usefullness of LLM's in data cleaning though the use of 2 libraries: <br>\n",
    "    1. [openai](https://platform.openai.com/docs/api-reference) <br>\n",
    "    2. [pandas_gpt](https://github.com/rvanasa/pandas-gpt) <br>"
   ]
  },
  {
   "cell_type": "markdown",
   "metadata": {},
   "source": [
    "## Configuring OpenAI Credentials"
   ]
  },
  {
   "cell_type": "code",
   "execution_count": null,
   "metadata": {},
   "outputs": [],
   "source": [
    "#| export\n",
    "import pandas as pd\n",
    "import openai\n",
    "import pandas_gpt\n",
    "import json\n",
    "\n",
    "from dotenv import dotenv_values\n",
    "from virtuous_interview.utils import contacts, contact_methods, gifts\n",
    "from nbdev.showdoc import *"
   ]
  },
  {
   "cell_type": "code",
   "execution_count": null,
   "metadata": {},
   "outputs": [],
   "source": [
    "#| export\n",
    "openai.api_key = dotenv_values()['OPENAI_API_KEY']"
   ]
  },
  {
   "cell_type": "markdown",
   "metadata": {},
   "source": [
    "## GptPrompt\n",
    "`Class For sending messages to Open AI` <br>\n",
    "<br>\n",
    "\n",
    "Simple class to make reusing a prompt easier"
   ]
  },
  {
   "cell_type": "code",
   "execution_count": null,
   "metadata": {},
   "outputs": [],
   "source": [
    "#|export solution_gpt\n",
    "class GptPrompt:\n",
    "    def __init__(self, messages):\n",
    "        self.messages = messages\n",
    "\n",
    "    def add_data(self, data): \n",
    "        messages = self.messages[:]\n",
    "\n",
    "        messages.append({\n",
    "          \"role\": \"user\",\n",
    "          \"content\": data\n",
    "        })\n",
    "        \n",
    "        return messages\n",
    "    \n",
    "    def call_gpt(self, data, model=\"gpt-3.5-turbo-16k-0613\"):\n",
    "        response = openai.ChatCompletion.create(\n",
    "            model=model, \n",
    "            messages=self.add_data(data),\n",
    "            temperature=.1,\n",
    "            max_tokens=11520,\n",
    "            top_p=.5,\n",
    "            frequency_penalty=0,\n",
    "            presence_penalty=0\n",
    "        )\n",
    "\n",
    "        return json.loads(response.choices[0]['message']['content'])"
   ]
  },
  {
   "cell_type": "markdown",
   "metadata": {},
   "source": [
    "### to_csl\n",
    "`Formats pd series to a comma seperated list of unique values`"
   ]
  },
  {
   "cell_type": "code",
   "execution_count": null,
   "metadata": {},
   "outputs": [],
   "source": [
    "#|export solution_gpt\n",
    "def to_csl(pd_series): return ','.join(pd_series.dropna().unique())"
   ]
  },
  {
   "cell_type": "markdown",
   "metadata": {},
   "source": [
    "# OpenAI Solutoins\n",
    "`Solutions to a subeset of the data modifications using OpenAI API :)`"
   ]
  },
  {
   "cell_type": "markdown",
   "metadata": {},
   "source": [
    "## CreditCardType\n",
    "`Can only be Visa, Mastercard, AMEX, Discover`<br>\n",
    "<br>\n",
    "- Solution: <br>\n",
    "    - Asking Chat GPT to format the unique CreditCardTypes into the pre-approved list of values <br>"
   ]
  },
  {
   "cell_type": "code",
   "execution_count": null,
   "metadata": {},
   "outputs": [],
   "source": [
    "#|export solution_gpt\n",
    "credit_card_prompt =[ \n",
    "    {\n",
    "      \"role\": \"system\",\n",
    "      \"content\": \"\"\"\n",
    "      You will be given a comma separated list of items. \n",
    "      Each item is supposed to be a unique credit card type taken from a column on a database table. \n",
    "      The only acceptable credit card types are [Visa, Mastercard, AMEX, Discover]\n",
    "      Your job is to examine each item in the list to see if it matches one of the acceptable credit card types or not.\n",
    "      For each item in the list that is not ALREADY in the list of acceptable credit card types you will need to provide which credit card type it matches with. \n",
    "      If a item doesn't match ANY of the acceptable credit card types [Visa, Mastercard, AMEX, Discover] then match it with an empty string ''\n",
    "      Format your response in JSON\n",
    "      \"\"\"\n",
    "    },\n",
    "    {\n",
    "      \"role\": \"user\",\n",
    "      \"content\": \"Americn Ex,AMEX,Visa,Master car,Mastercard,Discover,Jazz\"\n",
    "    },\n",
    "    {\n",
    "      \"role\": \"assistant\",\n",
    "      \"content\": \"\"\"{\n",
    "              \"Americn Ex\": \"AMEX\",\n",
    "              \"Master car\": \"Mastercard\",\n",
    "              \"Jazz\":\"\"\n",
    "          }\n",
    "          \"\"\"\n",
    "    },\n",
    "]"
   ]
  },
  {
   "cell_type": "code",
   "execution_count": null,
   "metadata": {},
   "outputs": [],
   "source": [
    "#|export solution_gpt\n",
    "CreditCardCleaner = GptPrompt(messages=credit_card_prompt)"
   ]
  },
  {
   "cell_type": "code",
   "execution_count": null,
   "metadata": {},
   "outputs": [],
   "source": [
    "#|export solution_gpt\n",
    "values_to_replace = CreditCardCleaner.call_gpt(to_csl(gifts['CreditCardType']))"
   ]
  },
  {
   "cell_type": "code",
   "execution_count": null,
   "metadata": {},
   "outputs": [
    {
     "data": {
      "text/plain": [
       "{'American Ex': 'AMEX', 'Master card': 'Mastercard', '': ''}"
      ]
     },
     "execution_count": null,
     "metadata": {},
     "output_type": "execute_result"
    }
   ],
   "source": [
    "values_to_replace"
   ]
  },
  {
   "cell_type": "code",
   "execution_count": null,
   "metadata": {},
   "outputs": [],
   "source": [
    "#|export solution_gpt\n",
    "gifts['CreditCardType'] = gifts['CreditCardType'].replace(values_to_replace)"
   ]
  },
  {
   "cell_type": "markdown",
   "metadata": {},
   "source": [
    "## GiftType\n",
    "`Can only be Cash, Check, Credit, Other, or Reversing Transaction` <br>\n",
    "<br>\n",
    "- Solution: <br>\n",
    "    - Asking Chat GPT to format the unique GiftTypes into the pre-approved list of values <br>\n",
    "    - Replace 'Reversing Transaction' using simple logic in Python <br>"
   ]
  },
  {
   "cell_type": "code",
   "execution_count": null,
   "metadata": {},
   "outputs": [],
   "source": [
    "#|export solution_gpt\n",
    "gift_type_prompt = [\n",
    "        {\n",
    "          \"role\": \"system\",\n",
    "          \"content\": \"\"\"\n",
    "          You will be given a comma separated list of items. \n",
    "          Each item is supposed to be a unique payment method taken from a column on a database table. \n",
    "          The only acceptable payment methods are [Cash, Check, Credit, or Other]\n",
    "          Your job is to examine each item in the list to see if it matches one of the acceptable payment methods or not. If it doesn't map to \n",
    "          For each item in the list that is not ALREADY in the list of acceptable payment method  you will need to provide which payment method  type it matches with\n",
    "          Format your response in JSON\n",
    "          \"\"\"\n",
    "        },\n",
    "        {\n",
    "          \"role\": \"user\",\n",
    "          \"content\": \"$,cash,Credit,AMEX,Square\"\n",
    "        },\n",
    "        {\n",
    "          \"role\": \"assistant\",\n",
    "          \"content\": \"\"\"{\n",
    "                  \"$: \"Cash\",\n",
    "                  \"cash: \"Cash\",\n",
    "                  \"AMEX\":\"Credit\",\n",
    "                  \"Square\":\"Other\",\n",
    "                  \n",
    "              }\n",
    "              \"\"\"\n",
    "        },\n",
    "      ]"
   ]
  },
  {
   "cell_type": "code",
   "execution_count": null,
   "metadata": {},
   "outputs": [],
   "source": [
    "#|export solution_gpt\n",
    "GiftTypeCleaner = GptPrompt(messages=gift_type_prompt)"
   ]
  },
  {
   "cell_type": "code",
   "execution_count": null,
   "metadata": {},
   "outputs": [],
   "source": [
    "#|export solution_gpt\n",
    "values_to_replace = GiftTypeCleaner.call_gpt(to_csl(gifts['PaymentMethod']))\n",
    "values_to_replace[''] = 'Other'"
   ]
  },
  {
   "cell_type": "code",
   "execution_count": null,
   "metadata": {},
   "outputs": [
    {
     "data": {
      "text/plain": [
       "{'PayPal': 'Other',\n",
       " 'check': 'Check',\n",
       " 'cash': 'Cash',\n",
       " 'credit card': 'Credit',\n",
       " 'money order': 'Other',\n",
       " '': 'Other'}"
      ]
     },
     "execution_count": null,
     "metadata": {},
     "output_type": "execute_result"
    }
   ],
   "source": [
    "values_to_replace"
   ]
  },
  {
   "cell_type": "code",
   "execution_count": null,
   "metadata": {},
   "outputs": [
    {
     "data": {
      "text/plain": [
       "0                     Other\n",
       "1                     Check\n",
       "2                      Cash\n",
       "3                    Credit\n",
       "4                      Cash\n",
       "5                     Other\n",
       "6                     Check\n",
       "7                     Check\n",
       "8                     Check\n",
       "9                    Credit\n",
       "10                   Credit\n",
       "11                    Other\n",
       "12                    Check\n",
       "13    Reversing Transaction\n",
       "14                    Other\n",
       "15                    Other\n",
       "16                     Cash\n",
       "17                    Other\n",
       "18                    Other\n",
       "19                    Other\n",
       "20                    Check\n",
       "21                   Credit\n",
       "22                     Cash\n",
       "23                    Other\n",
       "24                    Other\n",
       "25                     Cash\n",
       "26    Reversing Transaction\n",
       "27                   Credit\n",
       "28                     Cash\n",
       "29                    Other\n",
       "30                   Credit\n",
       "dtype: object"
      ]
     },
     "execution_count": null,
     "metadata": {},
     "output_type": "execute_result"
    }
   ],
   "source": [
    "#| export solution_gpt\n",
    "gifts.apply(lambda row: 'Reversing Transaction' if row['AmountReceived'] < 0 else values_to_replace[row['PaymentMethod']], axis=1)"
   ]
  },
  {
   "cell_type": "markdown",
   "metadata": {},
   "source": [
    "# Pandas GPT Solutions"
   ]
  },
  {
   "cell_type": "markdown",
   "metadata": {},
   "source": []
  },
  {
   "cell_type": "markdown",
   "metadata": {},
   "source": [
    "## ContactType\n",
    "`is required and can only be Household or Organization <br>\n",
    "<br>\n",
    "- Source Table: Contacts Table <br>\n",
    "- Solution: <br>\n",
    "    - Create procedure to add new column ContactType <br>"
   ]
  },
  {
   "cell_type": "code",
   "execution_count": null,
   "metadata": {},
   "outputs": [
    {
     "data": {
      "text/html": [
       "<div>\n",
       "<style scoped>\n",
       "    .dataframe tbody tr th:only-of-type {\n",
       "        vertical-align: middle;\n",
       "    }\n",
       "\n",
       "    .dataframe tbody tr th {\n",
       "        vertical-align: top;\n",
       "    }\n",
       "\n",
       "    .dataframe thead th {\n",
       "        text-align: right;\n",
       "    }\n",
       "</style>\n",
       "<table border=\"1\" class=\"dataframe\">\n",
       "  <thead>\n",
       "    <tr style=\"text-align: right;\">\n",
       "      <th></th>\n",
       "      <th>Number</th>\n",
       "      <th>CompanyName</th>\n",
       "      <th>ContactType</th>\n",
       "    </tr>\n",
       "  </thead>\n",
       "  <tbody>\n",
       "    <tr>\n",
       "      <th>0</th>\n",
       "      <td>653377813-7</td>\n",
       "      <td></td>\n",
       "      <td>Household</td>\n",
       "    </tr>\n",
       "    <tr>\n",
       "      <th>1</th>\n",
       "      <td>390551098-7</td>\n",
       "      <td></td>\n",
       "      <td>Household</td>\n",
       "    </tr>\n",
       "    <tr>\n",
       "      <th>2</th>\n",
       "      <td>093004505-X</td>\n",
       "      <td></td>\n",
       "      <td>Household</td>\n",
       "    </tr>\n",
       "    <tr>\n",
       "      <th>3</th>\n",
       "      <td>729707142-0</td>\n",
       "      <td>A Company Co.</td>\n",
       "      <td>Organization</td>\n",
       "    </tr>\n",
       "    <tr>\n",
       "      <th>4</th>\n",
       "      <td>488464926-5</td>\n",
       "      <td></td>\n",
       "      <td>Household</td>\n",
       "    </tr>\n",
       "  </tbody>\n",
       "</table>\n",
       "</div>"
      ],
      "text/plain": [
       "        Number    CompanyName   ContactType\n",
       "0  653377813-7                    Household\n",
       "1  390551098-7                    Household\n",
       "2  093004505-X                    Household\n",
       "3  729707142-0  A Company Co.  Organization\n",
       "4  488464926-5                    Household"
      ]
     },
     "execution_count": null,
     "metadata": {},
     "output_type": "execute_result"
    }
   ],
   "source": [
    "#|export solution_gpt\n",
    "df = contacts.copy()\n",
    "gpt_response = df.ask(\"create a new column called ContactType. The value is required and can only be either Household or Organization. If CompanyName is '' assume it's a household\")\n",
    "gpt_response[['Number', 'CompanyName', 'ContactType']].head(5)"
   ]
  },
  {
   "cell_type": "markdown",
   "metadata": {},
   "source": [
    "## Postal Code\n",
    "`if address is present and is US, must be a valid zip code, either 12345 or 12345-1234` <br>\n",
    "<br>\n",
    "- Source Table: Contacts\n",
    "- Solution:\n",
    "    - Create procedure to remove any postal codees that doesn't match the approved format from the [usps](https://pe.usps.com/archive/html/dmmarchive20030810/A010.htm)"
   ]
  },
  {
   "cell_type": "code",
   "execution_count": null,
   "metadata": {},
   "outputs": [
    {
     "data": {
      "text/html": [
       "<div>\n",
       "<style scoped>\n",
       "    .dataframe tbody tr th:only-of-type {\n",
       "        vertical-align: middle;\n",
       "    }\n",
       "\n",
       "    .dataframe tbody tr th {\n",
       "        vertical-align: top;\n",
       "    }\n",
       "\n",
       "    .dataframe thead th {\n",
       "        text-align: right;\n",
       "    }\n",
       "</style>\n",
       "<table border=\"1\" class=\"dataframe\">\n",
       "  <thead>\n",
       "    <tr style=\"text-align: right;\">\n",
       "      <th></th>\n",
       "      <th>Postal</th>\n",
       "    </tr>\n",
       "  </thead>\n",
       "  <tbody>\n",
       "    <tr>\n",
       "      <th>0</th>\n",
       "      <td>20535-871</td>\n",
       "    </tr>\n",
       "    <tr>\n",
       "      <th>1</th>\n",
       "      <td>89130</td>\n",
       "    </tr>\n",
       "    <tr>\n",
       "      <th>2</th>\n",
       "      <td></td>\n",
       "    </tr>\n",
       "    <tr>\n",
       "      <th>3</th>\n",
       "      <td>8104</td>\n",
       "    </tr>\n",
       "    <tr>\n",
       "      <th>4</th>\n",
       "      <td>49560</td>\n",
       "    </tr>\n",
       "    <tr>\n",
       "      <th>5</th>\n",
       "      <td>837016</td>\n",
       "    </tr>\n",
       "    <tr>\n",
       "      <th>6</th>\n",
       "      <td></td>\n",
       "    </tr>\n",
       "    <tr>\n",
       "      <th>7</th>\n",
       "      <td>30066</td>\n",
       "    </tr>\n",
       "    <tr>\n",
       "      <th>8</th>\n",
       "      <td>68164</td>\n",
       "    </tr>\n",
       "    <tr>\n",
       "      <th>9</th>\n",
       "      <td></td>\n",
       "    </tr>\n",
       "    <tr>\n",
       "      <th>10</th>\n",
       "      <td></td>\n",
       "    </tr>\n",
       "  </tbody>\n",
       "</table>\n",
       "</div>"
      ],
      "text/plain": [
       "       Postal\n",
       "0   20535-871\n",
       "1       89130\n",
       "2            \n",
       "3        8104\n",
       "4       49560\n",
       "5      837016\n",
       "6            \n",
       "7       30066\n",
       "8       68164\n",
       "9            \n",
       "10           "
      ]
     },
     "execution_count": null,
     "metadata": {},
     "output_type": "execute_result"
    }
   ],
   "source": [
    "contacts[['Postal']]"
   ]
  },
  {
   "cell_type": "code",
   "execution_count": null,
   "metadata": {},
   "outputs": [
    {
     "data": {
      "text/html": [
       "<div>\n",
       "<style scoped>\n",
       "    .dataframe tbody tr th:only-of-type {\n",
       "        vertical-align: middle;\n",
       "    }\n",
       "\n",
       "    .dataframe tbody tr th {\n",
       "        vertical-align: top;\n",
       "    }\n",
       "\n",
       "    .dataframe thead th {\n",
       "        text-align: right;\n",
       "    }\n",
       "</style>\n",
       "<table border=\"1\" class=\"dataframe\">\n",
       "  <thead>\n",
       "    <tr style=\"text-align: right;\">\n",
       "      <th></th>\n",
       "      <th>Postal</th>\n",
       "    </tr>\n",
       "  </thead>\n",
       "  <tbody>\n",
       "    <tr>\n",
       "      <th>0</th>\n",
       "      <td></td>\n",
       "    </tr>\n",
       "    <tr>\n",
       "      <th>1</th>\n",
       "      <td></td>\n",
       "    </tr>\n",
       "    <tr>\n",
       "      <th>2</th>\n",
       "      <td></td>\n",
       "    </tr>\n",
       "    <tr>\n",
       "      <th>3</th>\n",
       "      <td></td>\n",
       "    </tr>\n",
       "    <tr>\n",
       "      <th>4</th>\n",
       "      <td></td>\n",
       "    </tr>\n",
       "    <tr>\n",
       "      <th>5</th>\n",
       "      <td></td>\n",
       "    </tr>\n",
       "    <tr>\n",
       "      <th>6</th>\n",
       "      <td></td>\n",
       "    </tr>\n",
       "    <tr>\n",
       "      <th>7</th>\n",
       "      <td></td>\n",
       "    </tr>\n",
       "    <tr>\n",
       "      <th>8</th>\n",
       "      <td></td>\n",
       "    </tr>\n",
       "    <tr>\n",
       "      <th>9</th>\n",
       "      <td></td>\n",
       "    </tr>\n",
       "    <tr>\n",
       "      <th>10</th>\n",
       "      <td></td>\n",
       "    </tr>\n",
       "  </tbody>\n",
       "</table>\n",
       "</div>"
      ],
      "text/plain": [
       "   Postal\n",
       "0        \n",
       "1        \n",
       "2        \n",
       "3        \n",
       "4        \n",
       "5        \n",
       "6        \n",
       "7        \n",
       "8        \n",
       "9        \n",
       "10       "
      ]
     },
     "execution_count": null,
     "metadata": {},
     "output_type": "execute_result"
    }
   ],
   "source": [
    "#|export solution_gpt\n",
    "df = contacts.copy()\n",
    "gpt_response = df.ask(\"Clean the Postal Column. If address is present and is US, must be a valid zip code, either 12345 or 12345-1234. Don't delete rows with an invalid zip, just replace the invalid zip with ''\")\n",
    "gpt_response[['Postal']]"
   ]
  },
  {
   "cell_type": "markdown",
   "metadata": {},
   "source": [
    "## IsDeceased\n",
    "`can only be TRUE or FALSE` <br>\n",
    "<br>\n",
    "- Source Table: Contacts <br>\n",
    "- Solution: <br>\n",
    "    - Create procedure to update Deceased to TRUE/FALSE <br>"
   ]
  },
  {
   "cell_type": "code",
   "execution_count": null,
   "metadata": {},
   "outputs": [
    {
     "data": {
      "text/plain": [
       "array(['', 'No', 'Yes'], dtype=object)"
      ]
     },
     "execution_count": null,
     "metadata": {},
     "output_type": "execute_result"
    }
   ],
   "source": [
    "gpt_response.Deceased.unique()"
   ]
  },
  {
   "cell_type": "code",
   "execution_count": null,
   "metadata": {},
   "outputs": [
    {
     "data": {
      "text/plain": [
       "array([False,  True])"
      ]
     },
     "execution_count": null,
     "metadata": {},
     "output_type": "execute_result"
    }
   ],
   "source": [
    "#|export solution_gpt\n",
    "df = contacts.copy()\n",
    "gpt_response = df.ask('Can you convert the Deceased column to a boolean. Assume empty strings '' are False')\n",
    "gpt_response.Deceased.unique()"
   ]
  },
  {
   "cell_type": "markdown",
   "metadata": {},
   "source": [
    "# Export"
   ]
  },
  {
   "cell_type": "code",
   "execution_count": null,
   "metadata": {},
   "outputs": [],
   "source": [
    "#| hide\n",
    "import nbdev"
   ]
  },
  {
   "cell_type": "code",
   "execution_count": null,
   "metadata": {},
   "outputs": [],
   "source": [
    "#| hide\n",
    "nbdev.nbdev_export('03_Gpt_Solution.ipynb')"
   ]
  }
 ],
 "metadata": {
  "kernelspec": {
   "display_name": "virtuous",
   "language": "python",
   "name": "python3"
  },
  "language_info": {
   "name": "python",
   "version": "3.10.12"
  }
 },
 "nbformat": 4,
 "nbformat_minor": 2
}
