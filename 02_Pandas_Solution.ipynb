{
 "cells": [
  {
   "cell_type": "markdown",
   "metadata": {},
   "source": [
    "# Python Solution\n",
    "> Performing the data cleaning / ETL using Pandas <br>\n",
    "<br>\n",
    "\n",
    "- I'm going to demonstrate how pandas can be used the finish the rest of the ETL process"
   ]
  },
  {
   "cell_type": "code",
   "execution_count": null,
   "metadata": {},
   "outputs": [],
   "source": [
    "#| default_exp solution_pd"
   ]
  },
  {
   "cell_type": "code",
   "execution_count": null,
   "metadata": {},
   "outputs": [],
   "source": [
    "#| export\n",
    "import pandas as pd\n",
    "import numpy as np\n",
    "import re\n",
    "\n",
    "from virtuous_interview.utils import contacts, contact_methods, gifts"
   ]
  },
  {
   "cell_type": "markdown",
   "metadata": {},
   "source": [
    "# Solution\n",
    "> Pandas :)"
   ]
  },
  {
   "cell_type": "markdown",
   "metadata": {},
   "source": [
    "## Private\n",
    "> Does someone want to be private <br>\n",
    "<br>\n",
    "- Source Table: Contacts Table\n",
    "- Solution:\n",
    "    - Create procedure to add new column Private"
   ]
  },
  {
   "cell_type": "markdown",
   "metadata": {},
   "source": [
    "Looking for notes"
   ]
  },
  {
   "cell_type": "code",
   "execution_count": null,
   "metadata": {},
   "outputs": [
    {
     "data": {
      "text/plain": [
       "0                                 Is anonymous\n",
       "6    Met in person on 5/9/2018 at Annual Event\n",
       "8                      Electronic receipt only\n",
       "Name: Remarks, dtype: object"
      ]
     },
     "execution_count": null,
     "metadata": {},
     "output_type": "execute_result"
    }
   ],
   "source": [
    "contacts.Remarks[~contacts.Remarks.isin([''])]"
   ]
  },
  {
   "cell_type": "code",
   "execution_count": null,
   "metadata": {},
   "outputs": [],
   "source": [
    "contacts['Private'] = contacts.Remarks.apply(lambda x: True if x == 'Is anonymous' else False)"
   ]
  },
  {
   "cell_type": "markdown",
   "metadata": {},
   "source": [
    "## ContactType\n",
    "> is required and can only be Household or Organization <br>\n",
    "<br>\n",
    "- Source Table: Contacts Table\n",
    "- Solution:\n",
    "    - Create procedure to add new column ContactType"
   ]
  },
  {
   "cell_type": "code",
   "execution_count": null,
   "metadata": {},
   "outputs": [
    {
     "data": {
      "text/html": [
       "<div>\n",
       "<style scoped>\n",
       "    .dataframe tbody tr th:only-of-type {\n",
       "        vertical-align: middle;\n",
       "    }\n",
       "\n",
       "    .dataframe tbody tr th {\n",
       "        vertical-align: top;\n",
       "    }\n",
       "\n",
       "    .dataframe thead th {\n",
       "        text-align: right;\n",
       "    }\n",
       "</style>\n",
       "<table border=\"1\" class=\"dataframe\">\n",
       "  <thead>\n",
       "    <tr style=\"text-align: right;\">\n",
       "      <th></th>\n",
       "      <th>Number</th>\n",
       "      <th>CompanyName</th>\n",
       "    </tr>\n",
       "  </thead>\n",
       "  <tbody>\n",
       "    <tr>\n",
       "      <th>0</th>\n",
       "      <td>653377813-7</td>\n",
       "      <td></td>\n",
       "    </tr>\n",
       "    <tr>\n",
       "      <th>1</th>\n",
       "      <td>390551098-7</td>\n",
       "      <td></td>\n",
       "    </tr>\n",
       "    <tr>\n",
       "      <th>2</th>\n",
       "      <td>093004505-X</td>\n",
       "      <td></td>\n",
       "    </tr>\n",
       "    <tr>\n",
       "      <th>3</th>\n",
       "      <td>729707142-0</td>\n",
       "      <td>A Company Co.</td>\n",
       "    </tr>\n",
       "    <tr>\n",
       "      <th>4</th>\n",
       "      <td>488464926-5</td>\n",
       "      <td></td>\n",
       "    </tr>\n",
       "    <tr>\n",
       "      <th>5</th>\n",
       "      <td>315297729-8</td>\n",
       "      <td></td>\n",
       "    </tr>\n",
       "    <tr>\n",
       "      <th>6</th>\n",
       "      <td>848348568-0</td>\n",
       "      <td></td>\n",
       "    </tr>\n",
       "    <tr>\n",
       "      <th>7</th>\n",
       "      <td>029456846-8</td>\n",
       "      <td></td>\n",
       "    </tr>\n",
       "    <tr>\n",
       "      <th>8</th>\n",
       "      <td>687119652-8</td>\n",
       "      <td></td>\n",
       "    </tr>\n",
       "    <tr>\n",
       "      <th>9</th>\n",
       "      <td>739131380-7</td>\n",
       "      <td></td>\n",
       "    </tr>\n",
       "    <tr>\n",
       "      <th>10</th>\n",
       "      <td>809975531-Y</td>\n",
       "      <td></td>\n",
       "    </tr>\n",
       "  </tbody>\n",
       "</table>\n",
       "</div>"
      ],
      "text/plain": [
       "         Number    CompanyName\n",
       "0   653377813-7               \n",
       "1   390551098-7               \n",
       "2   093004505-X               \n",
       "3   729707142-0  A Company Co.\n",
       "4   488464926-5               \n",
       "5   315297729-8               \n",
       "6   848348568-0               \n",
       "7   029456846-8               \n",
       "8   687119652-8               \n",
       "9   739131380-7               \n",
       "10  809975531-Y               "
      ]
     },
     "execution_count": null,
     "metadata": {},
     "output_type": "execute_result"
    }
   ],
   "source": [
    "#| hide\n",
    "contacts[['Number', 'CompanyName']]"
   ]
  },
  {
   "cell_type": "code",
   "execution_count": null,
   "metadata": {},
   "outputs": [],
   "source": [
    "#|export solution_pd\n",
    "contacts['ContactType'] = contacts.apply(lambda x: 'Household' if x['CompanyName'] == '' else 'Organization', axis=1)"
   ]
  },
  {
   "cell_type": "code",
   "execution_count": null,
   "metadata": {},
   "outputs": [
    {
     "data": {
      "text/html": [
       "<div>\n",
       "<style scoped>\n",
       "    .dataframe tbody tr th:only-of-type {\n",
       "        vertical-align: middle;\n",
       "    }\n",
       "\n",
       "    .dataframe tbody tr th {\n",
       "        vertical-align: top;\n",
       "    }\n",
       "\n",
       "    .dataframe thead th {\n",
       "        text-align: right;\n",
       "    }\n",
       "</style>\n",
       "<table border=\"1\" class=\"dataframe\">\n",
       "  <thead>\n",
       "    <tr style=\"text-align: right;\">\n",
       "      <th></th>\n",
       "      <th>Number</th>\n",
       "      <th>CompanyName</th>\n",
       "      <th>ContactType</th>\n",
       "    </tr>\n",
       "  </thead>\n",
       "  <tbody>\n",
       "    <tr>\n",
       "      <th>0</th>\n",
       "      <td>653377813-7</td>\n",
       "      <td></td>\n",
       "      <td>Household</td>\n",
       "    </tr>\n",
       "    <tr>\n",
       "      <th>1</th>\n",
       "      <td>390551098-7</td>\n",
       "      <td></td>\n",
       "      <td>Household</td>\n",
       "    </tr>\n",
       "    <tr>\n",
       "      <th>2</th>\n",
       "      <td>093004505-X</td>\n",
       "      <td></td>\n",
       "      <td>Household</td>\n",
       "    </tr>\n",
       "  </tbody>\n",
       "</table>\n",
       "</div>"
      ],
      "text/plain": [
       "        Number CompanyName ContactType\n",
       "0  653377813-7               Household\n",
       "1  390551098-7               Household\n",
       "2  093004505-X               Household"
      ]
     },
     "execution_count": null,
     "metadata": {},
     "output_type": "execute_result"
    }
   ],
   "source": [
    "#| hide\n",
    "contacts[['Number', 'CompanyName', 'ContactType']].head(3)"
   ]
  },
  {
   "cell_type": "markdown",
   "metadata": {},
   "source": [
    "## Postal Code\n",
    "> if address is present and is US, must be a valid zip code, either 12345 or 12345-1234 <br>\n",
    "<br>\n",
    "- Source Table: Contacts <br>\n",
    "- Solution: <br>\n",
    "    - Create procedure to remove any postal codees that doesn't match the approved format from the [usps](https://pe.usps.com/archive/html/dmmarchive20030810/A010.htm)"
   ]
  },
  {
   "cell_type": "code",
   "execution_count": null,
   "metadata": {},
   "outputs": [
    {
     "data": {
      "text/plain": [
       "0    20535-871\n",
       "1        89130\n",
       "2             \n",
       "Name: Postal, dtype: object"
      ]
     },
     "execution_count": null,
     "metadata": {},
     "output_type": "execute_result"
    }
   ],
   "source": [
    "#| hide\n",
    "contacts['Postal'].head(3)"
   ]
  },
  {
   "cell_type": "code",
   "execution_count": null,
   "metadata": {},
   "outputs": [],
   "source": [
    "#|export solution_pd\n",
    "postal_code_pattern = '[0-9]{5}(?:-[0-9]{4})?$'"
   ]
  },
  {
   "cell_type": "code",
   "execution_count": null,
   "metadata": {},
   "outputs": [],
   "source": [
    "#|export solution_pd\n",
    "contacts['Postal'] = contacts.Postal.apply(lambda x: x if re.match(postal_code_pattern, x) else '')"
   ]
  },
  {
   "cell_type": "code",
   "execution_count": null,
   "metadata": {},
   "outputs": [
    {
     "data": {
      "text/plain": [
       "0         \n",
       "1    89130\n",
       "2         \n",
       "Name: Postal, dtype: object"
      ]
     },
     "execution_count": null,
     "metadata": {},
     "output_type": "execute_result"
    }
   ],
   "source": [
    "#| hide\n",
    "contacts['Postal'].head(3)"
   ]
  },
  {
   "cell_type": "markdown",
   "metadata": {},
   "source": [
    "## IsDeceased\n",
    "> can only be TRUE or FALSE <br>\n",
    "<br>\n",
    "- Source Table: Contacts <br>\n",
    "- Solution: <br>\n",
    "    - Create procedure to update Deceased to TRUE/FALSE"
   ]
  },
  {
   "cell_type": "code",
   "execution_count": null,
   "metadata": {},
   "outputs": [
    {
     "data": {
      "text/plain": [
       "0    \n",
       "1    \n",
       "2    \n",
       "Name: Deceased, dtype: object"
      ]
     },
     "execution_count": null,
     "metadata": {},
     "output_type": "execute_result"
    }
   ],
   "source": [
    "#| hide\n",
    "contacts.Deceased.head(3)"
   ]
  },
  {
   "cell_type": "code",
   "execution_count": null,
   "metadata": {},
   "outputs": [],
   "source": [
    "#|export solution_pd\n",
    "contacts['Deceased'] = contacts.Deceased.apply(lambda x: True if x == 'Yes' else False)"
   ]
  },
  {
   "cell_type": "code",
   "execution_count": null,
   "metadata": {},
   "outputs": [
    {
     "data": {
      "text/plain": [
       "0    False\n",
       "1    False\n",
       "2    False\n",
       "Name: Deceased, dtype: bool"
      ]
     },
     "execution_count": null,
     "metadata": {},
     "output_type": "execute_result"
    }
   ],
   "source": [
    "#| hide\n",
    "contacts.Deceased.head(3)"
   ]
  },
  {
   "cell_type": "markdown",
   "metadata": {},
   "source": [
    "## GiftType\n",
    "> Can only be Cash, Check, Credit, Other, or Reversing Transaction <br>\n",
    "<br>\n",
    "- Source Table: Gifts <br>\n",
    "- Solution: <br>\n",
    "    - Identify Incorrect Gift Types <br>\n",
    "    - Create procedure to replace invalid gift types <br>"
   ]
  },
  {
   "cell_type": "code",
   "execution_count": null,
   "metadata": {},
   "outputs": [
    {
     "data": {
      "text/html": [
       "<div>\n",
       "<style scoped>\n",
       "    .dataframe tbody tr th:only-of-type {\n",
       "        vertical-align: middle;\n",
       "    }\n",
       "\n",
       "    .dataframe tbody tr th {\n",
       "        vertical-align: top;\n",
       "    }\n",
       "\n",
       "    .dataframe thead th {\n",
       "        text-align: right;\n",
       "    }\n",
       "</style>\n",
       "<table border=\"1\" class=\"dataframe\">\n",
       "  <thead>\n",
       "    <tr style=\"text-align: right;\">\n",
       "      <th></th>\n",
       "      <th>AmountReceived</th>\n",
       "      <th>PaymentMethod</th>\n",
       "    </tr>\n",
       "  </thead>\n",
       "  <tbody>\n",
       "    <tr>\n",
       "      <th>21</th>\n",
       "      <td>4.21</td>\n",
       "      <td>credit card</td>\n",
       "    </tr>\n",
       "    <tr>\n",
       "      <th>22</th>\n",
       "      <td>9.28</td>\n",
       "      <td>cash</td>\n",
       "    </tr>\n",
       "    <tr>\n",
       "      <th>23</th>\n",
       "      <td>2.74</td>\n",
       "      <td>PayPal</td>\n",
       "    </tr>\n",
       "    <tr>\n",
       "      <th>24</th>\n",
       "      <td>9.00</td>\n",
       "      <td>money order</td>\n",
       "    </tr>\n",
       "    <tr>\n",
       "      <th>25</th>\n",
       "      <td>1.88</td>\n",
       "      <td>cash</td>\n",
       "    </tr>\n",
       "    <tr>\n",
       "      <th>26</th>\n",
       "      <td>-6.76</td>\n",
       "      <td>check</td>\n",
       "    </tr>\n",
       "    <tr>\n",
       "      <th>27</th>\n",
       "      <td>7.58</td>\n",
       "      <td>credit card</td>\n",
       "    </tr>\n",
       "    <tr>\n",
       "      <th>28</th>\n",
       "      <td>5.49</td>\n",
       "      <td>cash</td>\n",
       "    </tr>\n",
       "    <tr>\n",
       "      <th>29</th>\n",
       "      <td>8.93</td>\n",
       "      <td>money order</td>\n",
       "    </tr>\n",
       "    <tr>\n",
       "      <th>30</th>\n",
       "      <td>2.62</td>\n",
       "      <td>credit card</td>\n",
       "    </tr>\n",
       "  </tbody>\n",
       "</table>\n",
       "</div>"
      ],
      "text/plain": [
       "    AmountReceived PaymentMethod\n",
       "21            4.21   credit card\n",
       "22            9.28          cash\n",
       "23            2.74        PayPal\n",
       "24            9.00   money order\n",
       "25            1.88          cash\n",
       "26           -6.76         check\n",
       "27            7.58   credit card\n",
       "28            5.49          cash\n",
       "29            8.93   money order\n",
       "30            2.62   credit card"
      ]
     },
     "execution_count": null,
     "metadata": {},
     "output_type": "execute_result"
    }
   ],
   "source": [
    "#| hide\n",
    "gifts[['AmountReceived', 'PaymentMethod']].tail(10)"
   ]
  },
  {
   "cell_type": "code",
   "execution_count": null,
   "metadata": {},
   "outputs": [],
   "source": [
    "#|export solution_pd\n",
    "def clean_payment_type(row):\n",
    "    payment_method = ''\n",
    "    orginal_payment_method = str(row['PaymentMethod']).lower()\n",
    "    \n",
    "    if row['AmountReceived'] < 0:\n",
    "        payment_method = 'Reversing Transaction'\n",
    "    elif re.match('credit', orginal_payment_method):\n",
    "        payment_method = 'Credit'\n",
    "    elif orginal_payment_method in ['check', 'cash', 'reversing transaction']:\n",
    "        payment_method = orginal_payment_method.title()\n",
    "    else:\n",
    "        payment_method = 'Other'\n",
    "\n",
    "    return payment_method"
   ]
  },
  {
   "cell_type": "code",
   "execution_count": null,
   "metadata": {},
   "outputs": [],
   "source": [
    "#|export solution_pd\n",
    "gifts['PaymentMethod'] = gifts.apply(clean_payment_type, axis=1)"
   ]
  },
  {
   "cell_type": "code",
   "execution_count": null,
   "metadata": {},
   "outputs": [
    {
     "data": {
      "text/plain": [
       "21                   Credit\n",
       "22                     Cash\n",
       "23                    Other\n",
       "24                    Other\n",
       "25                     Cash\n",
       "26    Reversing Transaction\n",
       "27                   Credit\n",
       "28                     Cash\n",
       "29                    Other\n",
       "30                   Credit\n",
       "Name: PaymentMethod, dtype: object"
      ]
     },
     "execution_count": null,
     "metadata": {},
     "output_type": "execute_result"
    }
   ],
   "source": [
    "#| hide\n",
    "gifts.PaymentMethod.tail(10)"
   ]
  },
  {
   "cell_type": "markdown",
   "metadata": {},
   "source": [
    "## CreditCardType\n",
    "> Can only be Visa, Mastercard, AMEX, Discover <br>\n",
    "<br>\n",
    "- Solution: <br>\n",
    "    - Identify Incorrect Credit Types <br>\n",
    "    - Create procedure to replace invalid credit types"
   ]
  },
  {
   "cell_type": "code",
   "execution_count": null,
   "metadata": {},
   "outputs": [
    {
     "data": {
      "text/plain": [
       "array(['', 'American Ex', 'AMEX', 'Visa', 'Master card', 'Mastercard',\n",
       "       'Discover'], dtype=object)"
      ]
     },
     "execution_count": null,
     "metadata": {},
     "output_type": "execute_result"
    }
   ],
   "source": [
    "#| hide\n",
    "gifts.CreditCardType.unique()"
   ]
  },
  {
   "cell_type": "markdown",
   "metadata": {},
   "source": [
    "Creating functions to validate each of the credit card types"
   ]
  },
  {
   "cell_type": "code",
   "execution_count": null,
   "metadata": {},
   "outputs": [],
   "source": [
    "#| export\n",
    "def validate_mastercard(string):\n",
    "    # Match strings that contain \"mastercard\" or \"master card\", case insensitive\n",
    "    pattern = r'master\\s?card'\n",
    "    return bool(re.search(pattern, string, re.IGNORECASE))\n",
    "\n",
    "def validate_amex(string):\n",
    "    # Match strings that contain \"amex\", \"american express\", or \"american ex\", case insensitive\n",
    "    pattern = r'amex|american\\s?express|american\\s?ex'\n",
    "    return bool(re.search(pattern, string, re.IGNORECASE))\n",
    "\n",
    "def validate_visa(string):\n",
    "    # Match strings that contain \"visa\", case insensitive\n",
    "    pattern = r'visa'\n",
    "    return bool(re.search(pattern, string, re.IGNORECASE))\n",
    "\n",
    "def validate_discover(string):\n",
    "    # Match strings that contain \"discover\", case insensitive\n",
    "    pattern = r'discover'\n",
    "    return bool(re.search(pattern, string, re.IGNORECASE))\n",
    "\n",
    "def validate_credit_card(string): \n",
    "    if validate_mastercard(string):\n",
    "        return 'Mastercard'\n",
    "    elif validate_amex(string):\n",
    "        return 'AMEX'\n",
    "    elif validate_visa(string):\n",
    "        return 'Visa'\n",
    "    elif validate_discover(string):\n",
    "        return 'Discover'\n",
    "    else:\n",
    "        return ''"
   ]
  },
  {
   "cell_type": "code",
   "execution_count": null,
   "metadata": {},
   "outputs": [],
   "source": [
    "#| export\n",
    "gifts['CreditCardType'] = gifts.CreditCardType.apply(validate_credit_card)"
   ]
  },
  {
   "cell_type": "markdown",
   "metadata": {},
   "source": []
  },
  {
   "cell_type": "markdown",
   "metadata": {},
   "source": [
    "# Creating Final Datasets"
   ]
  },
  {
   "cell_type": "markdown",
   "metadata": {},
   "source": [
    "## Contact Methods\n",
    "> Table of constituent contact information"
   ]
  },
  {
   "cell_type": "markdown",
   "metadata": {},
   "source": [
    "Merging Contact and Contact Methods Tables To get ALL the contact information"
   ]
  },
  {
   "cell_type": "code",
   "execution_count": null,
   "metadata": {},
   "outputs": [],
   "source": [
    "#|export solution_pd\n",
    "temp_contacts = contacts[['Number', 'Phone', 'EMail']].rename(columns={\n",
    "    'Number': 'LegacyContactId',\n",
    "    'Phone': 'HomePhone',\n",
    "    'EMail': 'HomeEmail'\n",
    "}).copy()"
   ]
  },
  {
   "cell_type": "code",
   "execution_count": null,
   "metadata": {},
   "outputs": [],
   "source": [
    "#|export solution_pd\n",
    "temp_contact_methods = contact_methods.rename(columns={'DonorNumber':'LegacyContactId'})"
   ]
  },
  {
   "cell_type": "code",
   "execution_count": null,
   "metadata": {},
   "outputs": [],
   "source": [
    "#|export solution_pd\n",
    "contacts_v = temp_contacts.merge(temp_contact_methods,\n",
    "                                how='left',\n",
    "                                on='LegacyContactId',\n",
    "                                ).sort_values('LegacyContactId')"
   ]
  },
  {
   "cell_type": "markdown",
   "metadata": {},
   "source": [
    "Pivoting the Data, converting the HomePhone, HomeEmail, And Fax values to individual Type : Value pairs"
   ]
  },
  {
   "cell_type": "code",
   "execution_count": null,
   "metadata": {},
   "outputs": [],
   "source": [
    "contacts_v = contacts_v.melt(id_vars=['LegacyContactId'], value_vars=['HomePhone', 'HomeEmail', 'Fax', 'Phone', 'EMail'], var_name='Type', value_name='Value')"
   ]
  },
  {
   "cell_type": "markdown",
   "metadata": {},
   "source": [
    "Creating a function to safley check for nan values"
   ]
  },
  {
   "cell_type": "code",
   "execution_count": null,
   "metadata": {},
   "outputs": [],
   "source": [
    "def is_nan(x):\n",
    "    try:\n",
    "        return np.isnan(x)\n",
    "    except TypeError:\n",
    "        return False"
   ]
  },
  {
   "cell_type": "code",
   "execution_count": null,
   "metadata": {},
   "outputs": [],
   "source": [
    "final_contact_methods = contacts_v[~((contacts_v.Value == '') | (contacts_v.Value.apply(is_nan)))].reset_index(drop=True).copy()"
   ]
  },
  {
   "cell_type": "code",
   "execution_count": null,
   "metadata": {},
   "outputs": [],
   "source": [
    "def clean_contact_type(s):\n",
    "    if s == 'Phone':\n",
    "        return 'HomePhone'\n",
    "    elif s == 'EMail':\n",
    "        return 'HomeEmail'\n",
    "    else:\n",
    "        return s"
   ]
  },
  {
   "cell_type": "code",
   "execution_count": null,
   "metadata": {},
   "outputs": [],
   "source": [
    "final_contact_methods['Type'] = final_contact_methods.Type.apply(clean_contact_type)"
   ]
  },
  {
   "cell_type": "code",
   "execution_count": null,
   "metadata": {},
   "outputs": [],
   "source": [
    "final_contact_methods.drop_duplicates(inplace=True)"
   ]
  },
  {
   "cell_type": "code",
   "execution_count": null,
   "metadata": {},
   "outputs": [
    {
     "data": {
      "text/html": [
       "<div>\n",
       "<style scoped>\n",
       "    .dataframe tbody tr th:only-of-type {\n",
       "        vertical-align: middle;\n",
       "    }\n",
       "\n",
       "    .dataframe tbody tr th {\n",
       "        vertical-align: top;\n",
       "    }\n",
       "\n",
       "    .dataframe thead th {\n",
       "        text-align: right;\n",
       "    }\n",
       "</style>\n",
       "<table border=\"1\" class=\"dataframe\">\n",
       "  <thead>\n",
       "    <tr style=\"text-align: right;\">\n",
       "      <th></th>\n",
       "      <th>LegacyContactId</th>\n",
       "      <th>Type</th>\n",
       "      <th>Value</th>\n",
       "    </tr>\n",
       "  </thead>\n",
       "  <tbody>\n",
       "    <tr>\n",
       "      <th>0</th>\n",
       "      <td>029456846-8</td>\n",
       "      <td>HomeEmail</td>\n",
       "      <td>jdoley6@telegraph.co.uk</td>\n",
       "    </tr>\n",
       "    <tr>\n",
       "      <th>1</th>\n",
       "      <td>093004505-X</td>\n",
       "      <td>HomePhone</td>\n",
       "      <td>577-374-96523</td>\n",
       "    </tr>\n",
       "    <tr>\n",
       "      <th>2</th>\n",
       "      <td>093004505-X</td>\n",
       "      <td>Fax</td>\n",
       "      <td>818-156-7985</td>\n",
       "    </tr>\n",
       "    <tr>\n",
       "      <th>3</th>\n",
       "      <td>093004505-X</td>\n",
       "      <td>HomePhone</td>\n",
       "      <td>818-323-9865</td>\n",
       "    </tr>\n",
       "    <tr>\n",
       "      <th>4</th>\n",
       "      <td>315297729-8</td>\n",
       "      <td>HomeEmail</td>\n",
       "      <td>dmouncey9@cnn.com</td>\n",
       "    </tr>\n",
       "    <tr>\n",
       "      <th>5</th>\n",
       "      <td>390551098-7</td>\n",
       "      <td>HomeEmail</td>\n",
       "      <td>ebenech1@goodreads.com</td>\n",
       "    </tr>\n",
       "    <tr>\n",
       "      <th>6</th>\n",
       "      <td>488464926-5</td>\n",
       "      <td>HomeEmail</td>\n",
       "      <td>fcastille4@timesonline.co.uk</td>\n",
       "    </tr>\n",
       "    <tr>\n",
       "      <th>7</th>\n",
       "      <td>653377813-7</td>\n",
       "      <td>HomeEmail</td>\n",
       "      <td>kklumbers@yahoo.com</td>\n",
       "    </tr>\n",
       "    <tr>\n",
       "      <th>8</th>\n",
       "      <td>653377813-7</td>\n",
       "      <td>HomePhone</td>\n",
       "      <td>832-442-4988</td>\n",
       "    </tr>\n",
       "    <tr>\n",
       "      <th>9</th>\n",
       "      <td>687119652-8</td>\n",
       "      <td>HomeEmail</td>\n",
       "      <td>cmakepeace7@1688.com</td>\n",
       "    </tr>\n",
       "    <tr>\n",
       "      <th>10</th>\n",
       "      <td>739131380-7</td>\n",
       "      <td>Fax</td>\n",
       "      <td>626-981-3874</td>\n",
       "    </tr>\n",
       "    <tr>\n",
       "      <th>11</th>\n",
       "      <td>848348568-0</td>\n",
       "      <td>HomePhone</td>\n",
       "      <td>702-844-9524</td>\n",
       "    </tr>\n",
       "  </tbody>\n",
       "</table>\n",
       "</div>"
      ],
      "text/plain": [
       "   LegacyContactId       Type                         Value\n",
       "0      029456846-8  HomeEmail       jdoley6@telegraph.co.uk\n",
       "1      093004505-X  HomePhone                 577-374-96523\n",
       "2      093004505-X        Fax                  818-156-7985\n",
       "3      093004505-X  HomePhone                  818-323-9865\n",
       "4      315297729-8  HomeEmail             dmouncey9@cnn.com\n",
       "5      390551098-7  HomeEmail        ebenech1@goodreads.com\n",
       "6      488464926-5  HomeEmail  fcastille4@timesonline.co.uk\n",
       "7      653377813-7  HomeEmail           kklumbers@yahoo.com\n",
       "8      653377813-7  HomePhone                  832-442-4988\n",
       "9      687119652-8  HomeEmail          cmakepeace7@1688.com\n",
       "10     739131380-7        Fax                  626-981-3874\n",
       "11     848348568-0  HomePhone                  702-844-9524"
      ]
     },
     "execution_count": null,
     "metadata": {},
     "output_type": "execute_result"
    }
   ],
   "source": [
    "final_contact_methods.sort_values('LegacyContactId').reset_index(drop=True)"
   ]
  },
  {
   "cell_type": "code",
   "execution_count": null,
   "metadata": {},
   "outputs": [],
   "source": [
    "final_contact_methods.to_csv('data/final_contact_methods.csv', index=False)"
   ]
  },
  {
   "cell_type": "markdown",
   "metadata": {},
   "source": [
    "## Contacts\n",
    "> Table of constituent contact information"
   ]
  },
  {
   "cell_type": "markdown",
   "metadata": {},
   "source": [
    "Checking for any missing contacts"
   ]
  },
  {
   "cell_type": "code",
   "execution_count": null,
   "metadata": {},
   "outputs": [],
   "source": [
    "columns = [\n",
    "    'LegacyContactId', 'LegacyIndividualId', 'ContactType', 'ContactName',\n",
    "    'FirstName', \n",
    "    'LastName', 'SecondaryLegacyIndividualId', 'SecondaryFirstName',\n",
    "    'SecondaryLastName', 'HomePhone', 'HomeEmail', 'Address1', \n",
    "    'City', 'State', 'PostalCode', 'IsPrivate', 'IsDeceased',\n",
    "    ]"
   ]
  },
  {
   "cell_type": "code",
   "execution_count": null,
   "metadata": {},
   "outputs": [],
   "source": [
    "contacts.rename(columns={\n",
    "    'Number':'LegacyContactId',\n",
    "    'Street': 'Address1',\n",
    "    'Postal': 'PostalCode',\n",
    "    'Phone': 'HomePhone',\n",
    "    'EMail': 'HomeEmail',\n",
    "    'Private': 'IsPrivate',\n",
    "    'Deceased': 'IsDeceased',\n",
    "}, inplace=True)"
   ]
  },
  {
   "cell_type": "code",
   "execution_count": null,
   "metadata": {},
   "outputs": [],
   "source": [
    "final_contacts = contacts.loc[:, columns]"
   ]
  },
  {
   "cell_type": "code",
   "execution_count": null,
   "metadata": {},
   "outputs": [
    {
     "data": {
      "text/html": [
       "<div>\n",
       "<style scoped>\n",
       "    .dataframe tbody tr th:only-of-type {\n",
       "        vertical-align: middle;\n",
       "    }\n",
       "\n",
       "    .dataframe tbody tr th {\n",
       "        vertical-align: top;\n",
       "    }\n",
       "\n",
       "    .dataframe thead th {\n",
       "        text-align: right;\n",
       "    }\n",
       "</style>\n",
       "<table border=\"1\" class=\"dataframe\">\n",
       "  <thead>\n",
       "    <tr style=\"text-align: right;\">\n",
       "      <th></th>\n",
       "      <th>LegacyContactId</th>\n",
       "      <th>LegacyIndividualId</th>\n",
       "      <th>ContactType</th>\n",
       "      <th>ContactName</th>\n",
       "      <th>FirstName</th>\n",
       "      <th>LastName</th>\n",
       "      <th>SecondaryLegacyIndividualId</th>\n",
       "      <th>SecondaryFirstName</th>\n",
       "      <th>SecondaryLastName</th>\n",
       "      <th>HomePhone</th>\n",
       "      <th>HomeEmail</th>\n",
       "      <th>Address1</th>\n",
       "      <th>City</th>\n",
       "      <th>State</th>\n",
       "      <th>PostalCode</th>\n",
       "      <th>IsPrivate</th>\n",
       "      <th>IsDeceased</th>\n",
       "    </tr>\n",
       "  </thead>\n",
       "  <tbody>\n",
       "    <tr>\n",
       "      <th>0</th>\n",
       "      <td>653377813-7</td>\n",
       "      <td>0</td>\n",
       "      <td>Household</td>\n",
       "      <td>Karita &amp; Kelvin Lumbers</td>\n",
       "      <td>Karita</td>\n",
       "      <td>Lumbers</td>\n",
       "      <td>1</td>\n",
       "      <td>Kelvin</td>\n",
       "      <td>Lumbers</td>\n",
       "      <td></td>\n",
       "      <td>kklumbers@yahoo.com</td>\n",
       "      <td>4 Bunting Parkway</td>\n",
       "      <td>Washington</td>\n",
       "      <td>DC</td>\n",
       "      <td></td>\n",
       "      <td>True</td>\n",
       "      <td>False</td>\n",
       "    </tr>\n",
       "    <tr>\n",
       "      <th>1</th>\n",
       "      <td>390551098-7</td>\n",
       "      <td>2</td>\n",
       "      <td>Household</td>\n",
       "      <td>Helga Benech</td>\n",
       "      <td>Helga</td>\n",
       "      <td>Benech</td>\n",
       "      <td></td>\n",
       "      <td></td>\n",
       "      <td></td>\n",
       "      <td></td>\n",
       "      <td>ebenech1@goodreads.com</td>\n",
       "      <td>48684 Jenifer Way</td>\n",
       "      <td>Las Vegas</td>\n",
       "      <td>NV</td>\n",
       "      <td>89130</td>\n",
       "      <td>False</td>\n",
       "      <td>False</td>\n",
       "    </tr>\n",
       "    <tr>\n",
       "      <th>2</th>\n",
       "      <td>093004505-X</td>\n",
       "      <td>3</td>\n",
       "      <td>Household</td>\n",
       "      <td>Masha Butt Gow</td>\n",
       "      <td>Masha</td>\n",
       "      <td>Butt Gow</td>\n",
       "      <td></td>\n",
       "      <td></td>\n",
       "      <td></td>\n",
       "      <td>577-374-96523</td>\n",
       "      <td></td>\n",
       "      <td>353 Schmedeman Park</td>\n",
       "      <td>Indianapolis</td>\n",
       "      <td>IN</td>\n",
       "      <td></td>\n",
       "      <td>False</td>\n",
       "      <td>False</td>\n",
       "    </tr>\n",
       "    <tr>\n",
       "      <th>3</th>\n",
       "      <td>729707142-0</td>\n",
       "      <td>4</td>\n",
       "      <td>Organization</td>\n",
       "      <td>Cymbre Cross</td>\n",
       "      <td>Cymbre</td>\n",
       "      <td>Cross</td>\n",
       "      <td></td>\n",
       "      <td></td>\n",
       "      <td></td>\n",
       "      <td></td>\n",
       "      <td></td>\n",
       "      <td>2055 Lakewood Parkway</td>\n",
       "      <td>Camden</td>\n",
       "      <td>NJ</td>\n",
       "      <td></td>\n",
       "      <td>False</td>\n",
       "      <td>False</td>\n",
       "    </tr>\n",
       "    <tr>\n",
       "      <th>4</th>\n",
       "      <td>488464926-5</td>\n",
       "      <td>5</td>\n",
       "      <td>Household</td>\n",
       "      <td>Hoyt Castille</td>\n",
       "      <td>Hoyt</td>\n",
       "      <td>Castille</td>\n",
       "      <td></td>\n",
       "      <td></td>\n",
       "      <td></td>\n",
       "      <td></td>\n",
       "      <td>fcastille4@timesonline.co.uk</td>\n",
       "      <td>37 8th Trail</td>\n",
       "      <td>Grand Rapids</td>\n",
       "      <td>MI</td>\n",
       "      <td>49560</td>\n",
       "      <td>False</td>\n",
       "      <td>False</td>\n",
       "    </tr>\n",
       "    <tr>\n",
       "      <th>5</th>\n",
       "      <td>315297729-8</td>\n",
       "      <td>6</td>\n",
       "      <td>Household</td>\n",
       "      <td>Benedict Oscar &amp; Idell Mouncey</td>\n",
       "      <td>Benedict</td>\n",
       "      <td>Oscar</td>\n",
       "      <td>7</td>\n",
       "      <td>Idell</td>\n",
       "      <td>Mouncey</td>\n",
       "      <td></td>\n",
       "      <td></td>\n",
       "      <td>4225 Madison Ave</td>\n",
       "      <td>Boise</td>\n",
       "      <td>ID</td>\n",
       "      <td></td>\n",
       "      <td>False</td>\n",
       "      <td>False</td>\n",
       "    </tr>\n",
       "    <tr>\n",
       "      <th>6</th>\n",
       "      <td>848348568-0</td>\n",
       "      <td>8</td>\n",
       "      <td>Household</td>\n",
       "      <td>Mannie Turpin</td>\n",
       "      <td>Mannie</td>\n",
       "      <td>Turpin</td>\n",
       "      <td></td>\n",
       "      <td></td>\n",
       "      <td></td>\n",
       "      <td>702-844-9524</td>\n",
       "      <td></td>\n",
       "      <td></td>\n",
       "      <td></td>\n",
       "      <td>NV</td>\n",
       "      <td></td>\n",
       "      <td>False</td>\n",
       "      <td>True</td>\n",
       "    </tr>\n",
       "    <tr>\n",
       "      <th>7</th>\n",
       "      <td>029456846-8</td>\n",
       "      <td>9</td>\n",
       "      <td>Household</td>\n",
       "      <td>Romy Doley</td>\n",
       "      <td>Romy</td>\n",
       "      <td>Doley</td>\n",
       "      <td></td>\n",
       "      <td></td>\n",
       "      <td></td>\n",
       "      <td></td>\n",
       "      <td>jdoley6@telegraph.co.uk</td>\n",
       "      <td>608 Old Shore Alley</td>\n",
       "      <td>Marietta</td>\n",
       "      <td>GA</td>\n",
       "      <td>30066</td>\n",
       "      <td>False</td>\n",
       "      <td>False</td>\n",
       "    </tr>\n",
       "    <tr>\n",
       "      <th>8</th>\n",
       "      <td>687119652-8</td>\n",
       "      <td>10</td>\n",
       "      <td>Household</td>\n",
       "      <td>Ruggiero Makepeace</td>\n",
       "      <td>Ruggiero</td>\n",
       "      <td>Makepeace</td>\n",
       "      <td></td>\n",
       "      <td></td>\n",
       "      <td></td>\n",
       "      <td></td>\n",
       "      <td>cmakepeace7@1688.com</td>\n",
       "      <td>15 Sunbrook Center</td>\n",
       "      <td>Omaha</td>\n",
       "      <td>NE</td>\n",
       "      <td>68164</td>\n",
       "      <td>False</td>\n",
       "      <td>False</td>\n",
       "    </tr>\n",
       "    <tr>\n",
       "      <th>9</th>\n",
       "      <td>739131380-7</td>\n",
       "      <td>11</td>\n",
       "      <td>Household</td>\n",
       "      <td>Rosemaria &amp; Rogelio Dimond</td>\n",
       "      <td>Rosemaria</td>\n",
       "      <td>Dimond</td>\n",
       "      <td>12</td>\n",
       "      <td>Rogelio</td>\n",
       "      <td>Dimond</td>\n",
       "      <td></td>\n",
       "      <td></td>\n",
       "      <td></td>\n",
       "      <td>Juneau</td>\n",
       "      <td>AK</td>\n",
       "      <td></td>\n",
       "      <td>False</td>\n",
       "      <td>False</td>\n",
       "    </tr>\n",
       "    <tr>\n",
       "      <th>10</th>\n",
       "      <td>809975531-Y</td>\n",
       "      <td>13</td>\n",
       "      <td>Household</td>\n",
       "      <td>Adeline Shakespeare</td>\n",
       "      <td>Adeline</td>\n",
       "      <td>Shakespeare</td>\n",
       "      <td></td>\n",
       "      <td></td>\n",
       "      <td></td>\n",
       "      <td></td>\n",
       "      <td></td>\n",
       "      <td></td>\n",
       "      <td></td>\n",
       "      <td></td>\n",
       "      <td></td>\n",
       "      <td>False</td>\n",
       "      <td>False</td>\n",
       "    </tr>\n",
       "  </tbody>\n",
       "</table>\n",
       "</div>"
      ],
      "text/plain": [
       "   LegacyContactId LegacyIndividualId   ContactType  \\\n",
       "0      653377813-7                  0     Household   \n",
       "1      390551098-7                  2     Household   \n",
       "2      093004505-X                  3     Household   \n",
       "3      729707142-0                  4  Organization   \n",
       "4      488464926-5                  5     Household   \n",
       "5      315297729-8                  6     Household   \n",
       "6      848348568-0                  8     Household   \n",
       "7      029456846-8                  9     Household   \n",
       "8      687119652-8                 10     Household   \n",
       "9      739131380-7                 11     Household   \n",
       "10     809975531-Y                 13     Household   \n",
       "\n",
       "                       ContactName  FirstName     LastName  \\\n",
       "0          Karita & Kelvin Lumbers     Karita      Lumbers   \n",
       "1                     Helga Benech      Helga       Benech   \n",
       "2                   Masha Butt Gow      Masha     Butt Gow   \n",
       "3                     Cymbre Cross     Cymbre        Cross   \n",
       "4                    Hoyt Castille       Hoyt     Castille   \n",
       "5   Benedict Oscar & Idell Mouncey   Benedict        Oscar   \n",
       "6                    Mannie Turpin     Mannie       Turpin   \n",
       "7                       Romy Doley       Romy        Doley   \n",
       "8               Ruggiero Makepeace   Ruggiero    Makepeace   \n",
       "9       Rosemaria & Rogelio Dimond  Rosemaria       Dimond   \n",
       "10             Adeline Shakespeare    Adeline  Shakespeare   \n",
       "\n",
       "   SecondaryLegacyIndividualId SecondaryFirstName SecondaryLastName  \\\n",
       "0                            1             Kelvin           Lumbers   \n",
       "1                                                                     \n",
       "2                                                                     \n",
       "3                                                                     \n",
       "4                                                                     \n",
       "5                            7              Idell           Mouncey   \n",
       "6                                                                     \n",
       "7                                                                     \n",
       "8                                                                     \n",
       "9                           12            Rogelio            Dimond   \n",
       "10                                                                    \n",
       "\n",
       "        HomePhone                     HomeEmail               Address1  \\\n",
       "0                           kklumbers@yahoo.com      4 Bunting Parkway   \n",
       "1                        ebenech1@goodreads.com      48684 Jenifer Way   \n",
       "2   577-374-96523                                  353 Schmedeman Park   \n",
       "3                                                2055 Lakewood Parkway   \n",
       "4                  fcastille4@timesonline.co.uk           37 8th Trail   \n",
       "5                                                     4225 Madison Ave   \n",
       "6    702-844-9524                                                        \n",
       "7                       jdoley6@telegraph.co.uk    608 Old Shore Alley   \n",
       "8                          cmakepeace7@1688.com     15 Sunbrook Center   \n",
       "9                                                                        \n",
       "10                                                                       \n",
       "\n",
       "            City State PostalCode  IsPrivate  IsDeceased  \n",
       "0     Washington    DC                  True       False  \n",
       "1      Las Vegas    NV      89130      False       False  \n",
       "2   Indianapolis    IN                 False       False  \n",
       "3         Camden    NJ                 False       False  \n",
       "4   Grand Rapids    MI      49560      False       False  \n",
       "5          Boise    ID                 False       False  \n",
       "6                   NV                 False        True  \n",
       "7       Marietta    GA      30066      False       False  \n",
       "8          Omaha    NE      68164      False       False  \n",
       "9         Juneau    AK                 False       False  \n",
       "10                                     False       False  "
      ]
     },
     "execution_count": null,
     "metadata": {},
     "output_type": "execute_result"
    }
   ],
   "source": [
    "final_contacts"
   ]
  },
  {
   "cell_type": "code",
   "execution_count": null,
   "metadata": {},
   "outputs": [],
   "source": [
    "final_contacts.to_csv('data/final_contacts.csv', index=False)"
   ]
  },
  {
   "cell_type": "markdown",
   "metadata": {},
   "source": [
    "## Gifts\n",
    "> Table with gift history"
   ]
  },
  {
   "cell_type": "code",
   "execution_count": null,
   "metadata": {},
   "outputs": [],
   "source": [
    "columns = ['LegacyContactId', 'LegacyGiftId', 'GiftType', 'GiftDate',\n",
    "           'GiftAmount', 'Notes', 'CreditCardType', 'Project1Code',\n",
    "           'Project2Code', 'LegacyPledgeID']"
   ]
  },
  {
   "cell_type": "code",
   "execution_count": null,
   "metadata": {},
   "outputs": [],
   "source": [
    "gifts.rename(columns={\n",
    "    'DonorNumber': 'LegacyContactId',\n",
    "    'PaymentMethod': 'GiftType',\n",
    "    'AmountReceived': 'GiftAmount',\n",
    "}, inplace=True)"
   ]
  },
  {
   "cell_type": "code",
   "execution_count": null,
   "metadata": {},
   "outputs": [],
   "source": [
    "gifts[columns]"
   ]
  },
  {
   "cell_type": "code",
   "execution_count": null,
   "metadata": {},
   "outputs": [],
   "source": [
    "final_gifts = gifts[columns].copy()"
   ]
  },
  {
   "cell_type": "code",
   "execution_count": null,
   "metadata": {},
   "outputs": [],
   "source": [
    "final_gifts.shape"
   ]
  },
  {
   "cell_type": "markdown",
   "metadata": {},
   "source": []
  },
  {
   "cell_type": "code",
   "execution_count": null,
   "metadata": {},
   "outputs": [],
   "source": [
    "final_gifts.to_csv('data/final_gifts.csv', index=False)"
   ]
  },
  {
   "cell_type": "markdown",
   "metadata": {},
   "source": [
    "# Export"
   ]
  },
  {
   "cell_type": "code",
   "execution_count": null,
   "metadata": {},
   "outputs": [],
   "source": [
    "#| hide\n",
    "import nbdev"
   ]
  },
  {
   "cell_type": "code",
   "execution_count": null,
   "metadata": {},
   "outputs": [],
   "source": [
    "#| hide\n",
    "nbdev.nbdev_export('02_Pandas_Solution.ipynb')"
   ]
  }
 ],
 "metadata": {
  "kernelspec": {
   "display_name": "virtuous",
   "language": "python",
   "name": "python3"
  }
 },
 "nbformat": 4,
 "nbformat_minor": 2
}
