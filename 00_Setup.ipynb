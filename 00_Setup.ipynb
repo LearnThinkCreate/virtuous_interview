{
 "cells": [
  {
   "cell_type": "markdown",
   "id": "f7c0411b-f0fd-41d4-8952-90bc2db19e1b",
   "metadata": {},
   "source": [
    "# Setup\n",
    "> Monday August 14th, 2023"
   ]
  },
  {
   "cell_type": "code",
   "execution_count": 1,
   "id": "28b71b2b",
   "metadata": {},
   "outputs": [],
   "source": [
    "#| default_exp utils"
   ]
  },
  {
   "cell_type": "markdown",
   "id": "f235e1f3",
   "metadata": {},
   "source": [
    "# Previewing The Initial Datasets\n",
    "> Loading Datasets using Pandas"
   ]
  },
  {
   "cell_type": "code",
   "execution_count": 2,
   "id": "5984ecfa-c486-417c-a375-fca99dcb255b",
   "metadata": {},
   "outputs": [],
   "source": [
    "#| export\n",
    "from nbdev.showdoc import *\n",
    "import pandas as pd\n",
    "import re"
   ]
  },
  {
   "cell_type": "code",
   "execution_count": 3,
   "id": "45dedd16",
   "metadata": {},
   "outputs": [],
   "source": [
    "#| export\n",
    "contact_methods = pd.read_csv('data/contact_methods.csv').fillna('')\n",
    "contacts = pd.read_csv('data/contacts.csv').fillna('')\n",
    "gifts = pd.read_csv('data/gifts.csv').fillna('')"
   ]
  },
  {
   "cell_type": "code",
   "execution_count": 4,
   "id": "4f84ca80",
   "metadata": {},
   "outputs": [
    {
     "data": {
      "text/html": [
       "<div>\n",
       "<style scoped>\n",
       "    .dataframe tbody tr th:only-of-type {\n",
       "        vertical-align: middle;\n",
       "    }\n",
       "\n",
       "    .dataframe tbody tr th {\n",
       "        vertical-align: top;\n",
       "    }\n",
       "\n",
       "    .dataframe thead th {\n",
       "        text-align: right;\n",
       "    }\n",
       "</style>\n",
       "<table border=\"1\" class=\"dataframe\">\n",
       "  <thead>\n",
       "    <tr style=\"text-align: right;\">\n",
       "      <th></th>\n",
       "      <th>Number</th>\n",
       "      <th>Company Name</th>\n",
       "      <th>First Name</th>\n",
       "      <th>Last Name</th>\n",
       "      <th>Street</th>\n",
       "      <th>City</th>\n",
       "      <th>State</th>\n",
       "      <th>Postal</th>\n",
       "      <th>Phone</th>\n",
       "      <th>E-mail</th>\n",
       "      <th>Remarks</th>\n",
       "      <th>Deceased?</th>\n",
       "    </tr>\n",
       "  </thead>\n",
       "  <tbody>\n",
       "    <tr>\n",
       "      <th>0</th>\n",
       "      <td>653377813-7</td>\n",
       "      <td></td>\n",
       "      <td>Karita &amp; Kelvin</td>\n",
       "      <td>Lumbers</td>\n",
       "      <td>4 Bunting Parkway</td>\n",
       "      <td>Washington</td>\n",
       "      <td>DC</td>\n",
       "      <td>20535-871</td>\n",
       "      <td>kklumbers@ yahoo.co</td>\n",
       "      <td></td>\n",
       "      <td>Is anonymous</td>\n",
       "      <td></td>\n",
       "    </tr>\n",
       "    <tr>\n",
       "      <th>1</th>\n",
       "      <td>390551098-7</td>\n",
       "      <td></td>\n",
       "      <td>Helga</td>\n",
       "      <td>Benech</td>\n",
       "      <td>48684 Jenifer Way</td>\n",
       "      <td>Las Vegas</td>\n",
       "      <td>NV</td>\n",
       "      <td>89130</td>\n",
       "      <td></td>\n",
       "      <td>ebenech1@goodreads.com</td>\n",
       "      <td></td>\n",
       "      <td></td>\n",
       "    </tr>\n",
       "    <tr>\n",
       "      <th>2</th>\n",
       "      <td>093004505-X</td>\n",
       "      <td></td>\n",
       "      <td>Masha</td>\n",
       "      <td></td>\n",
       "      <td>353 Schmedeman Park</td>\n",
       "      <td>Indianapolis</td>\n",
       "      <td>IN</td>\n",
       "      <td></td>\n",
       "      <td></td>\n",
       "      <td>577-374-96523</td>\n",
       "      <td></td>\n",
       "      <td></td>\n",
       "    </tr>\n",
       "    <tr>\n",
       "      <th>3</th>\n",
       "      <td>729707142-0</td>\n",
       "      <td>A Company Co.</td>\n",
       "      <td></td>\n",
       "      <td></td>\n",
       "      <td>2055 Lakewood Parkway</td>\n",
       "      <td>Camden</td>\n",
       "      <td>NJ</td>\n",
       "      <td>8104</td>\n",
       "      <td></td>\n",
       "      <td></td>\n",
       "      <td></td>\n",
       "      <td>No</td>\n",
       "    </tr>\n",
       "    <tr>\n",
       "      <th>4</th>\n",
       "      <td>488464926-5</td>\n",
       "      <td></td>\n",
       "      <td>Hoyt</td>\n",
       "      <td>Castille</td>\n",
       "      <td>37 8th Trail</td>\n",
       "      <td>Grand Rapids</td>\n",
       "      <td>MI</td>\n",
       "      <td>49560</td>\n",
       "      <td></td>\n",
       "      <td>fcastille4@timesonline.co.uk</td>\n",
       "      <td></td>\n",
       "      <td>No</td>\n",
       "    </tr>\n",
       "  </tbody>\n",
       "</table>\n",
       "</div>"
      ],
      "text/plain": [
       "        Number   Company Name       First Name Last Name  \\\n",
       "0  653377813-7                 Karita & Kelvin   Lumbers   \n",
       "1  390551098-7                           Helga    Benech   \n",
       "2  093004505-X                           Masha             \n",
       "3  729707142-0  A Company Co.                              \n",
       "4  488464926-5                            Hoyt  Castille   \n",
       "\n",
       "                  Street          City State     Postal                Phone  \\\n",
       "0      4 Bunting Parkway    Washington    DC  20535-871  kklumbers@ yahoo.co   \n",
       "1      48684 Jenifer Way     Las Vegas    NV      89130                        \n",
       "2    353 Schmedeman Park  Indianapolis    IN                                   \n",
       "3  2055 Lakewood Parkway        Camden    NJ       8104                        \n",
       "4           37 8th Trail  Grand Rapids    MI      49560                        \n",
       "\n",
       "                         E-mail       Remarks Deceased?  \n",
       "0                                Is anonymous            \n",
       "1        ebenech1@goodreads.com                          \n",
       "2                 577-374-96523                          \n",
       "3                                                    No  \n",
       "4  fcastille4@timesonline.co.uk                      No  "
      ]
     },
     "execution_count": 4,
     "metadata": {},
     "output_type": "execute_result"
    }
   ],
   "source": [
    "contacts.head()"
   ]
  },
  {
   "cell_type": "code",
   "execution_count": 5,
   "id": "8ef2b720",
   "metadata": {},
   "outputs": [
    {
     "data": {
      "text/html": [
       "<div>\n",
       "<style scoped>\n",
       "    .dataframe tbody tr th:only-of-type {\n",
       "        vertical-align: middle;\n",
       "    }\n",
       "\n",
       "    .dataframe tbody tr th {\n",
       "        vertical-align: top;\n",
       "    }\n",
       "\n",
       "    .dataframe thead th {\n",
       "        text-align: right;\n",
       "    }\n",
       "</style>\n",
       "<table border=\"1\" class=\"dataframe\">\n",
       "  <thead>\n",
       "    <tr style=\"text-align: right;\">\n",
       "      <th></th>\n",
       "      <th>donor_number</th>\n",
       "      <th>gift_id</th>\n",
       "      <th>first_name</th>\n",
       "      <th>last_name</th>\n",
       "      <th>amount received</th>\n",
       "      <th>date</th>\n",
       "      <th>fund_id</th>\n",
       "      <th>credit card type</th>\n",
       "      <th>payment method</th>\n",
       "      <th>pledge_number</th>\n",
       "      <th>notes</th>\n",
       "    </tr>\n",
       "  </thead>\n",
       "  <tbody>\n",
       "    <tr>\n",
       "      <th>0</th>\n",
       "      <td>848348568-0</td>\n",
       "      <td>95196378.0</td>\n",
       "      <td>Mannie</td>\n",
       "      <td>Turpin</td>\n",
       "      <td>$4.15</td>\n",
       "      <td>3/4/2019</td>\n",
       "      <td></td>\n",
       "      <td></td>\n",
       "      <td>PayPal</td>\n",
       "      <td></td>\n",
       "      <td></td>\n",
       "    </tr>\n",
       "    <tr>\n",
       "      <th>1</th>\n",
       "      <td>729707142-0</td>\n",
       "      <td>95196889.0</td>\n",
       "      <td>Cymbre</td>\n",
       "      <td>Cross</td>\n",
       "      <td>2.3648</td>\n",
       "      <td>3/5/2019</td>\n",
       "      <td>ChildSponsorship</td>\n",
       "      <td></td>\n",
       "      <td>check</td>\n",
       "      <td></td>\n",
       "      <td></td>\n",
       "    </tr>\n",
       "    <tr>\n",
       "      <th>2</th>\n",
       "      <td>687119652-8</td>\n",
       "      <td>95197689.0</td>\n",
       "      <td>Ruggiero</td>\n",
       "      <td>Makepeace</td>\n",
       "      <td>$1.31</td>\n",
       "      <td>3/7/2019</td>\n",
       "      <td></td>\n",
       "      <td></td>\n",
       "      <td>cash</td>\n",
       "      <td></td>\n",
       "      <td></td>\n",
       "    </tr>\n",
       "    <tr>\n",
       "      <th>3</th>\n",
       "      <td>653377813-7</td>\n",
       "      <td>95198998.0</td>\n",
       "      <td>Karita</td>\n",
       "      <td>Lumbers</td>\n",
       "      <td>$2.04</td>\n",
       "      <td>3/10/2019</td>\n",
       "      <td></td>\n",
       "      <td>American Ex</td>\n",
       "      <td>credit card</td>\n",
       "      <td></td>\n",
       "      <td>In honor of Mannie Turpin</td>\n",
       "    </tr>\n",
       "    <tr>\n",
       "      <th>4</th>\n",
       "      <td>390551098-7</td>\n",
       "      <td>95198999.0</td>\n",
       "      <td>Helga</td>\n",
       "      <td>Benech</td>\n",
       "      <td>$5.80</td>\n",
       "      <td>2019/1/10</td>\n",
       "      <td></td>\n",
       "      <td></td>\n",
       "      <td>cash</td>\n",
       "      <td>89752384.0</td>\n",
       "      <td></td>\n",
       "    </tr>\n",
       "  </tbody>\n",
       "</table>\n",
       "</div>"
      ],
      "text/plain": [
       "  donor_number     gift_id first_name  last_name amount received       date  \\\n",
       "0  848348568-0  95196378.0     Mannie     Turpin           $4.15   3/4/2019   \n",
       "1  729707142-0  95196889.0     Cymbre      Cross          2.3648   3/5/2019   \n",
       "2  687119652-8  95197689.0   Ruggiero  Makepeace           $1.31   3/7/2019   \n",
       "3  653377813-7  95198998.0     Karita    Lumbers           $2.04  3/10/2019   \n",
       "4  390551098-7  95198999.0      Helga     Benech           $5.80  2019/1/10   \n",
       "\n",
       "            fund_id credit card type payment method pledge_number  \\\n",
       "0                                            PayPal                 \n",
       "1  ChildSponsorship                           check                 \n",
       "2                                              cash                 \n",
       "3                        American Ex    credit card                 \n",
       "4                                              cash    89752384.0   \n",
       "\n",
       "                       notes  \n",
       "0                             \n",
       "1                             \n",
       "2                             \n",
       "3  In honor of Mannie Turpin  \n",
       "4                             "
      ]
     },
     "execution_count": 5,
     "metadata": {},
     "output_type": "execute_result"
    }
   ],
   "source": [
    "gifts.head()"
   ]
  },
  {
   "cell_type": "code",
   "execution_count": 6,
   "id": "0452e285",
   "metadata": {},
   "outputs": [
    {
     "data": {
      "text/html": [
       "<div>\n",
       "<style scoped>\n",
       "    .dataframe tbody tr th:only-of-type {\n",
       "        vertical-align: middle;\n",
       "    }\n",
       "\n",
       "    .dataframe tbody tr th {\n",
       "        vertical-align: top;\n",
       "    }\n",
       "\n",
       "    .dataframe thead th {\n",
       "        text-align: right;\n",
       "    }\n",
       "</style>\n",
       "<table border=\"1\" class=\"dataframe\">\n",
       "  <thead>\n",
       "    <tr style=\"text-align: right;\">\n",
       "      <th></th>\n",
       "      <th>donor_number</th>\n",
       "      <th>Phone</th>\n",
       "      <th>E-mail</th>\n",
       "      <th>Fax</th>\n",
       "    </tr>\n",
       "  </thead>\n",
       "  <tbody>\n",
       "    <tr>\n",
       "      <th>0</th>\n",
       "      <td>653377813-7</td>\n",
       "      <td>832-442-4988</td>\n",
       "      <td></td>\n",
       "      <td></td>\n",
       "    </tr>\n",
       "    <tr>\n",
       "      <th>1</th>\n",
       "      <td>390551098-7</td>\n",
       "      <td></td>\n",
       "      <td>ebenech1@goodreads.com</td>\n",
       "      <td></td>\n",
       "    </tr>\n",
       "    <tr>\n",
       "      <th>2</th>\n",
       "      <td>093004505-X</td>\n",
       "      <td>818-323-9865</td>\n",
       "      <td></td>\n",
       "      <td>818-156-7985</td>\n",
       "    </tr>\n",
       "    <tr>\n",
       "      <th>3</th>\n",
       "      <td>729707142-0</td>\n",
       "      <td></td>\n",
       "      <td></td>\n",
       "      <td></td>\n",
       "    </tr>\n",
       "    <tr>\n",
       "      <th>4</th>\n",
       "      <td>488464926-5</td>\n",
       "      <td></td>\n",
       "      <td>fcastille4@timesonline.co.uk</td>\n",
       "      <td></td>\n",
       "    </tr>\n",
       "  </tbody>\n",
       "</table>\n",
       "</div>"
      ],
      "text/plain": [
       "  donor_number         Phone                        E-mail           Fax\n",
       "0  653377813-7  832-442-4988                                            \n",
       "1  390551098-7                      ebenech1@goodreads.com              \n",
       "2  093004505-X  818-323-9865                                818-156-7985\n",
       "3  729707142-0                                                          \n",
       "4  488464926-5                fcastille4@timesonline.co.uk              "
      ]
     },
     "execution_count": 6,
     "metadata": {},
     "output_type": "execute_result"
    }
   ],
   "source": [
    "contact_methods.head()"
   ]
  },
  {
   "cell_type": "markdown",
   "id": "2c0e27ce",
   "metadata": {},
   "source": [
    "Before I begin the performing the analysis in each method's respective notebook, I'm going to standardize the column names and types across the 3 DataFrames so I can pass them to each notebook and save myself some tedious typing**<br>\n",
    "<br>\n",
    "** Also doing this to show usefullness of juptyer notebook in production environments :)"
   ]
  },
  {
   "cell_type": "markdown",
   "id": "bb4c7253",
   "metadata": {},
   "source": [
    "## Housekeeping 1\n",
    "> Format Column Names\n",
    "<br>\n",
    "\n",
    "- Nothing worse than malformed column names, amiright?"
   ]
  },
  {
   "cell_type": "code",
   "execution_count": 7,
   "id": "3de406cf",
   "metadata": {},
   "outputs": [],
   "source": [
    "#| exports\n",
    "def to_camel_case(s):\n",
    "    # Remove all non-alphanumeric characters and replace with a space\n",
    "    s = re.sub(r'[^a-zA-Z0-9]', ' ', s)\n",
    "    \n",
    "    # Split by space and capitalize the first letter of each word\n",
    "    words = s.split()\n",
    "    return ''.join(word.capitalize() for word in words)"
   ]
  },
  {
   "cell_type": "code",
   "execution_count": 8,
   "id": "04129a8a",
   "metadata": {},
   "outputs": [],
   "source": [
    "#| exports\n",
    "def transform_cnames(df, func=to_camel_case):\n",
    "    df.columns = df.columns.map(func)\n",
    "    return None"
   ]
  },
  {
   "cell_type": "code",
   "execution_count": 9,
   "id": "d484ebb2",
   "metadata": {},
   "outputs": [],
   "source": [
    "#| exports\n",
    "for df in [contact_methods, contacts, gifts]:\n",
    "    transform_cnames(df)"
   ]
  },
  {
   "cell_type": "code",
   "execution_count": 10,
   "id": "4da4b631",
   "metadata": {},
   "outputs": [
    {
     "data": {
      "text/plain": [
       "Index(['Number', 'CompanyName', 'FirstName', 'LastName', 'Street', 'City',\n",
       "       'State', 'Postal', 'Phone', 'EMail', 'Remarks', 'Deceased'],\n",
       "      dtype='object')"
      ]
     },
     "execution_count": 10,
     "metadata": {},
     "output_type": "execute_result"
    }
   ],
   "source": [
    "#| hide\n",
    "contacts.columns"
   ]
  },
  {
   "cell_type": "markdown",
   "id": "7275b5f8",
   "metadata": {},
   "source": [
    "## Housekeeping 2\n",
    "> Cleaning the column types"
   ]
  },
  {
   "cell_type": "markdown",
   "id": "2e6a161e",
   "metadata": {},
   "source": [
    "I identified 2 columns on the gift table that should be ints, replacing those values"
   ]
  },
  {
   "cell_type": "code",
   "execution_count": 11,
   "id": "84f2fe90",
   "metadata": {},
   "outputs": [],
   "source": [
    "#| exports\n",
    "int_cols = ['GiftId', 'PledgeNumber']"
   ]
  },
  {
   "cell_type": "code",
   "execution_count": 12,
   "id": "873599e3",
   "metadata": {},
   "outputs": [],
   "source": [
    "#| exports\n",
    "gifts[int_cols] = gifts[int_cols].replace({'':0}).astype(int)"
   ]
  },
  {
   "cell_type": "markdown",
   "id": "e3c265e5",
   "metadata": {},
   "source": [
    "Looks like AmountRecieved should really be a float, I'm removing any special characters (besides dashes and periods) and converting to a float :)"
   ]
  },
  {
   "cell_type": "code",
   "execution_count": 13,
   "id": "fdaf4f77",
   "metadata": {},
   "outputs": [],
   "source": [
    "#| exports\n",
    "gifts['AmountReceived'] = gifts.AmountReceived.apply(lambda x: float(re.sub(r'[^a-zA-Z0-9\\.-]', '', x)))"
   ]
  },
  {
   "cell_type": "markdown",
   "id": "b187d241",
   "metadata": {},
   "source": [
    "Replacing 0 with unique id"
   ]
  },
  {
   "cell_type": "code",
   "execution_count": 14,
   "id": "fa2e28b5",
   "metadata": {},
   "outputs": [
    {
     "data": {
      "text/html": [
       "<div>\n",
       "<style scoped>\n",
       "    .dataframe tbody tr th:only-of-type {\n",
       "        vertical-align: middle;\n",
       "    }\n",
       "\n",
       "    .dataframe tbody tr th {\n",
       "        vertical-align: top;\n",
       "    }\n",
       "\n",
       "    .dataframe thead th {\n",
       "        text-align: right;\n",
       "    }\n",
       "</style>\n",
       "<table border=\"1\" class=\"dataframe\">\n",
       "  <thead>\n",
       "    <tr style=\"text-align: right;\">\n",
       "      <th></th>\n",
       "      <th>DonorNumber</th>\n",
       "      <th>GiftId</th>\n",
       "      <th>FirstName</th>\n",
       "      <th>LastName</th>\n",
       "      <th>AmountReceived</th>\n",
       "      <th>Date</th>\n",
       "      <th>FundId</th>\n",
       "      <th>CreditCardType</th>\n",
       "      <th>PaymentMethod</th>\n",
       "      <th>PledgeNumber</th>\n",
       "      <th>Notes</th>\n",
       "    </tr>\n",
       "  </thead>\n",
       "  <tbody>\n",
       "    <tr>\n",
       "      <th>0</th>\n",
       "      <td>848348568-0</td>\n",
       "      <td>95196378</td>\n",
       "      <td>Mannie</td>\n",
       "      <td>Turpin</td>\n",
       "      <td>4.1500</td>\n",
       "      <td>3/4/2019</td>\n",
       "      <td></td>\n",
       "      <td></td>\n",
       "      <td>PayPal</td>\n",
       "      <td>0</td>\n",
       "      <td></td>\n",
       "    </tr>\n",
       "    <tr>\n",
       "      <th>1</th>\n",
       "      <td>729707142-0</td>\n",
       "      <td>95196889</td>\n",
       "      <td>Cymbre</td>\n",
       "      <td>Cross</td>\n",
       "      <td>2.3648</td>\n",
       "      <td>3/5/2019</td>\n",
       "      <td>ChildSponsorship</td>\n",
       "      <td></td>\n",
       "      <td>check</td>\n",
       "      <td>0</td>\n",
       "      <td></td>\n",
       "    </tr>\n",
       "    <tr>\n",
       "      <th>2</th>\n",
       "      <td>687119652-8</td>\n",
       "      <td>95197689</td>\n",
       "      <td>Ruggiero</td>\n",
       "      <td>Makepeace</td>\n",
       "      <td>1.3100</td>\n",
       "      <td>3/7/2019</td>\n",
       "      <td></td>\n",
       "      <td></td>\n",
       "      <td>cash</td>\n",
       "      <td>0</td>\n",
       "      <td></td>\n",
       "    </tr>\n",
       "    <tr>\n",
       "      <th>3</th>\n",
       "      <td>653377813-7</td>\n",
       "      <td>95198998</td>\n",
       "      <td>Karita</td>\n",
       "      <td>Lumbers</td>\n",
       "      <td>2.0400</td>\n",
       "      <td>3/10/2019</td>\n",
       "      <td></td>\n",
       "      <td>American Ex</td>\n",
       "      <td>credit card</td>\n",
       "      <td>0</td>\n",
       "      <td>In honor of Mannie Turpin</td>\n",
       "    </tr>\n",
       "    <tr>\n",
       "      <th>4</th>\n",
       "      <td>390551098-7</td>\n",
       "      <td>95198999</td>\n",
       "      <td>Helga</td>\n",
       "      <td>Benech</td>\n",
       "      <td>5.8000</td>\n",
       "      <td>2019/1/10</td>\n",
       "      <td></td>\n",
       "      <td></td>\n",
       "      <td>cash</td>\n",
       "      <td>89752384</td>\n",
       "      <td></td>\n",
       "    </tr>\n",
       "  </tbody>\n",
       "</table>\n",
       "</div>"
      ],
      "text/plain": [
       "   DonorNumber    GiftId FirstName   LastName  AmountReceived       Date  \\\n",
       "0  848348568-0  95196378    Mannie     Turpin          4.1500   3/4/2019   \n",
       "1  729707142-0  95196889    Cymbre      Cross          2.3648   3/5/2019   \n",
       "2  687119652-8  95197689  Ruggiero  Makepeace          1.3100   3/7/2019   \n",
       "3  653377813-7  95198998    Karita    Lumbers          2.0400  3/10/2019   \n",
       "4  390551098-7  95198999     Helga     Benech          5.8000  2019/1/10   \n",
       "\n",
       "             FundId CreditCardType PaymentMethod  PledgeNumber  \\\n",
       "0                                         PayPal             0   \n",
       "1  ChildSponsorship                        check             0   \n",
       "2                                           cash             0   \n",
       "3                      American Ex   credit card             0   \n",
       "4                                           cash      89752384   \n",
       "\n",
       "                       Notes  \n",
       "0                             \n",
       "1                             \n",
       "2                             \n",
       "3  In honor of Mannie Turpin  \n",
       "4                             "
      ]
     },
     "execution_count": 14,
     "metadata": {},
     "output_type": "execute_result"
    }
   ],
   "source": [
    "gifts.head(5)"
   ]
  },
  {
   "cell_type": "code",
   "execution_count": 15,
   "id": "ef0351db",
   "metadata": {},
   "outputs": [],
   "source": [
    "#| exports\n",
    "gifts.loc[ gifts.PledgeNumber == 0, 'PledgeNumber'] = gifts[gifts.PledgeNumber == 0].index\n",
    "gifts.loc[ gifts.GiftId == 0, 'GiftId'] = gifts[gifts.GiftId == 0].index"
   ]
  },
  {
   "cell_type": "code",
   "execution_count": 16,
   "id": "bab85c84",
   "metadata": {},
   "outputs": [],
   "source": [
    "#| exports\n",
    "gifts = gifts.rename(columns={'PledgeNumber': 'LegacyPledgeID', 'GiftId': 'LegacyGiftId'})"
   ]
  },
  {
   "cell_type": "markdown",
   "id": "6bd5386a",
   "metadata": {},
   "source": [
    "## Housekeeping 3\n",
    "> Identify and clean any pieces of data in the wrong column"
   ]
  },
  {
   "cell_type": "code",
   "execution_count": 17,
   "id": "b88a9fbf",
   "metadata": {},
   "outputs": [
    {
     "data": {
      "text/html": [
       "<div>\n",
       "<style scoped>\n",
       "    .dataframe tbody tr th:only-of-type {\n",
       "        vertical-align: middle;\n",
       "    }\n",
       "\n",
       "    .dataframe tbody tr th {\n",
       "        vertical-align: top;\n",
       "    }\n",
       "\n",
       "    .dataframe thead th {\n",
       "        text-align: right;\n",
       "    }\n",
       "</style>\n",
       "<table border=\"1\" class=\"dataframe\">\n",
       "  <thead>\n",
       "    <tr style=\"text-align: right;\">\n",
       "      <th></th>\n",
       "      <th>Phone</th>\n",
       "      <th>EMail</th>\n",
       "    </tr>\n",
       "  </thead>\n",
       "  <tbody>\n",
       "    <tr>\n",
       "      <th>0</th>\n",
       "      <td>kklumbers@ yahoo.co</td>\n",
       "      <td></td>\n",
       "    </tr>\n",
       "    <tr>\n",
       "      <th>1</th>\n",
       "      <td></td>\n",
       "      <td>ebenech1@goodreads.com</td>\n",
       "    </tr>\n",
       "    <tr>\n",
       "      <th>2</th>\n",
       "      <td></td>\n",
       "      <td>577-374-96523</td>\n",
       "    </tr>\n",
       "  </tbody>\n",
       "</table>\n",
       "</div>"
      ],
      "text/plain": [
       "                 Phone                   EMail\n",
       "0  kklumbers@ yahoo.co                        \n",
       "1                       ebenech1@goodreads.com\n",
       "2                                577-374-96523"
      ]
     },
     "execution_count": 17,
     "metadata": {},
     "output_type": "execute_result"
    }
   ],
   "source": [
    "contacts[['Phone', 'EMail']].head(3)"
   ]
  },
  {
   "cell_type": "markdown",
   "id": "a5ca7a70",
   "metadata": {},
   "source": [
    "Creating a function that uses regular expressions to identify a string as a phone or a email"
   ]
  },
  {
   "cell_type": "code",
   "execution_count": 18,
   "id": "65278e34",
   "metadata": {},
   "outputs": [],
   "source": [
    "#| exports\n",
    "def classify_phone_email(value):\n",
    "    if \"@\" in value:\n",
    "        return \"email\"\n",
    "    if re.search(r'\\d{3}-\\d{3}-\\d{4}', value):\n",
    "        return \"phone\"\n",
    "    return None"
   ]
  },
  {
   "cell_type": "markdown",
   "id": "49c1b8f4",
   "metadata": {},
   "source": [
    "Looping over phone & email records.<br>\n",
    "<br>\n",
    "If a phone and/or email are identified in the wrong column, they will be swapped"
   ]
  },
  {
   "cell_type": "code",
   "execution_count": 19,
   "id": "e60b8400",
   "metadata": {},
   "outputs": [],
   "source": [
    "#| exports\n",
    "for index, row in contacts.iterrows():\n",
    "    phone_classification = classify_phone_email(row['Phone'])\n",
    "    email_classification = classify_phone_email(row['EMail'])\n",
    "\n",
    "    if phone_classification == \"email\":\n",
    "        contacts.at[index, 'EMail'] = row['Phone']\n",
    "        contacts.at[index, 'Phone'] = ''\n",
    "\n",
    "    if email_classification == \"phone\":\n",
    "        contacts.at[index, 'Phone'] = row['EMail']\n",
    "        contacts.at[index, 'EMail'] = ''"
   ]
  },
  {
   "cell_type": "code",
   "execution_count": 20,
   "id": "cbdfb1c5",
   "metadata": {},
   "outputs": [
    {
     "data": {
      "text/html": [
       "<div>\n",
       "<style scoped>\n",
       "    .dataframe tbody tr th:only-of-type {\n",
       "        vertical-align: middle;\n",
       "    }\n",
       "\n",
       "    .dataframe tbody tr th {\n",
       "        vertical-align: top;\n",
       "    }\n",
       "\n",
       "    .dataframe thead th {\n",
       "        text-align: right;\n",
       "    }\n",
       "</style>\n",
       "<table border=\"1\" class=\"dataframe\">\n",
       "  <thead>\n",
       "    <tr style=\"text-align: right;\">\n",
       "      <th></th>\n",
       "      <th>Phone</th>\n",
       "      <th>EMail</th>\n",
       "    </tr>\n",
       "  </thead>\n",
       "  <tbody>\n",
       "    <tr>\n",
       "      <th>0</th>\n",
       "      <td></td>\n",
       "      <td>kklumbers@ yahoo.co</td>\n",
       "    </tr>\n",
       "    <tr>\n",
       "      <th>1</th>\n",
       "      <td></td>\n",
       "      <td>ebenech1@goodreads.com</td>\n",
       "    </tr>\n",
       "    <tr>\n",
       "      <th>2</th>\n",
       "      <td>577-374-96523</td>\n",
       "      <td></td>\n",
       "    </tr>\n",
       "  </tbody>\n",
       "</table>\n",
       "</div>"
      ],
      "text/plain": [
       "           Phone                   EMail\n",
       "0                    kklumbers@ yahoo.co\n",
       "1                 ebenech1@goodreads.com\n",
       "2  577-374-96523                        "
      ]
     },
     "execution_count": 20,
     "metadata": {},
     "output_type": "execute_result"
    }
   ],
   "source": [
    "contacts[['Phone', 'EMail']].head(3)"
   ]
  },
  {
   "cell_type": "markdown",
   "id": "1cfc2c79",
   "metadata": {},
   "source": [
    "## Housekeeping 4\n",
    ">Consolidating contacts table <br>\n",
    "<br>\n",
    "- Searching for missing users <br>\n",
    "- Splitting / joining households\n"
   ]
  },
  {
   "cell_type": "markdown",
   "id": "69d667d3",
   "metadata": {},
   "source": [
    "### Checking for Missing records <br><br>"
   ]
  },
  {
   "cell_type": "markdown",
   "id": "b8b5d9e9",
   "metadata": {},
   "source": [
    "Checking for any DonorNumbers that are NOT IN contacts Number..."
   ]
  },
  {
   "cell_type": "code",
   "execution_count": 21,
   "id": "68b2b122",
   "metadata": {},
   "outputs": [
    {
     "data": {
      "text/plain": [
       "True"
      ]
     },
     "execution_count": 21,
     "metadata": {},
     "output_type": "execute_result"
    }
   ],
   "source": [
    "(~gifts.DonorNumber.isin(contacts.Number.unique())).any()"
   ]
  },
  {
   "cell_type": "markdown",
   "id": "110ba8a4",
   "metadata": {},
   "source": [
    "Found 1! <br>\n",
    "<br>\n",
    "Doing the same for contact_methods"
   ]
  },
  {
   "cell_type": "code",
   "execution_count": 22,
   "id": "b202d42d",
   "metadata": {},
   "outputs": [
    {
     "data": {
      "text/plain": [
       "False"
      ]
     },
     "execution_count": 22,
     "metadata": {},
     "output_type": "execute_result"
    }
   ],
   "source": [
    "(~contact_methods.DonorNumber.isin(contacts.Number.unique())).any()"
   ]
  },
  {
   "cell_type": "markdown",
   "id": "3473adf1",
   "metadata": {},
   "source": [
    "Didn't find any there <br>\n",
    "Going to extract the missing records from the gifts table"
   ]
  },
  {
   "cell_type": "code",
   "execution_count": 23,
   "id": "08df5c73",
   "metadata": {},
   "outputs": [],
   "source": [
    "#| exports\n",
    "donors_not_in_contacts = gifts.loc[~gifts.DonorNumber.isin(contacts.Number.unique()), :]"
   ]
  },
  {
   "cell_type": "code",
   "execution_count": 24,
   "id": "45e4640e",
   "metadata": {},
   "outputs": [
    {
     "data": {
      "text/html": [
       "<div>\n",
       "<style scoped>\n",
       "    .dataframe tbody tr th:only-of-type {\n",
       "        vertical-align: middle;\n",
       "    }\n",
       "\n",
       "    .dataframe tbody tr th {\n",
       "        vertical-align: top;\n",
       "    }\n",
       "\n",
       "    .dataframe thead th {\n",
       "        text-align: right;\n",
       "    }\n",
       "</style>\n",
       "<table border=\"1\" class=\"dataframe\">\n",
       "  <thead>\n",
       "    <tr style=\"text-align: right;\">\n",
       "      <th></th>\n",
       "      <th>DonorNumber</th>\n",
       "      <th>LegacyGiftId</th>\n",
       "      <th>FirstName</th>\n",
       "      <th>LastName</th>\n",
       "      <th>AmountReceived</th>\n",
       "      <th>Date</th>\n",
       "      <th>FundId</th>\n",
       "      <th>CreditCardType</th>\n",
       "      <th>PaymentMethod</th>\n",
       "      <th>LegacyPledgeID</th>\n",
       "      <th>Notes</th>\n",
       "    </tr>\n",
       "  </thead>\n",
       "  <tbody>\n",
       "    <tr>\n",
       "      <th>9</th>\n",
       "      <td>809975531-Y</td>\n",
       "      <td>9</td>\n",
       "      <td>Adeline</td>\n",
       "      <td>Shakespeare</td>\n",
       "      <td>8.48</td>\n",
       "      <td>8/14/2019</td>\n",
       "      <td></td>\n",
       "      <td>AMEX</td>\n",
       "      <td>credit card</td>\n",
       "      <td>9</td>\n",
       "      <td></td>\n",
       "    </tr>\n",
       "    <tr>\n",
       "      <th>27</th>\n",
       "      <td>809975531-Y</td>\n",
       "      <td>27</td>\n",
       "      <td>Adeline</td>\n",
       "      <td>Shakespeare</td>\n",
       "      <td>7.58</td>\n",
       "      <td>8/14/2019</td>\n",
       "      <td>Color run, ChildSponsorship</td>\n",
       "      <td>Mastercard</td>\n",
       "      <td>credit card</td>\n",
       "      <td>27</td>\n",
       "      <td></td>\n",
       "    </tr>\n",
       "  </tbody>\n",
       "</table>\n",
       "</div>"
      ],
      "text/plain": [
       "    DonorNumber  LegacyGiftId FirstName     LastName  AmountReceived  \\\n",
       "9   809975531-Y             9   Adeline  Shakespeare            8.48   \n",
       "27  809975531-Y            27   Adeline  Shakespeare            7.58   \n",
       "\n",
       "         Date                       FundId CreditCardType PaymentMethod  \\\n",
       "9   8/14/2019                                        AMEX   credit card   \n",
       "27  8/14/2019  Color run, ChildSponsorship     Mastercard   credit card   \n",
       "\n",
       "    LegacyPledgeID Notes  \n",
       "9                9        \n",
       "27              27        "
      ]
     },
     "execution_count": 24,
     "metadata": {},
     "output_type": "execute_result"
    }
   ],
   "source": [
    "donors_not_in_contacts"
   ]
  },
  {
   "cell_type": "markdown",
   "id": "44098fd5",
   "metadata": {},
   "source": [
    "Adding to Shakespeare to our contacts!"
   ]
  },
  {
   "cell_type": "code",
   "execution_count": 25,
   "id": "00a1fb50",
   "metadata": {},
   "outputs": [],
   "source": [
    "#| exports\n",
    "contacts = pd.concat([\n",
    "    contacts,\n",
    "    # Dataframe of donors not in contacts\n",
    "    pd.DataFrame(donors_not_in_contacts[['DonorNumber', 'FirstName', 'LastName']]\n",
    "                 .drop_duplicates()\n",
    "                 .rename(columns={'DonorNumber': 'Number'})\n",
    "                 .drop_duplicates()\n",
    "                 .to_dict('records'))\n",
    "])"
   ]
  },
  {
   "cell_type": "markdown",
   "id": "1be8e740",
   "metadata": {},
   "source": [
    "### Spliting rows with Multiple People"
   ]
  },
  {
   "cell_type": "code",
   "execution_count": 26,
   "id": "79402d08",
   "metadata": {},
   "outputs": [
    {
     "data": {
      "text/plain": [
       "0    Karita & Kelvin\n",
       "Name: FirstName, dtype: object"
      ]
     },
     "execution_count": 26,
     "metadata": {},
     "output_type": "execute_result"
    }
   ],
   "source": [
    "contacts.FirstName.head(1)"
   ]
  },
  {
   "cell_type": "markdown",
   "id": "65f8bd34",
   "metadata": {},
   "source": [
    "Split the names on ' & ' or ' and ', then expand the resulting lists into new rows"
   ]
  },
  {
   "cell_type": "code",
   "execution_count": 27,
   "id": "8f4ac5b4",
   "metadata": {},
   "outputs": [],
   "source": [
    "#| exports\n",
    "contacts[['FirstName', 'SecondaryFirstName']] = contacts['FirstName'].str.split(' & | and ', expand=True).fillna('')"
   ]
  },
  {
   "cell_type": "markdown",
   "id": "3a2d8760",
   "metadata": {},
   "source": [
    "Aditionally, going to look for any records where there's a duplicated `Number` <br>\n",
    "<br>\n",
    "I'm assuming `Number` is a primary key for a household or organization"
   ]
  },
  {
   "cell_type": "code",
   "execution_count": 28,
   "id": "540d35c8",
   "metadata": {},
   "outputs": [],
   "source": [
    "#| exports\n",
    "records_to_join = contacts.loc[contacts.Number.duplicated(), :].to_dict(orient='records')"
   ]
  },
  {
   "cell_type": "markdown",
   "id": "ee4fbba0",
   "metadata": {},
   "source": [
    " Removing duplicates from contacts before joining"
   ]
  },
  {
   "cell_type": "code",
   "execution_count": 29,
   "id": "c91e7d17",
   "metadata": {},
   "outputs": [],
   "source": [
    "#| exports\n",
    "contacts = contacts.loc[~contacts.Number.duplicated(), :]"
   ]
  },
  {
   "cell_type": "markdown",
   "id": "73788cc8",
   "metadata": {},
   "source": [
    "Adding dupliates as secondary contacts"
   ]
  },
  {
   "cell_type": "code",
   "execution_count": 30,
   "id": "dd0ab511",
   "metadata": {},
   "outputs": [],
   "source": [
    "#| exports\n",
    "for record in records_to_join:\n",
    "    contacts.loc[contacts.Number.isin([record['Number']]), ['SecondaryFirstName', 'SecondaryLastName']] = [record['FirstName'], record['LastName']]"
   ]
  },
  {
   "cell_type": "code",
   "execution_count": 31,
   "id": "cf4be138",
   "metadata": {},
   "outputs": [],
   "source": [
    "#| export\n",
    "contacts['SecondaryLastName'] = contacts.SecondaryLastName.fillna('')"
   ]
  },
  {
   "cell_type": "markdown",
   "id": "336a23b4",
   "metadata": {},
   "source": [
    "Adding Secondary Last Name for the appropriate users"
   ]
  },
  {
   "cell_type": "code",
   "execution_count": 32,
   "id": "49922f42",
   "metadata": {},
   "outputs": [],
   "source": [
    "#| exports\n",
    "contacts['SecondaryLastName'] = contacts.apply(lambda x: x['LastName'] if x['SecondaryLastName'] == '' and x['SecondaryFirstName'] != '' else x['SecondaryLastName'], axis=1)"
   ]
  },
  {
   "cell_type": "markdown",
   "id": "5c3c1f9d",
   "metadata": {},
   "source": [
    "Initializing new columns"
   ]
  },
  {
   "cell_type": "code",
   "execution_count": 33,
   "id": "260daf1b",
   "metadata": {},
   "outputs": [],
   "source": [
    "#| export\n",
    "contacts[['LegacyIndividualId', 'SecondaryLegacyIndividualId']] = None"
   ]
  },
  {
   "cell_type": "code",
   "execution_count": 34,
   "id": "f116e758",
   "metadata": {},
   "outputs": [],
   "source": [
    "#| export\n",
    "contacts.reset_index(inplace=True, drop=True)"
   ]
  },
  {
   "cell_type": "markdown",
   "id": "7b13a778",
   "metadata": {},
   "source": [
    "Adding id since none was provided"
   ]
  },
  {
   "cell_type": "code",
   "execution_count": 35,
   "id": "6e2d5b2f",
   "metadata": {},
   "outputs": [],
   "source": [
    "#| exports\n",
    "id = 0\n",
    "for index, row in contacts.iterrows():\n",
    "    contacts.loc[index, 'LegacyIndividualId'] = id\n",
    "    id += 1\n",
    "    if row['SecondaryFirstName'] != '':\n",
    "        contacts.loc[index, 'SecondaryLegacyIndividualId'] = id\n",
    "        id += 1\n"
   ]
  },
  {
   "cell_type": "code",
   "execution_count": 36,
   "id": "e458a486",
   "metadata": {},
   "outputs": [],
   "source": [
    "#| export\n",
    "contacts.fillna('', inplace=True)"
   ]
  },
  {
   "cell_type": "markdown",
   "id": "4cdfc67c",
   "metadata": {},
   "source": [
    "## Housekeeping 5\n",
    ">Cleaning Records with blank first or last names"
   ]
  },
  {
   "cell_type": "markdown",
   "id": "5d3d417c",
   "metadata": {},
   "source": [
    "Checking for records where FirstName  and/or LastName is blank\n"
   ]
  },
  {
   "cell_type": "code",
   "execution_count": 37,
   "id": "59e8730e",
   "metadata": {},
   "outputs": [],
   "source": [
    "#| exports\n",
    "blank_name_records = ((contacts.FirstName == '') | (contacts.LastName == ''))"
   ]
  },
  {
   "cell_type": "markdown",
   "id": "e5ea2d0f",
   "metadata": {},
   "source": [
    "Previewing the blank name records"
   ]
  },
  {
   "cell_type": "code",
   "execution_count": 38,
   "id": "d2f187f6",
   "metadata": {},
   "outputs": [
    {
     "data": {
      "text/html": [
       "<div>\n",
       "<style scoped>\n",
       "    .dataframe tbody tr th:only-of-type {\n",
       "        vertical-align: middle;\n",
       "    }\n",
       "\n",
       "    .dataframe tbody tr th {\n",
       "        vertical-align: top;\n",
       "    }\n",
       "\n",
       "    .dataframe thead th {\n",
       "        text-align: right;\n",
       "    }\n",
       "</style>\n",
       "<table border=\"1\" class=\"dataframe\">\n",
       "  <thead>\n",
       "    <tr style=\"text-align: right;\">\n",
       "      <th></th>\n",
       "      <th>Number</th>\n",
       "      <th>CompanyName</th>\n",
       "      <th>FirstName</th>\n",
       "      <th>LastName</th>\n",
       "      <th>Street</th>\n",
       "      <th>City</th>\n",
       "      <th>State</th>\n",
       "      <th>Postal</th>\n",
       "      <th>Phone</th>\n",
       "      <th>EMail</th>\n",
       "      <th>Remarks</th>\n",
       "      <th>Deceased</th>\n",
       "      <th>SecondaryFirstName</th>\n",
       "      <th>SecondaryLastName</th>\n",
       "      <th>LegacyIndividualId</th>\n",
       "      <th>SecondaryLegacyIndividualId</th>\n",
       "    </tr>\n",
       "  </thead>\n",
       "  <tbody>\n",
       "    <tr>\n",
       "      <th>2</th>\n",
       "      <td>093004505-X</td>\n",
       "      <td></td>\n",
       "      <td>Masha</td>\n",
       "      <td></td>\n",
       "      <td>353 Schmedeman Park</td>\n",
       "      <td>Indianapolis</td>\n",
       "      <td>IN</td>\n",
       "      <td></td>\n",
       "      <td>577-374-96523</td>\n",
       "      <td></td>\n",
       "      <td></td>\n",
       "      <td></td>\n",
       "      <td></td>\n",
       "      <td></td>\n",
       "      <td>3</td>\n",
       "      <td></td>\n",
       "    </tr>\n",
       "    <tr>\n",
       "      <th>3</th>\n",
       "      <td>729707142-0</td>\n",
       "      <td>A Company Co.</td>\n",
       "      <td></td>\n",
       "      <td></td>\n",
       "      <td>2055 Lakewood Parkway</td>\n",
       "      <td>Camden</td>\n",
       "      <td>NJ</td>\n",
       "      <td>8104</td>\n",
       "      <td></td>\n",
       "      <td></td>\n",
       "      <td></td>\n",
       "      <td>No</td>\n",
       "      <td></td>\n",
       "      <td></td>\n",
       "      <td>4</td>\n",
       "      <td></td>\n",
       "    </tr>\n",
       "    <tr>\n",
       "      <th>7</th>\n",
       "      <td>029456846-8</td>\n",
       "      <td></td>\n",
       "      <td></td>\n",
       "      <td></td>\n",
       "      <td>608 Old Shore Alley</td>\n",
       "      <td>Marietta</td>\n",
       "      <td>GA</td>\n",
       "      <td>30066</td>\n",
       "      <td></td>\n",
       "      <td>jdoley6@telegraph.co.uk</td>\n",
       "      <td></td>\n",
       "      <td></td>\n",
       "      <td></td>\n",
       "      <td></td>\n",
       "      <td>9</td>\n",
       "      <td></td>\n",
       "    </tr>\n",
       "  </tbody>\n",
       "</table>\n",
       "</div>"
      ],
      "text/plain": [
       "        Number    CompanyName FirstName LastName                 Street  \\\n",
       "2  093004505-X                    Masha             353 Schmedeman Park   \n",
       "3  729707142-0  A Company Co.                     2055 Lakewood Parkway   \n",
       "7  029456846-8                                      608 Old Shore Alley   \n",
       "\n",
       "           City State Postal          Phone                    EMail Remarks  \\\n",
       "2  Indianapolis    IN         577-374-96523                                    \n",
       "3        Camden    NJ   8104                                                   \n",
       "7      Marietta    GA  30066                 jdoley6@telegraph.co.uk           \n",
       "\n",
       "  Deceased SecondaryFirstName SecondaryLastName LegacyIndividualId  \\\n",
       "2                                                                3   \n",
       "3       No                                                       4   \n",
       "7                                                                9   \n",
       "\n",
       "  SecondaryLegacyIndividualId  \n",
       "2                              \n",
       "3                              \n",
       "7                              "
      ]
     },
     "execution_count": 38,
     "metadata": {},
     "output_type": "execute_result"
    }
   ],
   "source": [
    "contacts.loc[((contacts.FirstName == '') | (contacts.LastName == '')), :]"
   ]
  },
  {
   "cell_type": "markdown",
   "id": "c1901bb5",
   "metadata": {},
   "source": [
    "Before I delete the records I'm going to check if the names are present on the gift table <br>\n",
    "<br>\n",
    "I'm going to start by getting the unique Numbers that the records belong too"
   ]
  },
  {
   "cell_type": "code",
   "execution_count": 39,
   "id": "ba45d7ce",
   "metadata": {},
   "outputs": [],
   "source": [
    "#| exports\n",
    "blank_name_numbers= contacts.loc[blank_name_records, 'Number']"
   ]
  },
  {
   "cell_type": "code",
   "execution_count": 40,
   "id": "11d19ec1",
   "metadata": {},
   "outputs": [
    {
     "data": {
      "text/html": [
       "<div>\n",
       "<style scoped>\n",
       "    .dataframe tbody tr th:only-of-type {\n",
       "        vertical-align: middle;\n",
       "    }\n",
       "\n",
       "    .dataframe tbody tr th {\n",
       "        vertical-align: top;\n",
       "    }\n",
       "\n",
       "    .dataframe thead th {\n",
       "        text-align: right;\n",
       "    }\n",
       "</style>\n",
       "<table border=\"1\" class=\"dataframe\">\n",
       "  <thead>\n",
       "    <tr style=\"text-align: right;\">\n",
       "      <th></th>\n",
       "      <th>DonorNumber</th>\n",
       "      <th>FirstName</th>\n",
       "      <th>LastName</th>\n",
       "    </tr>\n",
       "  </thead>\n",
       "  <tbody>\n",
       "    <tr>\n",
       "      <th>1</th>\n",
       "      <td>729707142-0</td>\n",
       "      <td>Cymbre</td>\n",
       "      <td>Cross</td>\n",
       "    </tr>\n",
       "    <tr>\n",
       "      <th>6</th>\n",
       "      <td>029456846-8</td>\n",
       "      <td>Romy</td>\n",
       "      <td>Doley</td>\n",
       "    </tr>\n",
       "    <tr>\n",
       "      <th>7</th>\n",
       "      <td>093004505-X</td>\n",
       "      <td>Masha</td>\n",
       "      <td>Butt Gow</td>\n",
       "    </tr>\n",
       "    <tr>\n",
       "      <th>19</th>\n",
       "      <td>729707142-0</td>\n",
       "      <td>Cymbre</td>\n",
       "      <td></td>\n",
       "    </tr>\n",
       "  </tbody>\n",
       "</table>\n",
       "</div>"
      ],
      "text/plain": [
       "    DonorNumber FirstName  LastName\n",
       "1   729707142-0    Cymbre     Cross\n",
       "6   029456846-8      Romy     Doley\n",
       "7   093004505-X     Masha  Butt Gow\n",
       "19  729707142-0    Cymbre          "
      ]
     },
     "execution_count": 40,
     "metadata": {},
     "output_type": "execute_result"
    }
   ],
   "source": [
    "gifts.loc[gifts.DonorNumber.isin(blank_name_numbers), ['DonorNumber', 'FirstName', 'LastName']].drop_duplicates().head(5)"
   ]
  },
  {
   "cell_type": "markdown",
   "id": "d7d8f2fc",
   "metadata": {},
   "source": [
    "The names are present on the gifts table!"
   ]
  },
  {
   "cell_type": "code",
   "execution_count": 41,
   "id": "9dc9e566",
   "metadata": {},
   "outputs": [],
   "source": [
    "#| exports\n",
    "gift_name_records = gifts.loc[gifts.DonorNumber.isin(blank_name_numbers), ['DonorNumber', 'FirstName', 'LastName']].drop_duplicates()"
   ]
  },
  {
   "cell_type": "markdown",
   "id": "17354a3e",
   "metadata": {},
   "source": [
    "Removing the invalid record"
   ]
  },
  {
   "cell_type": "code",
   "execution_count": 42,
   "id": "a0de1679",
   "metadata": {},
   "outputs": [
    {
     "data": {
      "text/html": [
       "<div>\n",
       "<style scoped>\n",
       "    .dataframe tbody tr th:only-of-type {\n",
       "        vertical-align: middle;\n",
       "    }\n",
       "\n",
       "    .dataframe tbody tr th {\n",
       "        vertical-align: top;\n",
       "    }\n",
       "\n",
       "    .dataframe thead th {\n",
       "        text-align: right;\n",
       "    }\n",
       "</style>\n",
       "<table border=\"1\" class=\"dataframe\">\n",
       "  <thead>\n",
       "    <tr style=\"text-align: right;\">\n",
       "      <th></th>\n",
       "      <th>DonorNumber</th>\n",
       "      <th>FirstName</th>\n",
       "      <th>LastName</th>\n",
       "    </tr>\n",
       "  </thead>\n",
       "  <tbody>\n",
       "    <tr>\n",
       "      <th>1</th>\n",
       "      <td>729707142-0</td>\n",
       "      <td>Cymbre</td>\n",
       "      <td>Cross</td>\n",
       "    </tr>\n",
       "    <tr>\n",
       "      <th>6</th>\n",
       "      <td>029456846-8</td>\n",
       "      <td>Romy</td>\n",
       "      <td>Doley</td>\n",
       "    </tr>\n",
       "    <tr>\n",
       "      <th>7</th>\n",
       "      <td>093004505-X</td>\n",
       "      <td>Masha</td>\n",
       "      <td>Butt Gow</td>\n",
       "    </tr>\n",
       "  </tbody>\n",
       "</table>\n",
       "</div>"
      ],
      "text/plain": [
       "   DonorNumber FirstName  LastName\n",
       "1  729707142-0    Cymbre     Cross\n",
       "6  029456846-8      Romy     Doley\n",
       "7  093004505-X     Masha  Butt Gow"
      ]
     },
     "execution_count": 42,
     "metadata": {},
     "output_type": "execute_result"
    }
   ],
   "source": [
    "#| exports\n",
    "gift_name_records = gift_name_records.loc[((gift_name_records.FirstName != '') & (gift_name_records.LastName != '')), :]\n",
    "gift_name_records"
   ]
  },
  {
   "cell_type": "markdown",
   "id": "d47ebcec",
   "metadata": {},
   "source": [
    "Updating the records that previousuly had a blank first or last name"
   ]
  },
  {
   "cell_type": "code",
   "execution_count": 43,
   "id": "8f004cc4",
   "metadata": {},
   "outputs": [],
   "source": [
    "#| exports\n",
    "for _, row in gift_name_records.iterrows():\n",
    "    contacts.loc[contacts['Number'] == row['DonorNumber'], ['FirstName', 'LastName']] = [row['FirstName'], row['LastName']]"
   ]
  },
  {
   "cell_type": "markdown",
   "id": "2eb84bd4",
   "metadata": {},
   "source": [
    "All the records valid names now!"
   ]
  },
  {
   "cell_type": "code",
   "execution_count": 44,
   "id": "9761e560",
   "metadata": {},
   "outputs": [
    {
     "data": {
      "text/html": [
       "<div>\n",
       "<style scoped>\n",
       "    .dataframe tbody tr th:only-of-type {\n",
       "        vertical-align: middle;\n",
       "    }\n",
       "\n",
       "    .dataframe tbody tr th {\n",
       "        vertical-align: top;\n",
       "    }\n",
       "\n",
       "    .dataframe thead th {\n",
       "        text-align: right;\n",
       "    }\n",
       "</style>\n",
       "<table border=\"1\" class=\"dataframe\">\n",
       "  <thead>\n",
       "    <tr style=\"text-align: right;\">\n",
       "      <th></th>\n",
       "      <th>Number</th>\n",
       "      <th>CompanyName</th>\n",
       "      <th>FirstName</th>\n",
       "      <th>LastName</th>\n",
       "      <th>Street</th>\n",
       "      <th>City</th>\n",
       "      <th>State</th>\n",
       "      <th>Postal</th>\n",
       "      <th>Phone</th>\n",
       "      <th>EMail</th>\n",
       "      <th>Remarks</th>\n",
       "      <th>Deceased</th>\n",
       "      <th>SecondaryFirstName</th>\n",
       "      <th>SecondaryLastName</th>\n",
       "      <th>LegacyIndividualId</th>\n",
       "      <th>SecondaryLegacyIndividualId</th>\n",
       "    </tr>\n",
       "  </thead>\n",
       "  <tbody>\n",
       "    <tr>\n",
       "      <th>2</th>\n",
       "      <td>093004505-X</td>\n",
       "      <td></td>\n",
       "      <td>Masha</td>\n",
       "      <td>Butt Gow</td>\n",
       "      <td>353 Schmedeman Park</td>\n",
       "      <td>Indianapolis</td>\n",
       "      <td>IN</td>\n",
       "      <td></td>\n",
       "      <td>577-374-96523</td>\n",
       "      <td></td>\n",
       "      <td></td>\n",
       "      <td></td>\n",
       "      <td></td>\n",
       "      <td></td>\n",
       "      <td>3</td>\n",
       "      <td></td>\n",
       "    </tr>\n",
       "    <tr>\n",
       "      <th>3</th>\n",
       "      <td>729707142-0</td>\n",
       "      <td>A Company Co.</td>\n",
       "      <td>Cymbre</td>\n",
       "      <td>Cross</td>\n",
       "      <td>2055 Lakewood Parkway</td>\n",
       "      <td>Camden</td>\n",
       "      <td>NJ</td>\n",
       "      <td>8104</td>\n",
       "      <td></td>\n",
       "      <td></td>\n",
       "      <td></td>\n",
       "      <td>No</td>\n",
       "      <td></td>\n",
       "      <td></td>\n",
       "      <td>4</td>\n",
       "      <td></td>\n",
       "    </tr>\n",
       "    <tr>\n",
       "      <th>7</th>\n",
       "      <td>029456846-8</td>\n",
       "      <td></td>\n",
       "      <td>Romy</td>\n",
       "      <td>Doley</td>\n",
       "      <td>608 Old Shore Alley</td>\n",
       "      <td>Marietta</td>\n",
       "      <td>GA</td>\n",
       "      <td>30066</td>\n",
       "      <td></td>\n",
       "      <td>jdoley6@telegraph.co.uk</td>\n",
       "      <td></td>\n",
       "      <td></td>\n",
       "      <td></td>\n",
       "      <td></td>\n",
       "      <td>9</td>\n",
       "      <td></td>\n",
       "    </tr>\n",
       "  </tbody>\n",
       "</table>\n",
       "</div>"
      ],
      "text/plain": [
       "        Number    CompanyName FirstName  LastName                 Street  \\\n",
       "2  093004505-X                    Masha  Butt Gow    353 Schmedeman Park   \n",
       "3  729707142-0  A Company Co.    Cymbre     Cross  2055 Lakewood Parkway   \n",
       "7  029456846-8                     Romy     Doley    608 Old Shore Alley   \n",
       "\n",
       "           City State Postal          Phone                    EMail Remarks  \\\n",
       "2  Indianapolis    IN         577-374-96523                                    \n",
       "3        Camden    NJ   8104                                                   \n",
       "7      Marietta    GA  30066                 jdoley6@telegraph.co.uk           \n",
       "\n",
       "  Deceased SecondaryFirstName SecondaryLastName LegacyIndividualId  \\\n",
       "2                                                                3   \n",
       "3       No                                                       4   \n",
       "7                                                                9   \n",
       "\n",
       "  SecondaryLegacyIndividualId  \n",
       "2                              \n",
       "3                              \n",
       "7                              "
      ]
     },
     "execution_count": 44,
     "metadata": {},
     "output_type": "execute_result"
    }
   ],
   "source": [
    "contacts.loc[blank_name_records, :]"
   ]
  },
  {
   "cell_type": "markdown",
   "id": "b5277d38",
   "metadata": {},
   "source": [
    "## Housekeeping 6\n",
    ">Adding Contact Name"
   ]
  },
  {
   "cell_type": "code",
   "execution_count": 45,
   "id": "f5bb499c",
   "metadata": {},
   "outputs": [
    {
     "data": {
      "text/html": [
       "<div>\n",
       "<style scoped>\n",
       "    .dataframe tbody tr th:only-of-type {\n",
       "        vertical-align: middle;\n",
       "    }\n",
       "\n",
       "    .dataframe tbody tr th {\n",
       "        vertical-align: top;\n",
       "    }\n",
       "\n",
       "    .dataframe thead th {\n",
       "        text-align: right;\n",
       "    }\n",
       "</style>\n",
       "<table border=\"1\" class=\"dataframe\">\n",
       "  <thead>\n",
       "    <tr style=\"text-align: right;\">\n",
       "      <th></th>\n",
       "      <th>Number</th>\n",
       "      <th>CompanyName</th>\n",
       "      <th>FirstName</th>\n",
       "      <th>LastName</th>\n",
       "      <th>Street</th>\n",
       "      <th>City</th>\n",
       "      <th>State</th>\n",
       "      <th>Postal</th>\n",
       "      <th>Phone</th>\n",
       "      <th>EMail</th>\n",
       "      <th>Remarks</th>\n",
       "      <th>Deceased</th>\n",
       "      <th>SecondaryFirstName</th>\n",
       "      <th>SecondaryLastName</th>\n",
       "      <th>LegacyIndividualId</th>\n",
       "      <th>SecondaryLegacyIndividualId</th>\n",
       "    </tr>\n",
       "  </thead>\n",
       "  <tbody>\n",
       "    <tr>\n",
       "      <th>0</th>\n",
       "      <td>653377813-7</td>\n",
       "      <td></td>\n",
       "      <td>Karita</td>\n",
       "      <td>Lumbers</td>\n",
       "      <td>4 Bunting Parkway</td>\n",
       "      <td>Washington</td>\n",
       "      <td>DC</td>\n",
       "      <td>20535-871</td>\n",
       "      <td></td>\n",
       "      <td>kklumbers@ yahoo.co</td>\n",
       "      <td>Is anonymous</td>\n",
       "      <td></td>\n",
       "      <td>Kelvin</td>\n",
       "      <td>Lumbers</td>\n",
       "      <td>0</td>\n",
       "      <td>1</td>\n",
       "    </tr>\n",
       "    <tr>\n",
       "      <th>1</th>\n",
       "      <td>390551098-7</td>\n",
       "      <td></td>\n",
       "      <td>Helga</td>\n",
       "      <td>Benech</td>\n",
       "      <td>48684 Jenifer Way</td>\n",
       "      <td>Las Vegas</td>\n",
       "      <td>NV</td>\n",
       "      <td>89130</td>\n",
       "      <td></td>\n",
       "      <td>ebenech1@goodreads.com</td>\n",
       "      <td></td>\n",
       "      <td></td>\n",
       "      <td></td>\n",
       "      <td></td>\n",
       "      <td>2</td>\n",
       "      <td></td>\n",
       "    </tr>\n",
       "    <tr>\n",
       "      <th>2</th>\n",
       "      <td>093004505-X</td>\n",
       "      <td></td>\n",
       "      <td>Masha</td>\n",
       "      <td>Butt Gow</td>\n",
       "      <td>353 Schmedeman Park</td>\n",
       "      <td>Indianapolis</td>\n",
       "      <td>IN</td>\n",
       "      <td></td>\n",
       "      <td>577-374-96523</td>\n",
       "      <td></td>\n",
       "      <td></td>\n",
       "      <td></td>\n",
       "      <td></td>\n",
       "      <td></td>\n",
       "      <td>3</td>\n",
       "      <td></td>\n",
       "    </tr>\n",
       "  </tbody>\n",
       "</table>\n",
       "</div>"
      ],
      "text/plain": [
       "        Number CompanyName FirstName  LastName               Street  \\\n",
       "0  653377813-7                Karita   Lumbers    4 Bunting Parkway   \n",
       "1  390551098-7                 Helga    Benech    48684 Jenifer Way   \n",
       "2  093004505-X                 Masha  Butt Gow  353 Schmedeman Park   \n",
       "\n",
       "           City State     Postal          Phone                   EMail  \\\n",
       "0    Washington    DC  20535-871                    kklumbers@ yahoo.co   \n",
       "1     Las Vegas    NV      89130                 ebenech1@goodreads.com   \n",
       "2  Indianapolis    IN             577-374-96523                           \n",
       "\n",
       "        Remarks Deceased SecondaryFirstName SecondaryLastName  \\\n",
       "0  Is anonymous                      Kelvin           Lumbers   \n",
       "1                                                               \n",
       "2                                                               \n",
       "\n",
       "  LegacyIndividualId SecondaryLegacyIndividualId  \n",
       "0                  0                           1  \n",
       "1                  2                              \n",
       "2                  3                              "
      ]
     },
     "execution_count": 45,
     "metadata": {},
     "output_type": "execute_result"
    }
   ],
   "source": [
    "contacts.head(3)"
   ]
  },
  {
   "cell_type": "markdown",
   "id": "2aee99fc",
   "metadata": {},
   "source": [
    "Creating a function to update the contact name depending on the individuals on the household record"
   ]
  },
  {
   "cell_type": "code",
   "execution_count": 46,
   "id": "93363b61",
   "metadata": {},
   "outputs": [],
   "source": [
    "#| exports\n",
    "def set_contact_name(row):\n",
    "    if row['LastName'] == row['SecondaryLastName']:\n",
    "        return row['FirstName'] + ' & ' + row['SecondaryFirstName'] + ' ' + row['LastName']\n",
    "    elif row['SecondaryFirstName'] != '':\n",
    "        return row['FirstName'] +  ' ' + row['LastName'] + ' & ' + row['SecondaryFirstName'] + ' ' + row['SecondaryLastName']\n",
    "    else:\n",
    "        return row['FirstName'] + ' ' + row['LastName']"
   ]
  },
  {
   "cell_type": "code",
   "execution_count": 47,
   "id": "3e0d45dd",
   "metadata": {},
   "outputs": [],
   "source": [
    "#| exports\n",
    "contacts['ContactName'] = contacts.apply(set_contact_name, axis=1)"
   ]
  },
  {
   "cell_type": "markdown",
   "id": "bce97e03",
   "metadata": {},
   "source": [
    "## Housekeeping 7\n",
    ">Splitting Project Codes"
   ]
  },
  {
   "cell_type": "code",
   "execution_count": 48,
   "id": "6180eee2",
   "metadata": {},
   "outputs": [],
   "source": [
    "#| exports\n",
    "project_codes = gifts.FundId.str.split(', ', expand=True)"
   ]
  },
  {
   "cell_type": "code",
   "execution_count": 49,
   "id": "fb96668e",
   "metadata": {},
   "outputs": [
    {
     "data": {
      "text/html": [
       "<div>\n",
       "<style scoped>\n",
       "    .dataframe tbody tr th:only-of-type {\n",
       "        vertical-align: middle;\n",
       "    }\n",
       "\n",
       "    .dataframe tbody tr th {\n",
       "        vertical-align: top;\n",
       "    }\n",
       "\n",
       "    .dataframe thead th {\n",
       "        text-align: right;\n",
       "    }\n",
       "</style>\n",
       "<table border=\"1\" class=\"dataframe\">\n",
       "  <thead>\n",
       "    <tr style=\"text-align: right;\">\n",
       "      <th></th>\n",
       "      <th>0</th>\n",
       "      <th>1</th>\n",
       "    </tr>\n",
       "  </thead>\n",
       "  <tbody>\n",
       "    <tr>\n",
       "      <th>0</th>\n",
       "      <td></td>\n",
       "      <td>None</td>\n",
       "    </tr>\n",
       "    <tr>\n",
       "      <th>1</th>\n",
       "      <td>ChildSponsorship</td>\n",
       "      <td>None</td>\n",
       "    </tr>\n",
       "    <tr>\n",
       "      <th>2</th>\n",
       "      <td></td>\n",
       "      <td>None</td>\n",
       "    </tr>\n",
       "  </tbody>\n",
       "</table>\n",
       "</div>"
      ],
      "text/plain": [
       "                  0     1\n",
       "0                    None\n",
       "1  ChildSponsorship  None\n",
       "2                    None"
      ]
     },
     "execution_count": 49,
     "metadata": {},
     "output_type": "execute_result"
    }
   ],
   "source": [
    "project_codes.head(3)"
   ]
  },
  {
   "cell_type": "code",
   "execution_count": 50,
   "id": "08da3fdd",
   "metadata": {},
   "outputs": [],
   "source": [
    "#| exports\n",
    "gifts[['Project1Code', 'Project2Code']] = project_codes"
   ]
  },
  {
   "cell_type": "code",
   "execution_count": 51,
   "id": "87294f48",
   "metadata": {},
   "outputs": [],
   "source": [
    "#| exports\n",
    "gifts = gifts.loc[:, gifts.columns.drop('FundId')].copy()"
   ]
  },
  {
   "cell_type": "markdown",
   "id": "0fd03c2e",
   "metadata": {},
   "source": [
    "## Housekeeping 8\n",
    ">Formating date"
   ]
  },
  {
   "cell_type": "code",
   "execution_count": 52,
   "id": "ac831481",
   "metadata": {},
   "outputs": [
    {
     "data": {
      "text/plain": [
       "0     3/4/2019\n",
       "1     3/5/2019\n",
       "2     3/7/2019\n",
       "3    3/10/2019\n",
       "4    2019/1/10\n",
       "Name: Date, dtype: object"
      ]
     },
     "execution_count": 52,
     "metadata": {},
     "output_type": "execute_result"
    }
   ],
   "source": [
    "df['Date'].head(5)"
   ]
  },
  {
   "cell_type": "markdown",
   "id": "2d2db0da",
   "metadata": {},
   "source": [
    "Since Dates are in different formats I'm going to create a custom parser"
   ]
  },
  {
   "cell_type": "code",
   "execution_count": 53,
   "id": "0b55e1f8",
   "metadata": {},
   "outputs": [],
   "source": [
    "#| export\n",
    "from datetime import datetime"
   ]
  },
  {
   "cell_type": "code",
   "execution_count": 54,
   "id": "bbb4f0ab",
   "metadata": {},
   "outputs": [],
   "source": [
    "#| exports\n",
    "def custom_parser(date_str):\n",
    "    try:\n",
    "        return datetime.strptime(date_str, '%m/%d/%Y')\n",
    "    except ValueError:\n",
    "        return datetime.strptime(date_str, '%Y/%m/%d')"
   ]
  },
  {
   "cell_type": "markdown",
   "id": "5f2c91a1",
   "metadata": {},
   "source": [
    "Applying parser"
   ]
  },
  {
   "cell_type": "code",
   "execution_count": 55,
   "id": "aa6160a4",
   "metadata": {},
   "outputs": [],
   "source": [
    "#| exports\n",
    "gifts['GiftDate'] = gifts['Date'].apply(custom_parser)"
   ]
  },
  {
   "cell_type": "markdown",
   "id": "b8ce4ea3",
   "metadata": {},
   "source": [
    "Dropping old date columns"
   ]
  },
  {
   "cell_type": "code",
   "execution_count": 56,
   "id": "73906739",
   "metadata": {},
   "outputs": [],
   "source": [
    "#| exports\n",
    "gifts = gifts.loc[:, gifts.columns.drop('Date')].copy()"
   ]
  },
  {
   "cell_type": "markdown",
   "id": "6c952bb3",
   "metadata": {},
   "source": [
    "## Housekeeping 9\n",
    ">Validate emails"
   ]
  },
  {
   "cell_type": "markdown",
   "id": "49ab3bd3",
   "metadata": {},
   "source": [
    "Previewing the `Email` column"
   ]
  },
  {
   "cell_type": "code",
   "execution_count": 57,
   "id": "c166e273",
   "metadata": {},
   "outputs": [
    {
     "data": {
      "text/plain": [
       "0    kklumbers@ yahoo.co\n",
       "Name: EMail, dtype: object"
      ]
     },
     "execution_count": 57,
     "metadata": {},
     "output_type": "execute_result"
    }
   ],
   "source": [
    "contacts.EMail.head(1)"
   ]
  },
  {
   "cell_type": "markdown",
   "id": "5c8c1877",
   "metadata": {},
   "source": [
    "It looks like the first email 'kklumbers@ yahoo.co' is invalid and should be fixed <br>\n",
    "<br>\n",
    "I'm going to write a function to validate emails and fix common mistakes"
   ]
  },
  {
   "cell_type": "code",
   "execution_count": 58,
   "id": "c4da2333",
   "metadata": {},
   "outputs": [],
   "source": [
    "#| exports\n",
    "def valid_email(s):\n",
    "    pattern = re.compile(r'^[a-zA-Z0-9._%+-]+@[a-zA-Z0-9.-]+\\.[a-zA-Z]{2,}$')\n",
    "    if pattern.match(s):\n",
    "        return True\n",
    "    return False"
   ]
  },
  {
   "cell_type": "code",
   "execution_count": 59,
   "id": "ce89af7a",
   "metadata": {},
   "outputs": [],
   "source": [
    "#| exports\n",
    "def fix_email(email):\n",
    "    if not email:\n",
    "        return ''\n",
    "    \n",
    "    email = re.sub(r'\\s', '', email)\n",
    "\n",
    "    # Check and fix common mistakes in top-level domain (TLD)\n",
    "    for wrong_tld, correct_tld in [('co', 'com'), ('cmo', 'com'), ('con', 'com')]:\n",
    "        if email.endswith('.' + wrong_tld):\n",
    "            email = email[:-len(wrong_tld)] + correct_tld\n",
    "\n",
    "    # Check and fix common mistakes in domain names\n",
    "    for wrong_domain, correct_domain in [('gmial', 'gmail'), ('yahho', 'yahoo')]:\n",
    "        email = email.replace('@' + wrong_domain, '@' + correct_domain)\n",
    "\n",
    "    if valid_email(email):\n",
    "        return email\n",
    "\n",
    "    return ''\n"
   ]
  },
  {
   "cell_type": "markdown",
   "id": "e3a5c309",
   "metadata": {},
   "source": [
    "Testing the email validator"
   ]
  },
  {
   "cell_type": "code",
   "execution_count": 60,
   "id": "a540b8ba",
   "metadata": {},
   "outputs": [
    {
     "data": {
      "text/plain": [
       "0              kklumbers@yahoo.com\n",
       "1           ebenech1@goodreads.com\n",
       "2                                 \n",
       "3                                 \n",
       "4     fcastille4@timesonline.co.uk\n",
       "5                                 \n",
       "6                                 \n",
       "7          jdoley6@telegraph.co.uk\n",
       "8             cmakepeace7@1688.com\n",
       "9                                 \n",
       "10                                \n",
       "Name: EMail, dtype: object"
      ]
     },
     "execution_count": 60,
     "metadata": {},
     "output_type": "execute_result"
    }
   ],
   "source": [
    "contacts.EMail.apply(fix_email)"
   ]
  },
  {
   "cell_type": "markdown",
   "id": "7d742c7b",
   "metadata": {},
   "source": [
    "Saving the change"
   ]
  },
  {
   "cell_type": "code",
   "execution_count": 61,
   "id": "a30cf155",
   "metadata": {},
   "outputs": [],
   "source": [
    "#| exports\n",
    "contacts['EMail'] = contacts.EMail.apply(fix_email)"
   ]
  },
  {
   "cell_type": "markdown",
   "id": "a1385166",
   "metadata": {},
   "source": [
    "## Housekeeping 10\n",
    ">Fix phone numbers"
   ]
  },
  {
   "cell_type": "markdown",
   "id": "5a05f057",
   "metadata": {},
   "source": [
    "There appears to be a invalid phone number"
   ]
  },
  {
   "cell_type": "code",
   "execution_count": 62,
   "id": "56ede3a1",
   "metadata": {},
   "outputs": [
    {
     "data": {
      "text/plain": [
       "'577-374-96523'"
      ]
     },
     "execution_count": 62,
     "metadata": {},
     "output_type": "execute_result"
    }
   ],
   "source": [
    "contacts.loc[2, 'Phone']"
   ]
  },
  {
   "cell_type": "markdown",
   "id": "2844fe2f",
   "metadata": {},
   "source": [
    "Writing a function to validate US phone numbers, assuming the phone numbers provided are from the US"
   ]
  },
  {
   "cell_type": "code",
   "execution_count": 63,
   "id": "3c11856a",
   "metadata": {},
   "outputs": [],
   "source": [
    "#| exports\n",
    "def validate_us_phone_number(phone_number):\n",
    "    # Patterns for different US phone number formats\n",
    "    patterns = [\n",
    "        r'^\\+1\\s?\\d{3}-\\d{3}-\\d{4}$',\n",
    "        r'^\\(\\d{3}\\)\\s?\\d{3}-\\d{4}$',\n",
    "        r'^\\d{3}-\\d{3}-\\d{4}$',\n",
    "        r'^\\d{3}-\\d{4}$' \n",
    "    ]\n",
    "\n",
    "    # Check if the phone number matches any of the patterns\n",
    "    for pattern in patterns:\n",
    "        if re.match(pattern, phone_number):\n",
    "            return phone_number\n",
    "\n",
    "    return ''"
   ]
  },
  {
   "cell_type": "code",
   "execution_count": 64,
   "id": "c65cadaf",
   "metadata": {},
   "outputs": [],
   "source": [
    "#| exports\n",
    "contacts['Phone'] = contacts.Phone.apply(validate_us_phone_number)"
   ]
  },
  {
   "cell_type": "code",
   "execution_count": 65,
   "id": "644f290b",
   "metadata": {},
   "outputs": [],
   "source": [
    "#| exports\n",
    "contacts.fillna('', inplace=True)"
   ]
  },
  {
   "cell_type": "markdown",
   "id": "b9a39345",
   "metadata": {},
   "source": [
    "# Export"
   ]
  },
  {
   "cell_type": "code",
   "execution_count": 66,
   "id": "1aba47e6-5b61-4914-880f-0f07b9e1e088",
   "metadata": {},
   "outputs": [],
   "source": [
    "#| hide\n",
    "import nbdev"
   ]
  },
  {
   "cell_type": "code",
   "execution_count": 67,
   "id": "7d6655ac",
   "metadata": {},
   "outputs": [],
   "source": [
    "#| hide\n",
    "nbdev.nbdev_export('00_Setup.ipynb')"
   ]
  },
  {
   "cell_type": "markdown",
   "id": "ecd30361-06b8-4de2-92f4-8a7a1c2a0ee1",
   "metadata": {},
   "source": [
    "<br>"
   ]
  }
 ],
 "metadata": {
  "kernelspec": {
   "display_name": "Python 3 (ipykernel)",
   "language": "python",
   "name": "python3"
  },
  "language_info": {
   "codemirror_mode": {
    "name": "ipython",
    "version": 3
   },
   "file_extension": ".py",
   "mimetype": "text/x-python",
   "name": "python",
   "nbconvert_exporter": "python",
   "pygments_lexer": "ipython3",
   "version": "3.10.12"
  }
 },
 "nbformat": 4,
 "nbformat_minor": 5
}
