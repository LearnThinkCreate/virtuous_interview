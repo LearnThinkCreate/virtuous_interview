{
 "cells": [
  {
   "cell_type": "markdown",
   "id": "f7c0411b-f0fd-41d4-8952-90bc2db19e1b",
   "metadata": {},
   "source": [
    "# Virtuous Interview Exam\n",
    "\n",
    "> Monday August 14th, 2023"
   ]
  },
  {
   "cell_type": "markdown",
   "id": "debb8220",
   "metadata": {},
   "source": [
    "# Requirements\n",
    "\n",
    "> Virtuous Data Schema, changes that require ETL have been highlighted <br>\n",
    "\n",
    "<br>\n",
    "\n",
    "![alternative text](images/virtuous_requirements.png)"
   ]
  },
  {
   "cell_type": "markdown",
   "id": "95ae0ca5",
   "metadata": {},
   "source": []
  },
  {
   "cell_type": "markdown",
   "id": "49bcd045",
   "metadata": {},
   "source": [
    "## Summary\n",
    "> I need to perform a ETL of 3 spreadsheets into SQL tables that match the Virtuous schema\n",
    "- Contacts: A table of contacts, with 1 or 2 constituents per row\n",
    "- Gifts: Donations from individual constituents\n",
    "- Contact Methods: Contact information for individual constituents"
   ]
  },
  {
   "cell_type": "code",
   "execution_count": null,
   "id": "25a70730",
   "metadata": {},
   "outputs": [],
   "source": [
    "#| default_exp utils"
   ]
  },
  {
   "cell_type": "markdown",
   "id": "f235e1f3",
   "metadata": {},
   "source": [
    "# Previewing The datasets\n",
    "> Loading Datasets using Pandas"
   ]
  },
  {
   "cell_type": "code",
   "execution_count": null,
   "id": "5984ecfa-c486-417c-a375-fca99dcb255b",
   "metadata": {},
   "outputs": [],
   "source": [
    "#| export\n",
    "import pandas as pd\n",
    "import re"
   ]
  },
  {
   "cell_type": "code",
   "execution_count": null,
   "id": "45dedd16",
   "metadata": {},
   "outputs": [],
   "source": [
    "#| export\n",
    "contact_methods = pd.read_csv('data/contact_methods.csv')\n",
    "contacts = pd.read_csv('data/contacts.csv')\n",
    "gifts = pd.read_csv('data/gifts.csv')"
   ]
  },
  {
   "cell_type": "markdown",
   "id": "5ad923d6",
   "metadata": {},
   "source": [
    "Filling na values with empty strings for consistency"
   ]
  },
  {
   "cell_type": "code",
   "execution_count": null,
   "id": "9ba70fe8",
   "metadata": {},
   "outputs": [],
   "source": [
    "#| export\n",
    "contact_methods.fillna('', inplace=True)\n",
    "contacts.fillna('', inplace=True)\n",
    "gifts.fillna('', inplace=True)"
   ]
  },
  {
   "cell_type": "code",
   "execution_count": null,
   "id": "4f84ca80",
   "metadata": {},
   "outputs": [
    {
     "data": {
      "text/html": [
       "<div>\n",
       "<style scoped>\n",
       "    .dataframe tbody tr th:only-of-type {\n",
       "        vertical-align: middle;\n",
       "    }\n",
       "\n",
       "    .dataframe tbody tr th {\n",
       "        vertical-align: top;\n",
       "    }\n",
       "\n",
       "    .dataframe thead th {\n",
       "        text-align: right;\n",
       "    }\n",
       "</style>\n",
       "<table border=\"1\" class=\"dataframe\">\n",
       "  <thead>\n",
       "    <tr style=\"text-align: right;\">\n",
       "      <th></th>\n",
       "      <th>Number</th>\n",
       "      <th>Company Name</th>\n",
       "      <th>First Name</th>\n",
       "      <th>Last Name</th>\n",
       "      <th>Street</th>\n",
       "      <th>City</th>\n",
       "      <th>State</th>\n",
       "      <th>Postal</th>\n",
       "      <th>Phone</th>\n",
       "      <th>E-mail</th>\n",
       "      <th>Remarks</th>\n",
       "      <th>Deceased?</th>\n",
       "    </tr>\n",
       "  </thead>\n",
       "  <tbody>\n",
       "    <tr>\n",
       "      <th>0</th>\n",
       "      <td>653377813-7</td>\n",
       "      <td></td>\n",
       "      <td>Karita &amp; Kelvin</td>\n",
       "      <td>Lumbers</td>\n",
       "      <td>4 Bunting Parkway</td>\n",
       "      <td>Washington</td>\n",
       "      <td>DC</td>\n",
       "      <td>20535-871</td>\n",
       "      <td>kklumbers@ yahoo.co</td>\n",
       "      <td></td>\n",
       "      <td>Is anonymous</td>\n",
       "      <td></td>\n",
       "    </tr>\n",
       "    <tr>\n",
       "      <th>1</th>\n",
       "      <td>390551098-7</td>\n",
       "      <td></td>\n",
       "      <td>Helga</td>\n",
       "      <td>Benech</td>\n",
       "      <td>48684 Jenifer Way</td>\n",
       "      <td>Las Vegas</td>\n",
       "      <td>NV</td>\n",
       "      <td>89130</td>\n",
       "      <td></td>\n",
       "      <td>ebenech1@goodreads.com</td>\n",
       "      <td></td>\n",
       "      <td></td>\n",
       "    </tr>\n",
       "    <tr>\n",
       "      <th>2</th>\n",
       "      <td>093004505-X</td>\n",
       "      <td></td>\n",
       "      <td>Masha</td>\n",
       "      <td></td>\n",
       "      <td>353 Schmedeman Park</td>\n",
       "      <td>Indianapolis</td>\n",
       "      <td>IN</td>\n",
       "      <td></td>\n",
       "      <td></td>\n",
       "      <td>577-374-96523</td>\n",
       "      <td></td>\n",
       "      <td></td>\n",
       "    </tr>\n",
       "    <tr>\n",
       "      <th>3</th>\n",
       "      <td>729707142-0</td>\n",
       "      <td>A Company Co.</td>\n",
       "      <td></td>\n",
       "      <td></td>\n",
       "      <td>2055 Lakewood Parkway</td>\n",
       "      <td>Camden</td>\n",
       "      <td>NJ</td>\n",
       "      <td>8104</td>\n",
       "      <td></td>\n",
       "      <td></td>\n",
       "      <td></td>\n",
       "      <td>No</td>\n",
       "    </tr>\n",
       "    <tr>\n",
       "      <th>4</th>\n",
       "      <td>488464926-5</td>\n",
       "      <td></td>\n",
       "      <td>Hoyt</td>\n",
       "      <td>Castille</td>\n",
       "      <td>37 8th Trail</td>\n",
       "      <td>Grand Rapids</td>\n",
       "      <td>MI</td>\n",
       "      <td>49560</td>\n",
       "      <td></td>\n",
       "      <td>fcastille4@timesonline.co.uk</td>\n",
       "      <td></td>\n",
       "      <td>No</td>\n",
       "    </tr>\n",
       "  </tbody>\n",
       "</table>\n",
       "</div>"
      ],
      "text/plain": [
       "        Number   Company Name       First Name Last Name  \\\n",
       "0  653377813-7                 Karita & Kelvin   Lumbers   \n",
       "1  390551098-7                           Helga    Benech   \n",
       "2  093004505-X                           Masha             \n",
       "3  729707142-0  A Company Co.                              \n",
       "4  488464926-5                            Hoyt  Castille   \n",
       "\n",
       "                  Street          City State     Postal                Phone  \\\n",
       "0      4 Bunting Parkway    Washington    DC  20535-871  kklumbers@ yahoo.co   \n",
       "1      48684 Jenifer Way     Las Vegas    NV      89130                        \n",
       "2    353 Schmedeman Park  Indianapolis    IN                                   \n",
       "3  2055 Lakewood Parkway        Camden    NJ       8104                        \n",
       "4           37 8th Trail  Grand Rapids    MI      49560                        \n",
       "\n",
       "                         E-mail       Remarks Deceased?  \n",
       "0                                Is anonymous            \n",
       "1        ebenech1@goodreads.com                          \n",
       "2                 577-374-96523                          \n",
       "3                                                    No  \n",
       "4  fcastille4@timesonline.co.uk                      No  "
      ]
     },
     "execution_count": null,
     "metadata": {},
     "output_type": "execute_result"
    }
   ],
   "source": [
    "contacts.head()"
   ]
  },
  {
   "cell_type": "code",
   "execution_count": null,
   "id": "8ef2b720",
   "metadata": {},
   "outputs": [
    {
     "data": {
      "text/html": [
       "<div>\n",
       "<style scoped>\n",
       "    .dataframe tbody tr th:only-of-type {\n",
       "        vertical-align: middle;\n",
       "    }\n",
       "\n",
       "    .dataframe tbody tr th {\n",
       "        vertical-align: top;\n",
       "    }\n",
       "\n",
       "    .dataframe thead th {\n",
       "        text-align: right;\n",
       "    }\n",
       "</style>\n",
       "<table border=\"1\" class=\"dataframe\">\n",
       "  <thead>\n",
       "    <tr style=\"text-align: right;\">\n",
       "      <th></th>\n",
       "      <th>donor_number</th>\n",
       "      <th>gift_id</th>\n",
       "      <th>first_name</th>\n",
       "      <th>last_name</th>\n",
       "      <th>amount received</th>\n",
       "      <th>date</th>\n",
       "      <th>fund_id</th>\n",
       "      <th>credit card type</th>\n",
       "      <th>payment method</th>\n",
       "      <th>pledge_number</th>\n",
       "      <th>notes</th>\n",
       "    </tr>\n",
       "  </thead>\n",
       "  <tbody>\n",
       "    <tr>\n",
       "      <th>0</th>\n",
       "      <td>848348568-0</td>\n",
       "      <td>95196378.0</td>\n",
       "      <td>Mannie</td>\n",
       "      <td>Turpin</td>\n",
       "      <td>$4.15</td>\n",
       "      <td>3/4/2019</td>\n",
       "      <td></td>\n",
       "      <td></td>\n",
       "      <td>PayPal</td>\n",
       "      <td></td>\n",
       "      <td></td>\n",
       "    </tr>\n",
       "    <tr>\n",
       "      <th>1</th>\n",
       "      <td>729707142-0</td>\n",
       "      <td>95196889.0</td>\n",
       "      <td>Cymbre</td>\n",
       "      <td>Cross</td>\n",
       "      <td>2.3648</td>\n",
       "      <td>3/5/2019</td>\n",
       "      <td>ChildSponsorship</td>\n",
       "      <td></td>\n",
       "      <td>check</td>\n",
       "      <td></td>\n",
       "      <td></td>\n",
       "    </tr>\n",
       "    <tr>\n",
       "      <th>2</th>\n",
       "      <td>687119652-8</td>\n",
       "      <td>95197689.0</td>\n",
       "      <td>Ruggiero</td>\n",
       "      <td>Makepeace</td>\n",
       "      <td>$1.31</td>\n",
       "      <td>3/7/2019</td>\n",
       "      <td></td>\n",
       "      <td></td>\n",
       "      <td>cash</td>\n",
       "      <td></td>\n",
       "      <td></td>\n",
       "    </tr>\n",
       "    <tr>\n",
       "      <th>3</th>\n",
       "      <td>653377813-7</td>\n",
       "      <td>95198998.0</td>\n",
       "      <td>Karita</td>\n",
       "      <td>Lumbers</td>\n",
       "      <td>$2.04</td>\n",
       "      <td>3/10/2019</td>\n",
       "      <td></td>\n",
       "      <td>American Ex</td>\n",
       "      <td>credit card</td>\n",
       "      <td></td>\n",
       "      <td>In honor of Mannie Turpin</td>\n",
       "    </tr>\n",
       "    <tr>\n",
       "      <th>4</th>\n",
       "      <td>390551098-7</td>\n",
       "      <td>95198999.0</td>\n",
       "      <td>Helga</td>\n",
       "      <td>Benech</td>\n",
       "      <td>$5.80</td>\n",
       "      <td>2019/1/10</td>\n",
       "      <td></td>\n",
       "      <td></td>\n",
       "      <td>cash</td>\n",
       "      <td>89752384.0</td>\n",
       "      <td></td>\n",
       "    </tr>\n",
       "  </tbody>\n",
       "</table>\n",
       "</div>"
      ],
      "text/plain": [
       "  donor_number     gift_id first_name  last_name amount received       date  \\\n",
       "0  848348568-0  95196378.0     Mannie     Turpin           $4.15   3/4/2019   \n",
       "1  729707142-0  95196889.0     Cymbre      Cross          2.3648   3/5/2019   \n",
       "2  687119652-8  95197689.0   Ruggiero  Makepeace           $1.31   3/7/2019   \n",
       "3  653377813-7  95198998.0     Karita    Lumbers           $2.04  3/10/2019   \n",
       "4  390551098-7  95198999.0      Helga     Benech           $5.80  2019/1/10   \n",
       "\n",
       "            fund_id credit card type payment method pledge_number  \\\n",
       "0                                            PayPal                 \n",
       "1  ChildSponsorship                           check                 \n",
       "2                                              cash                 \n",
       "3                        American Ex    credit card                 \n",
       "4                                              cash    89752384.0   \n",
       "\n",
       "                       notes  \n",
       "0                             \n",
       "1                             \n",
       "2                             \n",
       "3  In honor of Mannie Turpin  \n",
       "4                             "
      ]
     },
     "execution_count": null,
     "metadata": {},
     "output_type": "execute_result"
    }
   ],
   "source": [
    "gifts.head()"
   ]
  },
  {
   "cell_type": "code",
   "execution_count": null,
   "id": "0452e285",
   "metadata": {},
   "outputs": [
    {
     "data": {
      "text/html": [
       "<div>\n",
       "<style scoped>\n",
       "    .dataframe tbody tr th:only-of-type {\n",
       "        vertical-align: middle;\n",
       "    }\n",
       "\n",
       "    .dataframe tbody tr th {\n",
       "        vertical-align: top;\n",
       "    }\n",
       "\n",
       "    .dataframe thead th {\n",
       "        text-align: right;\n",
       "    }\n",
       "</style>\n",
       "<table border=\"1\" class=\"dataframe\">\n",
       "  <thead>\n",
       "    <tr style=\"text-align: right;\">\n",
       "      <th></th>\n",
       "      <th>donor_number</th>\n",
       "      <th>Phone</th>\n",
       "      <th>E-mail</th>\n",
       "      <th>Fax</th>\n",
       "    </tr>\n",
       "  </thead>\n",
       "  <tbody>\n",
       "    <tr>\n",
       "      <th>0</th>\n",
       "      <td>653377813-7</td>\n",
       "      <td>832-442-4988</td>\n",
       "      <td></td>\n",
       "      <td></td>\n",
       "    </tr>\n",
       "    <tr>\n",
       "      <th>1</th>\n",
       "      <td>390551098-7</td>\n",
       "      <td></td>\n",
       "      <td>ebenech1@goodreads.com</td>\n",
       "      <td></td>\n",
       "    </tr>\n",
       "    <tr>\n",
       "      <th>2</th>\n",
       "      <td>093004505-X</td>\n",
       "      <td>818-323-9865</td>\n",
       "      <td></td>\n",
       "      <td>818-156-7985</td>\n",
       "    </tr>\n",
       "    <tr>\n",
       "      <th>3</th>\n",
       "      <td>729707142-0</td>\n",
       "      <td></td>\n",
       "      <td></td>\n",
       "      <td></td>\n",
       "    </tr>\n",
       "    <tr>\n",
       "      <th>4</th>\n",
       "      <td>488464926-5</td>\n",
       "      <td></td>\n",
       "      <td>fcastille4@timesonline.co.uk</td>\n",
       "      <td></td>\n",
       "    </tr>\n",
       "  </tbody>\n",
       "</table>\n",
       "</div>"
      ],
      "text/plain": [
       "  donor_number         Phone                        E-mail           Fax\n",
       "0  653377813-7  832-442-4988                                            \n",
       "1  390551098-7                      ebenech1@goodreads.com              \n",
       "2  093004505-X  818-323-9865                                818-156-7985\n",
       "3  729707142-0                                                          \n",
       "4  488464926-5                fcastille4@timesonline.co.uk              "
      ]
     },
     "execution_count": null,
     "metadata": {},
     "output_type": "execute_result"
    }
   ],
   "source": [
    "contact_methods.head()"
   ]
  },
  {
   "cell_type": "markdown",
   "id": "2c0e27ce",
   "metadata": {},
   "source": [
    "Before I begin the performing the analysis in each method's respective notebook, I'm going to standardize the column names and types across the 3 DataFrames so I can pass them to each notebook and save myself some tedious typing**<br>\n",
    "<br>\n",
    "** Also doing this to show usefullness of juptyer notebook in production environments :)"
   ]
  },
  {
   "cell_type": "markdown",
   "id": "bb4c7253",
   "metadata": {},
   "source": [
    "## Housekeeping 1\n",
    "> Format Column Names\n",
    "<br>\n",
    "\n",
    "- Nothing worse than malformed column names, amiright?"
   ]
  },
  {
   "cell_type": "markdown",
   "id": "61e1f5b1",
   "metadata": {},
   "source": [
    "### to_camel_case\n",
    "> Apply Camel Casing to a string"
   ]
  },
  {
   "cell_type": "code",
   "execution_count": null,
   "id": "3de406cf",
   "metadata": {},
   "outputs": [],
   "source": [
    "#| export\n",
    "def to_camel_case(s):\n",
    "    # Remove all non-alphanumeric characters and replace with a space\n",
    "    s = re.sub(r'[^a-zA-Z0-9]', ' ', s)\n",
    "    \n",
    "    # Split by space and capitalize the first letter of each word\n",
    "    words = s.split()\n",
    "    return ''.join(word.capitalize() for word in words)"
   ]
  },
  {
   "cell_type": "markdown",
   "id": "5424c595",
   "metadata": {},
   "source": [
    "### transform_cnames\n",
    "> Rename DF cnames in place"
   ]
  },
  {
   "cell_type": "code",
   "execution_count": null,
   "id": "04129a8a",
   "metadata": {},
   "outputs": [],
   "source": [
    "#| export\n",
    "def transform_cnames(df, func=to_camel_case):\n",
    "    df.columns = df.columns.map(func)\n",
    "    return None"
   ]
  },
  {
   "cell_type": "code",
   "execution_count": null,
   "id": "d484ebb2",
   "metadata": {},
   "outputs": [],
   "source": [
    "#| export\n",
    "for df in [contact_methods, contacts, gifts]:\n",
    "    transform_cnames(df)"
   ]
  },
  {
   "cell_type": "code",
   "execution_count": null,
   "id": "4da4b631",
   "metadata": {},
   "outputs": [
    {
     "data": {
      "text/plain": [
       "Index(['Number', 'CompanyName', 'FirstName', 'LastName', 'Street', 'City',\n",
       "       'State', 'Postal', 'Phone', 'EMail', 'Remarks', 'Deceased'],\n",
       "      dtype='object')"
      ]
     },
     "execution_count": null,
     "metadata": {},
     "output_type": "execute_result"
    }
   ],
   "source": [
    "#| hide\n",
    "contacts.columns"
   ]
  },
  {
   "cell_type": "markdown",
   "id": "7275b5f8",
   "metadata": {},
   "source": [
    "## Housekeeping 2\n",
    "> Cleaning the column types"
   ]
  },
  {
   "cell_type": "markdown",
   "id": "2e6a161e",
   "metadata": {},
   "source": [
    "I identified 2 columns on the gift table that should be ints, replacing those values"
   ]
  },
  {
   "cell_type": "code",
   "execution_count": null,
   "id": "84f2fe90",
   "metadata": {},
   "outputs": [],
   "source": [
    "#| export\n",
    "int_cols = ['GiftId', 'PledgeNumber']"
   ]
  },
  {
   "cell_type": "code",
   "execution_count": null,
   "id": "4148cc08",
   "metadata": {},
   "outputs": [],
   "source": [
    "#| export\n",
    "gifts[int_cols] = gifts[int_cols].replace({'':0}).astype(int)"
   ]
  },
  {
   "cell_type": "markdown",
   "id": "e3c265e5",
   "metadata": {},
   "source": [
    "Looks like AmountRecieved should really be a float, I'm removing any special characters (besides dashes and periods) and converting to a float :)"
   ]
  },
  {
   "cell_type": "code",
   "execution_count": null,
   "id": "fdaf4f77",
   "metadata": {},
   "outputs": [],
   "source": [
    "#| export\n",
    "gifts['AmountReceived'] = gifts.AmountReceived.apply(lambda x: float(re.sub(r'[^a-zA-Z0-9\\.-]', '', x)))"
   ]
  },
  {
   "cell_type": "markdown",
   "id": "6bd5386a",
   "metadata": {},
   "source": [
    "## Housekeeping 3\n",
    "> Identify and clean any pieces of data in the wrong column"
   ]
  },
  {
   "cell_type": "code",
   "execution_count": null,
   "id": "b88a9fbf",
   "metadata": {},
   "outputs": [
    {
     "data": {
      "text/html": [
       "<div>\n",
       "<style scoped>\n",
       "    .dataframe tbody tr th:only-of-type {\n",
       "        vertical-align: middle;\n",
       "    }\n",
       "\n",
       "    .dataframe tbody tr th {\n",
       "        vertical-align: top;\n",
       "    }\n",
       "\n",
       "    .dataframe thead th {\n",
       "        text-align: right;\n",
       "    }\n",
       "</style>\n",
       "<table border=\"1\" class=\"dataframe\">\n",
       "  <thead>\n",
       "    <tr style=\"text-align: right;\">\n",
       "      <th></th>\n",
       "      <th>Phone</th>\n",
       "      <th>EMail</th>\n",
       "    </tr>\n",
       "  </thead>\n",
       "  <tbody>\n",
       "    <tr>\n",
       "      <th>0</th>\n",
       "      <td>kklumbers@ yahoo.co</td>\n",
       "      <td></td>\n",
       "    </tr>\n",
       "    <tr>\n",
       "      <th>1</th>\n",
       "      <td></td>\n",
       "      <td>ebenech1@goodreads.com</td>\n",
       "    </tr>\n",
       "    <tr>\n",
       "      <th>2</th>\n",
       "      <td></td>\n",
       "      <td>577-374-96523</td>\n",
       "    </tr>\n",
       "  </tbody>\n",
       "</table>\n",
       "</div>"
      ],
      "text/plain": [
       "                 Phone                   EMail\n",
       "0  kklumbers@ yahoo.co                        \n",
       "1                       ebenech1@goodreads.com\n",
       "2                                577-374-96523"
      ]
     },
     "execution_count": null,
     "metadata": {},
     "output_type": "execute_result"
    }
   ],
   "source": [
    "#| hide\n",
    "contacts[['Phone', 'EMail']].head(3)"
   ]
  },
  {
   "cell_type": "code",
   "execution_count": null,
   "id": "65278e34",
   "metadata": {},
   "outputs": [],
   "source": [
    "#| export\n",
    "def classify_phone_email(value):\n",
    "    if \"@\" in value:\n",
    "        return \"email\"\n",
    "    if re.search(r'\\d{3}-\\d{3}-\\d{4}', value):\n",
    "        return \"phone\"\n",
    "    return None"
   ]
  },
  {
   "cell_type": "code",
   "execution_count": null,
   "id": "e60b8400",
   "metadata": {},
   "outputs": [],
   "source": [
    "#| export\n",
    "for index, row in contacts.iterrows():\n",
    "    phone_classification = classify_phone_email(row['Phone'])\n",
    "    email_classification = classify_phone_email(row['EMail'])\n",
    "\n",
    "    if phone_classification == \"email\":\n",
    "        contacts.at[index, 'EMail'] = row['Phone']\n",
    "        contacts.at[index, 'Phone'] = ''\n",
    "\n",
    "    if email_classification == \"phone\":\n",
    "        contacts.at[index, 'Phone'] = row['EMail']\n",
    "        contacts.at[index, 'EMail'] = ''"
   ]
  },
  {
   "cell_type": "code",
   "execution_count": null,
   "id": "cbdfb1c5",
   "metadata": {},
   "outputs": [
    {
     "data": {
      "text/html": [
       "<div>\n",
       "<style scoped>\n",
       "    .dataframe tbody tr th:only-of-type {\n",
       "        vertical-align: middle;\n",
       "    }\n",
       "\n",
       "    .dataframe tbody tr th {\n",
       "        vertical-align: top;\n",
       "    }\n",
       "\n",
       "    .dataframe thead th {\n",
       "        text-align: right;\n",
       "    }\n",
       "</style>\n",
       "<table border=\"1\" class=\"dataframe\">\n",
       "  <thead>\n",
       "    <tr style=\"text-align: right;\">\n",
       "      <th></th>\n",
       "      <th>Phone</th>\n",
       "      <th>EMail</th>\n",
       "    </tr>\n",
       "  </thead>\n",
       "  <tbody>\n",
       "    <tr>\n",
       "      <th>0</th>\n",
       "      <td></td>\n",
       "      <td>kklumbers@ yahoo.co</td>\n",
       "    </tr>\n",
       "    <tr>\n",
       "      <th>1</th>\n",
       "      <td></td>\n",
       "      <td>ebenech1@goodreads.com</td>\n",
       "    </tr>\n",
       "    <tr>\n",
       "      <th>2</th>\n",
       "      <td>577-374-96523</td>\n",
       "      <td></td>\n",
       "    </tr>\n",
       "  </tbody>\n",
       "</table>\n",
       "</div>"
      ],
      "text/plain": [
       "           Phone                   EMail\n",
       "0                    kklumbers@ yahoo.co\n",
       "1                 ebenech1@goodreads.com\n",
       "2  577-374-96523                        "
      ]
     },
     "execution_count": null,
     "metadata": {},
     "output_type": "execute_result"
    }
   ],
   "source": [
    "#| hide\n",
    "contacts[['Phone', 'EMail']].head(3)"
   ]
  },
  {
   "cell_type": "markdown",
   "id": "1cfc2c79",
   "metadata": {},
   "source": [
    "## Housekeeping 4\n",
    "> Consolidating contacts table <br>\n",
    "<br>\n",
    "- Searching for missing users <br>\n",
    "- Splitting / joining households\n"
   ]
  },
  {
   "cell_type": "markdown",
   "id": "b8b5d9e9",
   "metadata": {},
   "source": [
    "There's a mmissing contact on the gifts table"
   ]
  },
  {
   "cell_type": "code",
   "execution_count": null,
   "id": "68b2b122",
   "metadata": {},
   "outputs": [
    {
     "data": {
      "text/plain": [
       "True"
      ]
     },
     "execution_count": null,
     "metadata": {},
     "output_type": "execute_result"
    }
   ],
   "source": [
    "#| hide\n",
    "(~gifts.DonorNumber.isin(contacts.Number.unique())).any()"
   ]
  },
  {
   "cell_type": "code",
   "execution_count": null,
   "id": "b202d42d",
   "metadata": {},
   "outputs": [
    {
     "data": {
      "text/plain": [
       "False"
      ]
     },
     "execution_count": null,
     "metadata": {},
     "output_type": "execute_result"
    }
   ],
   "source": [
    "#| hide\n",
    "(~contact_methods.DonorNumber.isin(contacts.Number.unique())).any()"
   ]
  },
  {
   "cell_type": "code",
   "execution_count": null,
   "id": "08df5c73",
   "metadata": {},
   "outputs": [],
   "source": [
    "#| export\n",
    "donors_not_in_contacts = gifts.loc[~gifts.DonorNumber.isin(contacts.Number.unique()), :]"
   ]
  },
  {
   "cell_type": "code",
   "execution_count": null,
   "id": "45e4640e",
   "metadata": {},
   "outputs": [
    {
     "data": {
      "text/html": [
       "<div>\n",
       "<style scoped>\n",
       "    .dataframe tbody tr th:only-of-type {\n",
       "        vertical-align: middle;\n",
       "    }\n",
       "\n",
       "    .dataframe tbody tr th {\n",
       "        vertical-align: top;\n",
       "    }\n",
       "\n",
       "    .dataframe thead th {\n",
       "        text-align: right;\n",
       "    }\n",
       "</style>\n",
       "<table border=\"1\" class=\"dataframe\">\n",
       "  <thead>\n",
       "    <tr style=\"text-align: right;\">\n",
       "      <th></th>\n",
       "      <th>DonorNumber</th>\n",
       "      <th>GiftId</th>\n",
       "      <th>FirstName</th>\n",
       "      <th>LastName</th>\n",
       "      <th>AmountReceived</th>\n",
       "      <th>Date</th>\n",
       "      <th>FundId</th>\n",
       "      <th>CreditCardType</th>\n",
       "      <th>PaymentMethod</th>\n",
       "      <th>PledgeNumber</th>\n",
       "      <th>Notes</th>\n",
       "    </tr>\n",
       "  </thead>\n",
       "  <tbody>\n",
       "    <tr>\n",
       "      <th>9</th>\n",
       "      <td>809975531-Y</td>\n",
       "      <td>0</td>\n",
       "      <td>Adeline</td>\n",
       "      <td>Shakespeare</td>\n",
       "      <td>8.48</td>\n",
       "      <td>8/14/2019</td>\n",
       "      <td></td>\n",
       "      <td>AMEX</td>\n",
       "      <td>credit card</td>\n",
       "      <td>0</td>\n",
       "      <td></td>\n",
       "    </tr>\n",
       "    <tr>\n",
       "      <th>27</th>\n",
       "      <td>809975531-Y</td>\n",
       "      <td>0</td>\n",
       "      <td>Adeline</td>\n",
       "      <td>Shakespeare</td>\n",
       "      <td>7.58</td>\n",
       "      <td>8/14/2019</td>\n",
       "      <td>Color run, ChildSponsorship</td>\n",
       "      <td>Mastercard</td>\n",
       "      <td>credit card</td>\n",
       "      <td>0</td>\n",
       "      <td></td>\n",
       "    </tr>\n",
       "  </tbody>\n",
       "</table>\n",
       "</div>"
      ],
      "text/plain": [
       "    DonorNumber  GiftId FirstName     LastName  AmountReceived       Date  \\\n",
       "9   809975531-Y       0   Adeline  Shakespeare            8.48  8/14/2019   \n",
       "27  809975531-Y       0   Adeline  Shakespeare            7.58  8/14/2019   \n",
       "\n",
       "                         FundId CreditCardType PaymentMethod  PledgeNumber  \\\n",
       "9                                         AMEX   credit card             0   \n",
       "27  Color run, ChildSponsorship     Mastercard   credit card             0   \n",
       "\n",
       "   Notes  \n",
       "9         \n",
       "27        "
      ]
     },
     "execution_count": null,
     "metadata": {},
     "output_type": "execute_result"
    }
   ],
   "source": [
    "#| hide\n",
    "donors_not_in_contacts"
   ]
  },
  {
   "cell_type": "markdown",
   "id": "44098fd5",
   "metadata": {},
   "source": [
    "Adding to contacts"
   ]
  },
  {
   "cell_type": "code",
   "execution_count": null,
   "id": "00a1fb50",
   "metadata": {},
   "outputs": [],
   "source": [
    "#| export\n",
    "contacts = pd.concat([contacts,\n",
    "    pd.DataFrame(donors_not_in_contacts[['DonorNumber', 'FirstName', 'LastName']].drop_duplicates()\n",
    "    .rename(columns={'DonorNumber': 'Number'})\n",
    "    .drop_duplicates()\n",
    "    .to_dict('records'))\n",
    "])"
   ]
  },
  {
   "cell_type": "markdown",
   "id": "1be8e740",
   "metadata": {},
   "source": [
    "Spliting rows with 2 people in the first name column"
   ]
  },
  {
   "cell_type": "code",
   "execution_count": null,
   "id": "79402d08",
   "metadata": {},
   "outputs": [
    {
     "data": {
      "text/plain": [
       "0    Karita & Kelvin\n",
       "Name: FirstName, dtype: object"
      ]
     },
     "execution_count": null,
     "metadata": {},
     "output_type": "execute_result"
    }
   ],
   "source": [
    "#| hide\n",
    "contacts.FirstName.head(1)"
   ]
  },
  {
   "cell_type": "markdown",
   "id": "65f8bd34",
   "metadata": {},
   "source": [
    "Split the names on ' & ' or ' and ', then expand the resulting lists into new rows"
   ]
  },
  {
   "cell_type": "code",
   "execution_count": null,
   "id": "8f4ac5b4",
   "metadata": {},
   "outputs": [],
   "source": [
    "#| export\n",
    "contacts[['FirstName', 'SecondaryFirstName']] = contacts['FirstName'].str.split(' & | and ', expand=True).fillna('')"
   ]
  },
  {
   "cell_type": "code",
   "execution_count": null,
   "id": "540d35c8",
   "metadata": {},
   "outputs": [],
   "source": [
    "#| export\n",
    "records_to_join = contacts.loc[contacts.Number.duplicated(), :].to_dict(orient='records')"
   ]
  },
  {
   "cell_type": "code",
   "execution_count": null,
   "id": "c91e7d17",
   "metadata": {},
   "outputs": [],
   "source": [
    "#| export\n",
    "contacts = contacts.loc[~contacts.Number.duplicated(), :]"
   ]
  },
  {
   "cell_type": "code",
   "execution_count": null,
   "id": "dd0ab511",
   "metadata": {},
   "outputs": [],
   "source": [
    "#| export\n",
    "for record in records_to_join:\n",
    "    contacts.loc[contacts.Number.isin([record['Number']]), ['SecondaryFirstName', 'SecondaryLastName']] = [record['FirstName'], record['LastName']]"
   ]
  },
  {
   "cell_type": "code",
   "execution_count": null,
   "id": "260daf1b",
   "metadata": {},
   "outputs": [],
   "source": [
    "#| export\n",
    "contacts[['LegacyIndividualId', 'SecondaryLegacyIndividualId']] = None"
   ]
  },
  {
   "cell_type": "code",
   "execution_count": null,
   "id": "f116e758",
   "metadata": {},
   "outputs": [],
   "source": [
    "#| export\n",
    "contacts.reset_index(inplace=True, drop=True)"
   ]
  },
  {
   "cell_type": "markdown",
   "id": "7b13a778",
   "metadata": {},
   "source": [
    "Adding id since none was provided"
   ]
  },
  {
   "cell_type": "code",
   "execution_count": null,
   "id": "6e2d5b2f",
   "metadata": {},
   "outputs": [],
   "source": [
    "#| export\n",
    "id = 0\n",
    "for index, row in contacts.iterrows():\n",
    "    contacts.loc[index, 'LegacyIndividualId'] = id\n",
    "    id += 1\n",
    "    if row['SecondaryFirstName'] != '':\n",
    "        contacts.loc[index, 'SecondaryLegacyIndividualId'] = id\n",
    "        id += 1\n"
   ]
  },
  {
   "cell_type": "code",
   "execution_count": null,
   "id": "e458a486",
   "metadata": {},
   "outputs": [],
   "source": [
    "#| export\n",
    "contacts.fillna('', inplace=True)"
   ]
  },
  {
   "cell_type": "markdown",
   "id": "cb579fc1",
   "metadata": {},
   "source": [
    "Adding Secondary Last Name for the appropriate users"
   ]
  },
  {
   "cell_type": "code",
   "execution_count": null,
   "id": "7d7a64fd",
   "metadata": {},
   "outputs": [],
   "source": [
    "contacts['SecondaryLastName'] = contacts.apply(lambda x: x['LastName'] if x['SecondaryLastName'] == '' and x['SecondaryFirstName'] != '' else x['SecondaryLastName'], axis=1)"
   ]
  },
  {
   "cell_type": "markdown",
   "id": "4cdfc67c",
   "metadata": {},
   "source": [
    "## Housekeeping 5\n",
    "> Cleaning Records with blank first or last names"
   ]
  },
  {
   "cell_type": "markdown",
   "id": "5d3d417c",
   "metadata": {},
   "source": [
    "Checking for records where FirstName  and/or LastName are blank\n"
   ]
  },
  {
   "cell_type": "code",
   "execution_count": null,
   "id": "59e8730e",
   "metadata": {},
   "outputs": [],
   "source": [
    "#| export\n",
    "blank_name_records = ((contacts.FirstName == '') | (contacts.LastName == ''))"
   ]
  },
  {
   "cell_type": "markdown",
   "id": "e5ea2d0f",
   "metadata": {},
   "source": [
    "Previewing the blank name records"
   ]
  },
  {
   "cell_type": "code",
   "execution_count": null,
   "id": "d2f187f6",
   "metadata": {},
   "outputs": [
    {
     "data": {
      "text/html": [
       "<div>\n",
       "<style scoped>\n",
       "    .dataframe tbody tr th:only-of-type {\n",
       "        vertical-align: middle;\n",
       "    }\n",
       "\n",
       "    .dataframe tbody tr th {\n",
       "        vertical-align: top;\n",
       "    }\n",
       "\n",
       "    .dataframe thead th {\n",
       "        text-align: right;\n",
       "    }\n",
       "</style>\n",
       "<table border=\"1\" class=\"dataframe\">\n",
       "  <thead>\n",
       "    <tr style=\"text-align: right;\">\n",
       "      <th></th>\n",
       "      <th>Number</th>\n",
       "      <th>CompanyName</th>\n",
       "      <th>FirstName</th>\n",
       "      <th>LastName</th>\n",
       "      <th>Street</th>\n",
       "      <th>City</th>\n",
       "      <th>State</th>\n",
       "      <th>Postal</th>\n",
       "      <th>Phone</th>\n",
       "      <th>EMail</th>\n",
       "      <th>Remarks</th>\n",
       "      <th>Deceased</th>\n",
       "      <th>SecondaryFirstName</th>\n",
       "      <th>SecondaryLastName</th>\n",
       "      <th>LegacyIndividualId</th>\n",
       "      <th>SecondaryLegacyIndividualId</th>\n",
       "    </tr>\n",
       "  </thead>\n",
       "  <tbody>\n",
       "    <tr>\n",
       "      <th>2</th>\n",
       "      <td>093004505-X</td>\n",
       "      <td></td>\n",
       "      <td>Masha</td>\n",
       "      <td></td>\n",
       "      <td>353 Schmedeman Park</td>\n",
       "      <td>Indianapolis</td>\n",
       "      <td>IN</td>\n",
       "      <td></td>\n",
       "      <td>577-374-96523</td>\n",
       "      <td></td>\n",
       "      <td></td>\n",
       "      <td></td>\n",
       "      <td></td>\n",
       "      <td></td>\n",
       "      <td>3</td>\n",
       "      <td></td>\n",
       "    </tr>\n",
       "    <tr>\n",
       "      <th>3</th>\n",
       "      <td>729707142-0</td>\n",
       "      <td>A Company Co.</td>\n",
       "      <td></td>\n",
       "      <td></td>\n",
       "      <td>2055 Lakewood Parkway</td>\n",
       "      <td>Camden</td>\n",
       "      <td>NJ</td>\n",
       "      <td>8104</td>\n",
       "      <td></td>\n",
       "      <td></td>\n",
       "      <td></td>\n",
       "      <td>No</td>\n",
       "      <td></td>\n",
       "      <td></td>\n",
       "      <td>4</td>\n",
       "      <td></td>\n",
       "    </tr>\n",
       "    <tr>\n",
       "      <th>7</th>\n",
       "      <td>029456846-8</td>\n",
       "      <td></td>\n",
       "      <td></td>\n",
       "      <td></td>\n",
       "      <td>608 Old Shore Alley</td>\n",
       "      <td>Marietta</td>\n",
       "      <td>GA</td>\n",
       "      <td>30066</td>\n",
       "      <td></td>\n",
       "      <td>jdoley6@telegraph.co.uk</td>\n",
       "      <td></td>\n",
       "      <td></td>\n",
       "      <td></td>\n",
       "      <td></td>\n",
       "      <td>9</td>\n",
       "      <td></td>\n",
       "    </tr>\n",
       "  </tbody>\n",
       "</table>\n",
       "</div>"
      ],
      "text/plain": [
       "        Number    CompanyName FirstName LastName                 Street  \\\n",
       "2  093004505-X                    Masha             353 Schmedeman Park   \n",
       "3  729707142-0  A Company Co.                     2055 Lakewood Parkway   \n",
       "7  029456846-8                                      608 Old Shore Alley   \n",
       "\n",
       "           City State Postal          Phone                    EMail Remarks  \\\n",
       "2  Indianapolis    IN         577-374-96523                                    \n",
       "3        Camden    NJ   8104                                                   \n",
       "7      Marietta    GA  30066                 jdoley6@telegraph.co.uk           \n",
       "\n",
       "  Deceased SecondaryFirstName SecondaryLastName LegacyIndividualId  \\\n",
       "2                                                                3   \n",
       "3       No                                                       4   \n",
       "7                                                                9   \n",
       "\n",
       "  SecondaryLegacyIndividualId  \n",
       "2                              \n",
       "3                              \n",
       "7                              "
      ]
     },
     "execution_count": null,
     "metadata": {},
     "output_type": "execute_result"
    }
   ],
   "source": [
    "contacts.loc[((contacts.FirstName == '') | (contacts.LastName == '')), :]"
   ]
  },
  {
   "cell_type": "markdown",
   "id": "c1901bb5",
   "metadata": {},
   "source": [
    "Before I delete the records I'm going to check if the names are present on the gift table <br>\n",
    "<br>\n",
    "I'm going to start by getting the unique Numbers that the records belong too"
   ]
  },
  {
   "cell_type": "code",
   "execution_count": null,
   "id": "ba45d7ce",
   "metadata": {},
   "outputs": [],
   "source": [
    "#| export\n",
    "blank_name_numbers= contacts.loc[blank_name_records, 'Number']"
   ]
  },
  {
   "cell_type": "markdown",
   "id": "d7d8f2fc",
   "metadata": {},
   "source": [
    "The names are present on the gifts table!"
   ]
  },
  {
   "cell_type": "code",
   "execution_count": null,
   "id": "9dc9e566",
   "metadata": {},
   "outputs": [],
   "source": [
    "#| export\n",
    "gift_name_records = gifts.loc[gifts.DonorNumber.isin(blank_name_numbers), ['DonorNumber', 'FirstName', 'LastName']].drop_duplicates()"
   ]
  },
  {
   "cell_type": "markdown",
   "id": "17354a3e",
   "metadata": {},
   "source": [
    "I'm going to save to a variable, remove the invalid record, and then update the contacts table"
   ]
  },
  {
   "cell_type": "code",
   "execution_count": null,
   "id": "a0de1679",
   "metadata": {},
   "outputs": [
    {
     "data": {
      "text/html": [
       "<div>\n",
       "<style scoped>\n",
       "    .dataframe tbody tr th:only-of-type {\n",
       "        vertical-align: middle;\n",
       "    }\n",
       "\n",
       "    .dataframe tbody tr th {\n",
       "        vertical-align: top;\n",
       "    }\n",
       "\n",
       "    .dataframe thead th {\n",
       "        text-align: right;\n",
       "    }\n",
       "</style>\n",
       "<table border=\"1\" class=\"dataframe\">\n",
       "  <thead>\n",
       "    <tr style=\"text-align: right;\">\n",
       "      <th></th>\n",
       "      <th>DonorNumber</th>\n",
       "      <th>FirstName</th>\n",
       "      <th>LastName</th>\n",
       "    </tr>\n",
       "  </thead>\n",
       "  <tbody>\n",
       "    <tr>\n",
       "      <th>1</th>\n",
       "      <td>729707142-0</td>\n",
       "      <td>Cymbre</td>\n",
       "      <td>Cross</td>\n",
       "    </tr>\n",
       "    <tr>\n",
       "      <th>6</th>\n",
       "      <td>029456846-8</td>\n",
       "      <td>Romy</td>\n",
       "      <td>Doley</td>\n",
       "    </tr>\n",
       "    <tr>\n",
       "      <th>7</th>\n",
       "      <td>093004505-X</td>\n",
       "      <td>Masha</td>\n",
       "      <td>Butt Gow</td>\n",
       "    </tr>\n",
       "  </tbody>\n",
       "</table>\n",
       "</div>"
      ],
      "text/plain": [
       "   DonorNumber FirstName  LastName\n",
       "1  729707142-0    Cymbre     Cross\n",
       "6  029456846-8      Romy     Doley\n",
       "7  093004505-X     Masha  Butt Gow"
      ]
     },
     "execution_count": null,
     "metadata": {},
     "output_type": "execute_result"
    }
   ],
   "source": [
    "#| export\n",
    "gift_name_records = gift_name_records.loc[((gift_name_records.FirstName != '') & (gift_name_records.LastName != '')), :]\n",
    "gift_name_records"
   ]
  },
  {
   "cell_type": "markdown",
   "id": "d47ebcec",
   "metadata": {},
   "source": [
    "Updating the records that previousuly had a blank first or last name"
   ]
  },
  {
   "cell_type": "code",
   "execution_count": null,
   "id": "8f004cc4",
   "metadata": {},
   "outputs": [],
   "source": [
    "#| export\n",
    "for _, row in gift_name_records.iterrows():\n",
    "    contacts.loc[contacts['Number'] == row['DonorNumber'], ['FirstName', 'LastName']] = [row['FirstName'], row['LastName']]"
   ]
  },
  {
   "cell_type": "markdown",
   "id": "2eb84bd4",
   "metadata": {},
   "source": [
    "All the records now have valid names"
   ]
  },
  {
   "cell_type": "code",
   "execution_count": null,
   "id": "9761e560",
   "metadata": {},
   "outputs": [
    {
     "data": {
      "text/html": [
       "<div>\n",
       "<style scoped>\n",
       "    .dataframe tbody tr th:only-of-type {\n",
       "        vertical-align: middle;\n",
       "    }\n",
       "\n",
       "    .dataframe tbody tr th {\n",
       "        vertical-align: top;\n",
       "    }\n",
       "\n",
       "    .dataframe thead th {\n",
       "        text-align: right;\n",
       "    }\n",
       "</style>\n",
       "<table border=\"1\" class=\"dataframe\">\n",
       "  <thead>\n",
       "    <tr style=\"text-align: right;\">\n",
       "      <th></th>\n",
       "      <th>Number</th>\n",
       "      <th>CompanyName</th>\n",
       "      <th>FirstName</th>\n",
       "      <th>LastName</th>\n",
       "      <th>Street</th>\n",
       "      <th>City</th>\n",
       "      <th>State</th>\n",
       "      <th>Postal</th>\n",
       "      <th>Phone</th>\n",
       "      <th>EMail</th>\n",
       "      <th>Remarks</th>\n",
       "      <th>Deceased</th>\n",
       "      <th>SecondaryFirstName</th>\n",
       "      <th>SecondaryLastName</th>\n",
       "      <th>LegacyIndividualId</th>\n",
       "      <th>SecondaryLegacyIndividualId</th>\n",
       "    </tr>\n",
       "  </thead>\n",
       "  <tbody>\n",
       "    <tr>\n",
       "      <th>2</th>\n",
       "      <td>093004505-X</td>\n",
       "      <td></td>\n",
       "      <td>Masha</td>\n",
       "      <td>Butt Gow</td>\n",
       "      <td>353 Schmedeman Park</td>\n",
       "      <td>Indianapolis</td>\n",
       "      <td>IN</td>\n",
       "      <td></td>\n",
       "      <td>577-374-96523</td>\n",
       "      <td></td>\n",
       "      <td></td>\n",
       "      <td></td>\n",
       "      <td></td>\n",
       "      <td></td>\n",
       "      <td>3</td>\n",
       "      <td></td>\n",
       "    </tr>\n",
       "    <tr>\n",
       "      <th>3</th>\n",
       "      <td>729707142-0</td>\n",
       "      <td>A Company Co.</td>\n",
       "      <td>Cymbre</td>\n",
       "      <td>Cross</td>\n",
       "      <td>2055 Lakewood Parkway</td>\n",
       "      <td>Camden</td>\n",
       "      <td>NJ</td>\n",
       "      <td>8104</td>\n",
       "      <td></td>\n",
       "      <td></td>\n",
       "      <td></td>\n",
       "      <td>No</td>\n",
       "      <td></td>\n",
       "      <td></td>\n",
       "      <td>4</td>\n",
       "      <td></td>\n",
       "    </tr>\n",
       "    <tr>\n",
       "      <th>7</th>\n",
       "      <td>029456846-8</td>\n",
       "      <td></td>\n",
       "      <td>Romy</td>\n",
       "      <td>Doley</td>\n",
       "      <td>608 Old Shore Alley</td>\n",
       "      <td>Marietta</td>\n",
       "      <td>GA</td>\n",
       "      <td>30066</td>\n",
       "      <td></td>\n",
       "      <td>jdoley6@telegraph.co.uk</td>\n",
       "      <td></td>\n",
       "      <td></td>\n",
       "      <td></td>\n",
       "      <td></td>\n",
       "      <td>9</td>\n",
       "      <td></td>\n",
       "    </tr>\n",
       "  </tbody>\n",
       "</table>\n",
       "</div>"
      ],
      "text/plain": [
       "        Number    CompanyName FirstName  LastName                 Street  \\\n",
       "2  093004505-X                    Masha  Butt Gow    353 Schmedeman Park   \n",
       "3  729707142-0  A Company Co.    Cymbre     Cross  2055 Lakewood Parkway   \n",
       "7  029456846-8                     Romy     Doley    608 Old Shore Alley   \n",
       "\n",
       "           City State Postal          Phone                    EMail Remarks  \\\n",
       "2  Indianapolis    IN         577-374-96523                                    \n",
       "3        Camden    NJ   8104                                                   \n",
       "7      Marietta    GA  30066                 jdoley6@telegraph.co.uk           \n",
       "\n",
       "  Deceased SecondaryFirstName SecondaryLastName LegacyIndividualId  \\\n",
       "2                                                                3   \n",
       "3       No                                                       4   \n",
       "7                                                                9   \n",
       "\n",
       "  SecondaryLegacyIndividualId  \n",
       "2                              \n",
       "3                              \n",
       "7                              "
      ]
     },
     "execution_count": null,
     "metadata": {},
     "output_type": "execute_result"
    }
   ],
   "source": [
    "contacts.loc[blank_name_records, :]"
   ]
  },
  {
   "cell_type": "markdown",
   "id": "bce97e03",
   "metadata": {},
   "source": [
    "## Housekeeping 6\n",
    "> Splitting Project Codes"
   ]
  },
  {
   "cell_type": "code",
   "execution_count": null,
   "id": "6180eee2",
   "metadata": {},
   "outputs": [],
   "source": [
    "#| export\n",
    "project_codes = gifts.FundId.str.split(', ', expand=True)"
   ]
  },
  {
   "cell_type": "code",
   "execution_count": null,
   "id": "fb96668e",
   "metadata": {},
   "outputs": [
    {
     "data": {
      "text/html": [
       "<div>\n",
       "<style scoped>\n",
       "    .dataframe tbody tr th:only-of-type {\n",
       "        vertical-align: middle;\n",
       "    }\n",
       "\n",
       "    .dataframe tbody tr th {\n",
       "        vertical-align: top;\n",
       "    }\n",
       "\n",
       "    .dataframe thead th {\n",
       "        text-align: right;\n",
       "    }\n",
       "</style>\n",
       "<table border=\"1\" class=\"dataframe\">\n",
       "  <thead>\n",
       "    <tr style=\"text-align: right;\">\n",
       "      <th></th>\n",
       "      <th>0</th>\n",
       "      <th>1</th>\n",
       "    </tr>\n",
       "  </thead>\n",
       "  <tbody>\n",
       "    <tr>\n",
       "      <th>0</th>\n",
       "      <td></td>\n",
       "      <td>None</td>\n",
       "    </tr>\n",
       "    <tr>\n",
       "      <th>1</th>\n",
       "      <td>ChildSponsorship</td>\n",
       "      <td>None</td>\n",
       "    </tr>\n",
       "    <tr>\n",
       "      <th>2</th>\n",
       "      <td></td>\n",
       "      <td>None</td>\n",
       "    </tr>\n",
       "  </tbody>\n",
       "</table>\n",
       "</div>"
      ],
      "text/plain": [
       "                  0     1\n",
       "0                    None\n",
       "1  ChildSponsorship  None\n",
       "2                    None"
      ]
     },
     "execution_count": null,
     "metadata": {},
     "output_type": "execute_result"
    }
   ],
   "source": [
    "#| export\n",
    "project_codes.head(3)"
   ]
  },
  {
   "cell_type": "code",
   "execution_count": null,
   "id": "08da3fdd",
   "metadata": {},
   "outputs": [],
   "source": [
    "#| export\n",
    "gifts[['Project1Code', 'Project2Code']] = project_codes"
   ]
  },
  {
   "cell_type": "code",
   "execution_count": null,
   "id": "87294f48",
   "metadata": {},
   "outputs": [],
   "source": [
    "#| export\n",
    "gifts = gifts.loc[:, gifts.columns.drop('FundId')].copy()"
   ]
  },
  {
   "cell_type": "markdown",
   "id": "0fd03c2e",
   "metadata": {},
   "source": [
    "## Housekeeping 7\n",
    "> Formating date"
   ]
  },
  {
   "cell_type": "code",
   "execution_count": null,
   "id": "ac831481",
   "metadata": {},
   "outputs": [
    {
     "data": {
      "text/plain": [
       "0       3/4/2019\n",
       "1       3/5/2019\n",
       "2       3/7/2019\n",
       "3      3/10/2019\n",
       "4      2019/1/10\n",
       "5      3/20/2019\n",
       "6      3/24/2019\n",
       "7       4/9/2019\n",
       "8      4/12/2019\n",
       "9      8/14/2019\n",
       "10     4/13/2019\n",
       "11     4/13/2019\n",
       "12     4/17/2019\n",
       "13     4/19/2019\n",
       "14     5/10/2019\n",
       "15      6/4/2019\n",
       "16      6/5/2019\n",
       "17    2019/06/10\n",
       "18     6/11/2019\n",
       "19     6/20/2019\n",
       "20     6/20/2019\n",
       "21      7/1/2019\n",
       "22     7/18/2019\n",
       "23    2019/07/01\n",
       "24      8/1/2019\n",
       "25      8/3/2019\n",
       "26     8/12/2019\n",
       "27     8/14/2019\n",
       "28     8/26/2019\n",
       "29      9/1/2019\n",
       "30      9/6/2019\n",
       "Name: Date, dtype: object"
      ]
     },
     "execution_count": null,
     "metadata": {},
     "output_type": "execute_result"
    }
   ],
   "source": [
    "df['Date']"
   ]
  },
  {
   "cell_type": "markdown",
   "id": "2d2db0da",
   "metadata": {},
   "source": [
    "Since Dates are in different formats I'm going to create a custom parser"
   ]
  },
  {
   "cell_type": "code",
   "execution_count": null,
   "id": "bbb4f0ab",
   "metadata": {},
   "outputs": [],
   "source": [
    "#| export\n",
    "from datetime import datetime\n",
    "def custom_parser(date_str):\n",
    "    try:\n",
    "        return datetime.strptime(date_str, '%m/%d/%Y')\n",
    "    except ValueError:\n",
    "        return datetime.strptime(date_str, '%Y/%m/%d')\n",
    "gifts['GiftDate'] = gifts['Date'].apply(custom_parser)\n",
    "gifts = gifts.loc[:, gifts.columns.drop('Date')].copy()"
   ]
  },
  {
   "cell_type": "markdown",
   "id": "b5403375",
   "metadata": {},
   "source": [
    "## Housekeeping 8\n",
    "> Pledge ID <br>\n",
    "<br>\n",
    "\n",
    "Fix pledge ID by duplicate values with a unique id"
   ]
  },
  {
   "cell_type": "code",
   "execution_count": null,
   "id": "4beb4017",
   "metadata": {},
   "outputs": [
    {
     "data": {
      "text/plain": [
       "array([       0, 89752384, 57398862, 65139856])"
      ]
     },
     "execution_count": null,
     "metadata": {},
     "output_type": "execute_result"
    }
   ],
   "source": [
    "#| hide\n",
    "gifts.PledgeNumber.unique()"
   ]
  },
  {
   "cell_type": "code",
   "execution_count": null,
   "id": "6a3d8333",
   "metadata": {},
   "outputs": [],
   "source": [
    "#| export\n",
    "gifts.loc[ gifts.PledgeNumber == 0, 'PledgeNumber'] = gifts[gifts.PledgeNumber == 0].index"
   ]
  },
  {
   "cell_type": "code",
   "execution_count": null,
   "id": "2a67ec8e",
   "metadata": {},
   "outputs": [],
   "source": [
    "#| export\n",
    "gifts = gifts.rename(columns={'PledgeNumber': 'LegacyPledgeID'})"
   ]
  },
  {
   "cell_type": "markdown",
   "id": "b9a39345",
   "metadata": {},
   "source": [
    "# Export"
   ]
  },
  {
   "cell_type": "code",
   "execution_count": null,
   "id": "1aba47e6-5b61-4914-880f-0f07b9e1e088",
   "metadata": {},
   "outputs": [],
   "source": [
    "#| hide\n",
    "import nbdev\n",
    "nbdev.nbdev_export('00_Setup.ipynb')"
   ]
  },
  {
   "cell_type": "code",
   "execution_count": null,
   "id": "7d6655ac",
   "metadata": {},
   "outputs": [],
   "source": [
    "#| hide\n",
    "nbdev.nbdev_export('00_Setup.ipynb')"
   ]
  },
  {
   "cell_type": "markdown",
   "id": "ecd30361-06b8-4de2-92f4-8a7a1c2a0ee1",
   "metadata": {},
   "source": [
    "<br>"
   ]
  }
 ],
 "metadata": {
  "kernelspec": {
   "display_name": "Python 3 (ipykernel)",
   "language": "python",
   "name": "python3"
  }
 },
 "nbformat": 4,
 "nbformat_minor": 5
}
